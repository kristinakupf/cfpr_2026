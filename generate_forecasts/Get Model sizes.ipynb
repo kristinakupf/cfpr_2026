{
 "cells": [
  {
   "cell_type": "code",
   "execution_count": 11,
   "id": "italic-agent",
   "metadata": {},
   "outputs": [
    {
     "name": "stdout",
     "output_type": "stream",
     "text": [
      "Defaulting to user installation because normal site-packages is not writeable\n",
      "Requirement already satisfied: gluonts[torch] in /fs01/home/kupfersk/.local/lib/python3.7/site-packages (0.9.10)\n",
      "\u001b[33mWARNING: gluonts 0.9.10 does not provide the extra 'torch'\u001b[0m\n",
      "Requirement already satisfied: tqdm~=4.23 in /fs01/home/kupfersk/.local/lib/python3.7/site-packages (from gluonts[torch]) (4.64.1)\n",
      "Requirement already satisfied: pandas~=1.0 in /fs01/home/kupfersk/.local/lib/python3.7/site-packages (from gluonts[torch]) (1.3.0)\n",
      "Requirement already satisfied: typing-extensions~=4.0 in /fs01/home/kupfersk/.local/lib/python3.7/site-packages (from gluonts[torch]) (4.4.0)\n",
      "Requirement already satisfied: holidays>=0.9 in /fs01/home/kupfersk/.local/lib/python3.7/site-packages (from gluonts[torch]) (0.24)\n",
      "Requirement already satisfied: toolz~=0.10 in /fs01/home/kupfersk/.local/lib/python3.7/site-packages (from gluonts[torch]) (0.12.0)\n",
      "Requirement already satisfied: numpy~=1.16 in /fs01/home/kupfersk/.local/lib/python3.7/site-packages (from gluonts[torch]) (1.21.0)\n",
      "Requirement already satisfied: pydantic~=1.1 in /fs01/home/kupfersk/.local/lib/python3.7/site-packages (from gluonts[torch]) (1.10.2)\n",
      "Requirement already satisfied: matplotlib~=3.0 in /fs01/home/kupfersk/.local/lib/python3.7/site-packages (from gluonts[torch]) (3.4.2)\n",
      "Requirement already satisfied: python-dateutil in /fs01/pkgs/jupyterhub/lib/python3.7/site-packages (from holidays>=0.9->gluonts[torch]) (2.8.1)\n",
      "Requirement already satisfied: hijri-converter in /fs01/home/kupfersk/.local/lib/python3.7/site-packages (from holidays>=0.9->gluonts[torch]) (2.1.3)\n",
      "Requirement already satisfied: korean-lunar-calendar in /fs01/home/kupfersk/.local/lib/python3.7/site-packages (from holidays>=0.9->gluonts[torch]) (0.2.1)\n",
      "Requirement already satisfied: pillow>=6.2.0 in /fs01/home/kupfersk/.local/lib/python3.7/site-packages (from matplotlib~=3.0->gluonts[torch]) (9.0.1)\n",
      "Requirement already satisfied: kiwisolver>=1.0.1 in /fs01/home/kupfersk/.local/lib/python3.7/site-packages (from matplotlib~=3.0->gluonts[torch]) (1.3.1)\n",
      "Requirement already satisfied: cycler>=0.10 in /fs01/home/kupfersk/.local/lib/python3.7/site-packages (from matplotlib~=3.0->gluonts[torch]) (0.10.0)\n",
      "Requirement already satisfied: pyparsing>=2.2.1 in /fs01/pkgs/jupyterhub/lib/python3.7/site-packages (from matplotlib~=3.0->gluonts[torch]) (2.4.7)\n",
      "Requirement already satisfied: six in /fs01/pkgs/jupyterhub/lib/python3.7/site-packages (from cycler>=0.10->matplotlib~=3.0->gluonts[torch]) (1.15.0)\n",
      "Requirement already satisfied: pytz>=2017.3 in /fs01/pkgs/jupyterhub/lib/python3.7/site-packages (from pandas~=1.0->gluonts[torch]) (2021.1)\n"
     ]
    }
   ],
   "source": [
    "!pip install \"gluonts[torch]\"\n",
    "\n"
   ]
  },
  {
   "cell_type": "code",
   "execution_count": 14,
   "id": "prospective-supervisor",
   "metadata": {},
   "outputs": [],
   "source": [
    "%matplotlib inline\n",
    "import numpy as np\n",
    "import pandas as pd\n",
    "import matplotlib.pyplot as plt\n",
    "import json\n",
    "import gluonts\n"
   ]
  },
  {
   "cell_type": "code",
   "execution_count": 15,
   "id": "second-updating",
   "metadata": {},
   "outputs": [
    {
     "ename": "AttributeError",
     "evalue": "module 'gluonts.torch.model' has no attribute 'tft'",
     "output_type": "error",
     "traceback": [
      "\u001b[0;31m---------------------------------------------------------------------------\u001b[0m",
      "\u001b[0;31mAttributeError\u001b[0m                            Traceback (most recent call last)",
      "\u001b[0;32m/tmp/ipykernel_3600/3760335389.py\u001b[0m in \u001b[0;36m<module>\u001b[0;34m\u001b[0m\n\u001b[0;32m----> 1\u001b[0;31m estimator = gluonts.torch.model.tft.estimator(\n\u001b[0m\u001b[1;32m      2\u001b[0m     \u001b[0mnum_hidden_dimensions\u001b[0m\u001b[0;34m=\u001b[0m\u001b[0;34m[\u001b[0m\u001b[0;36m10\u001b[0m\u001b[0;34m]\u001b[0m\u001b[0;34m,\u001b[0m\u001b[0;34m\u001b[0m\u001b[0;34m\u001b[0m\u001b[0m\n\u001b[1;32m      3\u001b[0m     \u001b[0mprediction_length\u001b[0m\u001b[0;34m=\u001b[0m\u001b[0mdataset\u001b[0m\u001b[0;34m.\u001b[0m\u001b[0mmetadata\u001b[0m\u001b[0;34m.\u001b[0m\u001b[0mprediction_length\u001b[0m\u001b[0;34m,\u001b[0m\u001b[0;34m\u001b[0m\u001b[0;34m\u001b[0m\u001b[0m\n\u001b[1;32m      4\u001b[0m     \u001b[0mcontext_length\u001b[0m\u001b[0;34m=\u001b[0m\u001b[0;36m100\u001b[0m\u001b[0;34m,\u001b[0m\u001b[0;34m\u001b[0m\u001b[0;34m\u001b[0m\u001b[0m\n\u001b[1;32m      5\u001b[0m     \u001b[0mtrainer\u001b[0m\u001b[0;34m=\u001b[0m\u001b[0mTrainer\u001b[0m\u001b[0;34m(\u001b[0m\u001b[0mctx\u001b[0m\u001b[0;34m=\u001b[0m\u001b[0;34m\"cpu\"\u001b[0m\u001b[0;34m,\u001b[0m \u001b[0mepochs\u001b[0m\u001b[0;34m=\u001b[0m\u001b[0;36m500\u001b[0m\u001b[0;34m,\u001b[0m \u001b[0mlearning_rate\u001b[0m\u001b[0;34m=\u001b[0m\u001b[0;36m1e-3\u001b[0m\u001b[0;34m,\u001b[0m \u001b[0mnum_batches_per_epoch\u001b[0m\u001b[0;34m=\u001b[0m\u001b[0;36m100\u001b[0m\u001b[0;34m)\u001b[0m\u001b[0;34m,\u001b[0m\u001b[0;34m\u001b[0m\u001b[0;34m\u001b[0m\u001b[0m\n",
      "\u001b[0;31mAttributeError\u001b[0m: module 'gluonts.torch.model' has no attribute 'tft'"
     ]
    }
   ],
   "source": [
    "\n",
    "estimator = gluonts.torch.model.tft.estimator(\n",
    "    num_hidden_dimensions=[10],\n",
    "    prediction_length=dataset.metadata.prediction_length,\n",
    "    context_length=100,\n",
    "    trainer=Trainer(ctx=\"cpu\", epochs=500, learning_rate=1e-3, num_batches_per_epoch=100),\n",
    ")\n"
   ]
  },
  {
   "cell_type": "code",
   "execution_count": 23,
   "id": "spare-playback",
   "metadata": {},
   "outputs": [
    {
     "name": "stdout",
     "output_type": "stream",
     "text": [
      "['__builtins__', '__cached__', '__doc__', '__file__', '__loader__', '__name__', '__package__', '__path__', '__spec__', 'extend_path', 'forecast', 'forecast_generator']\n"
     ]
    }
   ],
   "source": [
    "print(dir(gluonts.torch.model))\n"
   ]
  },
  {
   "cell_type": "code",
   "execution_count": null,
   "id": "sensitive-airport",
   "metadata": {},
   "outputs": [],
   "source": []
  }
 ],
 "metadata": {
  "kernelspec": {
   "display_name": "mh_env",
   "language": "python",
   "name": "mh_env"
  },
  "language_info": {
   "codemirror_mode": {
    "name": "ipython",
    "version": 3
   },
   "file_extension": ".py",
   "mimetype": "text/x-python",
   "name": "python",
   "nbconvert_exporter": "python",
   "pygments_lexer": "ipython3",
   "version": "3.7.10"
  }
 },
 "nbformat": 4,
 "nbformat_minor": 5
}
