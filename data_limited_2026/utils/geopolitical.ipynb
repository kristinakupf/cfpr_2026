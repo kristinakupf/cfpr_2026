{
 "cells": [
  {
   "cell_type": "code",
   "execution_count": 3,
   "id": "rational-monkey",
   "metadata": {},
   "outputs": [
    {
     "name": "stdout",
     "output_type": "stream",
     "text": [
      "✅ Cleaned Geopolitical data saved to: /h/kupfersk/cfpr_2026/data_limited_2026/Geopolitical_clean.csv\n",
      "📅 Date range: 2008-01-01 → 2025-08-01\n",
      "🧮 Rows: 212\n",
      "        Date      WUI\n",
      "0 2008-01-01  17245.1\n",
      "1 2008-02-01  16059.4\n",
      "2 2008-03-01  11945.0\n",
      "3 2008-04-01  14277.7\n",
      "4 2008-05-01  14969.4\n"
     ]
    }
   ],
   "source": [
    "import pandas as pd\n",
    "import os\n",
    "\n",
    "# === 1️⃣ Paths ===\n",
    "base_dir = \"/h/kupfersk/cfpr_2026/data_limited_2026/\"\n",
    "file_path = os.path.join(base_dir, \"utils/Geopolitical.csv\")\n",
    "output_path = os.path.join(base_dir, \"Geopolitical_clean.csv\")\n",
    "\n",
    "# === 2️⃣ Load the file ===\n",
    "df = pd.read_csv(file_path)\n",
    "\n",
    "# --- Ensure column names are standardized ---\n",
    "df.columns = [c.strip() for c in df.columns]\n",
    "\n",
    "# === 3️⃣ Clean date column ===\n",
    "if \"Date\" in df.columns:\n",
    "    df[\"Date\"] = pd.to_datetime(df[\"Date\"], errors=\"coerce\")\n",
    "else:\n",
    "    raise ValueError(\"❌ Expected a 'Date' column but did not find one.\")\n",
    "\n",
    "# === 4️⃣ Clean WUI column (remove commas, quotes, and make numeric) ===\n",
    "if \"WUI\" in df.columns:\n",
    "    df[\"WUI\"] = (\n",
    "        df[\"WUI\"]\n",
    "        .astype(str)\n",
    "        .str.replace(\",\", \"\", regex=False)\n",
    "        .str.replace('\"', \"\", regex=False)\n",
    "    )\n",
    "    df[\"WUI\"] = pd.to_numeric(df[\"WUI\"], errors=\"coerce\")\n",
    "else:\n",
    "    raise ValueError(\"❌ Expected a 'WUI' column but did not find one.\")\n",
    "\n",
    "# === 5️⃣ Drop rows without dates or values ===\n",
    "df = df.dropna(subset=[\"Date\", \"WUI\"])\n",
    "\n",
    "# === 6️⃣ Sort and reset ===\n",
    "df = df.sort_values(\"Date\").reset_index(drop=True)\n",
    "\n",
    "# === 7️⃣ Save cleaned version ===\n",
    "df.to_csv(output_path, index=False)\n",
    "\n",
    "print(f\"✅ Cleaned Geopolitical data saved to: {output_path}\")\n",
    "print(f\"📅 Date range: {df['Date'].min().date()} → {df['Date'].max().date()}\")\n",
    "print(f\"🧮 Rows: {len(df)}\")\n",
    "print(df.head())\n"
   ]
  },
  {
   "cell_type": "code",
   "execution_count": null,
   "id": "leading-creativity",
   "metadata": {},
   "outputs": [],
   "source": []
  }
 ],
 "metadata": {
  "kernelspec": {
   "display_name": "cfpr_2025_py3.8",
   "language": "python",
   "name": "cfpr_2025_py3.8"
  },
  "language_info": {
   "codemirror_mode": {
    "name": "ipython",
    "version": 3
   },
   "file_extension": ".py",
   "mimetype": "text/x-python",
   "name": "python",
   "nbconvert_exporter": "python",
   "pygments_lexer": "ipython3",
   "version": "3.8.20"
  }
 },
 "nbformat": 4,
 "nbformat_minor": 5
}
