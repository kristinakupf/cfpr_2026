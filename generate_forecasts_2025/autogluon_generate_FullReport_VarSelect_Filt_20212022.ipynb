{
 "cells": [
  {
   "cell_type": "code",
   "execution_count": 1,
   "metadata": {},
   "outputs": [],
   "source": [
    "from utils_experiment_1800 import (\n",
    "    load_data,\n",
    "    filter_data_exp_1,\n",
    "    AutoGluonProcessor,\n",
    "    fit_predictors_local,\n",
    "    fit_predictors_global,\n",
    "    get_model_list,\n",
    "    create_output_directories,\n",
    "    process_and_plot_forecasts,\n",
    ")"
   ]
  },
  {
   "cell_type": "code",
   "execution_count": 2,
   "metadata": {},
   "outputs": [
    {
     "name": "stdout",
     "output_type": "stream",
     "text": [
      "Is cuda available? True\n"
     ]
    },
    {
     "data": {
      "text/plain": [
       "'Tesla T4'"
      ]
     },
     "execution_count": 2,
     "metadata": {},
     "output_type": "execute_result"
    }
   ],
   "source": [
    "import torch\n",
    "print(\"Is cuda available? {}\".format(torch.cuda.is_available()))\n",
    "torch.cuda.get_device_name(torch.cuda.current_device())"
   ]
  },
  {
   "cell_type": "markdown",
   "metadata": {},
   "source": [
    "## Experiment 1 Details\n",
    "\n",
    "Experiment 1 serves as a baseline for comparing the effect of different window lengths for training. The data will be filtered to include only time series that are available in the time period. To investiage the effect of the time series by themselves, the number of covariates is kept constant across all time series and corresponds to the time series fully available from 1986. The specific time periods were chosen with the condition that between each interval, 5 or more new time series were introduced.\n",
    "\n",
    "| Time Period - 2024     | Maximum number of covariates | Number of covariates used |\n",
    "|--------------|:-----:| :-----:| \n",
    "| 1986 |   94  |   94  |  \n",
    "| 1997 |   111  |  94  |  \n",
    "| 2004 |   133  |   94  |  \n",
    "| 2007 |   146  |  94  |  \n",
    "| 2010 |   154  |  94  |  \n",
    "| 2018 |   159  |  94  |  \n",
    "\n",
    "\n",
    "The cut-off dates are set at 4 yearly intervals between 2020 and 2024. Since the minimum training length for a yearly interval is 2 years, 2020 is the earliest cut-off date we can use.\n"
   ]
  },
  {
   "cell_type": "code",
   "execution_count": 4,
   "metadata": {},
   "outputs": [
    {
     "name": "stdout",
     "output_type": "stream",
     "text": [
      "Target Categories:\n",
      "food_cpi: Fruit, fruit preparations and nuts\n",
      "food_cpi: Meat\n",
      "food_cpi: Other food products and non-alcoholic beverages\n",
      "food_cpi: Vegetables and vegetable preparations\n",
      "food_cpi: Bakery and cereal products (excluding baby food)\n",
      "food_cpi: Dairy products and eggs\n",
      "food_cpi: Fish, seafood and other marine products\n",
      "food_cpi: Food purchased from restaurants\n",
      "food_cpi: Food\n",
      "Report Simulation Dates:\n",
      "2021-07-01\n",
      "2022-07-01\n"
     ]
    }
   ],
   "source": [
    "exp_test_description = \"Full_Report\"\n",
    "report_sim_dates = open(\"/h/kupfersk/cfpr_2025/generate_forecasts/experiment_cutoff_dates.txt\", 'r').read().split()\n",
    "report_sim_dates=report_sim_dates[3:-1]\n",
    "# report_sim_dates=['2024-07-01']\n",
    "\n",
    "\n",
    "target_categories = [\n",
    "     'Fruit, fruit preparations and nuts',\n",
    "     'Meat',\n",
    "     'Other food products and non-alcoholic beverages',\n",
    "     'Vegetables and vegetable preparations',    \n",
    "     'Bakery and cereal products (excluding baby food)',\n",
    "     'Dairy products and eggs',\n",
    "     'Fish, seafood and other marine products',\n",
    "     'Food purchased from restaurants',\n",
    "     'Food',\n",
    "]\n",
    "\n",
    "target_categories = [f\"food_cpi: {col}\" for col in target_categories]\n",
    "\n",
    "start_year = 1986\n",
    "random_seed = 42\n",
    "\n",
    "print(\"Target Categories:\\n\" + '\\n'.join(target_categories))\n",
    "print(\"Report Simulation Dates:\\n\" + '\\n'.join(report_sim_dates))\n"
   ]
  },
  {
   "cell_type": "markdown",
   "metadata": {},
   "source": [
    "## Load data\n",
    "\n",
    "`all_data`: dataframe with all the food cpi variables and all the covariates from 1986 to 2024.\\\n",
    "`foodprice_df`: dataframe with only the food cpi variables from 1986 to 2024.\\\n",
    "`target_categories`: list of the names of the food cpi variables.\\\n",
    "`all_covariates`: dataframe with all the covariates from 1986 to 2024."
   ]
  },
  {
   "cell_type": "code",
   "execution_count": 4,
   "metadata": {},
   "outputs": [],
   "source": [
    "file_path = \"/h/kupfersk/cfpr_2025/data/processed_data/all_select.csv\"\n",
    "all_data, foodprice_df, target_categories, all_covariates = load_data(target_categories, file_path)"
   ]
  },
  {
   "cell_type": "code",
   "execution_count": null,
   "metadata": {},
   "outputs": [],
   "source": []
  },
  {
   "cell_type": "code",
   "execution_count": 7,
   "metadata": {},
   "outputs": [],
   "source": [
    "# all_data = filter_data_exp_1(all_data, start_year)\n",
    "processor = AutoGluonProcessor(all_data, target_categories)"
   ]
  },
  {
   "cell_type": "markdown",
   "metadata": {},
   "source": [
    "\n",
    "# Experiment List\n",
    "\n",
    "| AutoGluon Model \\ Experiment      | local | global | global + covariates |\n",
    "|--------------|:-----:| :-----: | :-----: |\n",
    "| NaiveModel |   x  |   |  | \n",
    "| SeasonalNaiveModel|   x    |  |  | \n",
    "| AutoARIMAModel|   x   |  |  | \n",
    "| AutoETSModel|  x  |    |  | \n",
    "| DeepARModel|  x   | x |  x | \n",
    "| DLinearModel| x   | x |  x| \n",
    "| PatchTSTModel|  x   | x | x |   \n",
    "|SimpleFeedForwardModel|  x   | x | x |   \n",
    "| TemporalFusionTransformerModel| x  | x | x |   \n",
    "| DirectTabularModel| x   | x | x | \n",
    "|RecursiveTabularModel|  x   | x | x |  \n",
    "|ChronosModel|  x   | x | x | \n",
    "\n",
    "x - model type supported\n"
   ]
  },
  {
   "cell_type": "markdown",
   "metadata": {},
   "source": [
    "# Main experiment loop - global models\n",
    "\n",
    "5 main loops:\n",
    "- The first loop goes through the list of years at which we want the time window to start, filters out the covariates that are not fully available from 1986.\n",
    "- The second loop goes though the two experiment base (global and global+covariates)\n",
    "- The third loop goes though 8 Autogluon models, excluding all statistical models (Naive, SeasonalNaive, AutoArima, AutoETS).\n",
    "- The fourth loop goes through each of the yearly cut-off dates to trim the training data.\n",
    "- The fifth loop goes through each of the 9 food categories, gets the training data in the AutoGluon format depending on the experiment base and plot each prediction period againt the actual values."
   ]
  },
  {
   "cell_type": "code",
   "execution_count": 8,
   "metadata": {},
   "outputs": [
    {
     "data": {
      "text/plain": [
       "{'Bakery and cereal products (excluding baby food)': ['exp5_geopolitical_Bakery and cereal products (excluding baby food).txt',\n",
       "  'exp5_manufacturing_Bakery and cereal products (excluding baby food).txt',\n",
       "  'exp5_climate_Bakery and cereal products (excluding baby food).txt',\n",
       "  'exp1_human_Bakery and cereal products (excluding baby food).txt',\n",
       "  'exp1_llm_Bakery and cereal products (excluding baby food).txt'],\n",
       " 'Dairy products and eggs': ['exp5_climate_Dairy products and eggs.txt',\n",
       "  'exp5_geopolitical_Dairy products and eggs.txt',\n",
       "  'exp1_llm_Dairy products and eggs.txt',\n",
       "  'exp5_manufacturing_Dairy products and eggs.txt',\n",
       "  'exp1_human_Dairy products and eggs.txt'],\n",
       " 'Fish, seafood and other marine products': ['exp1_llm_Fish, seafood and other marine products.txt',\n",
       "  'exp5_manufacturing_Fish, seafood and other marine products.txt',\n",
       "  'exp5_climate_Fish, seafood and other marine products.txt',\n",
       "  'exp1_human_Fish, seafood and other marine products.txt',\n",
       "  'exp5_geopolitical_Fish, seafood and other marine products.txt'],\n",
       " 'Food purchased from restaurants': ['exp5_climate_Food purchased from restaurants.txt',\n",
       "  'exp1_llm_Food purchased from restaurants.txt',\n",
       "  'exp5_geopolitical_Food purchased from restaurants.txt',\n",
       "  'exp1_human_Food purchased from restaurants.txt',\n",
       "  'exp5_manufacturing_Food purchased from restaurants.txt'],\n",
       " 'Food': ['exp5_geopolitical_Food.txt',\n",
       "  'exp5_climate_Food.txt',\n",
       "  'exp1_llm_Food.txt',\n",
       "  'exp1_human_Food.txt',\n",
       "  'exp5_manufacturing_Food.txt'],\n",
       " 'Fruit, fruit preparations and nuts': ['exp1_llm_Fruit, fruit preparations and nuts.txt',\n",
       "  'exp5_climate_Fruit, fruit preparations and nuts.txt',\n",
       "  'exp5_manufacturing_Fruit, fruit preparations and nuts.txt',\n",
       "  'exp5_geopolitical_Fruit, fruit preparations and nuts.txt',\n",
       "  'exp1_human_Fruit, fruit preparations and nuts.txt'],\n",
       " 'Meat': ['exp1_human_Meat.txt',\n",
       "  'exp1_llm_Meat.txt',\n",
       "  'exp5_geopolitical_Meat.txt',\n",
       "  'exp5_manufacturing_Meat.txt',\n",
       "  'exp5_climate_Meat.txt'],\n",
       " 'Other food products and non-alcoholic beverages': ['exp5_geopolitical_Other food products and non-alcoholic beverages.txt',\n",
       "  'exp1_llm_Other food products and non-alcoholic beverages.txt',\n",
       "  'exp1_human_Other food products and non-alcoholic beverages.txt',\n",
       "  'exp5_climate_Other food products and non-alcoholic beverages.txt',\n",
       "  'exp5_manufacturing_Other food products and non-alcoholic beverages.txt'],\n",
       " 'Vegetables and vegetable preparations': ['exp5_manufacturing_Vegetables and vegetable preparations.txt',\n",
       "  'exp5_climate_Vegetables and vegetable preparations.txt',\n",
       "  'exp5_geopolitical_Vegetables and vegetable preparations.txt',\n",
       "  'exp1_llm_Vegetables and vegetable preparations.txt',\n",
       "  'exp1_human_Vegetables and vegetable preparations.txt']}"
      ]
     },
     "execution_count": 8,
     "metadata": {},
     "output_type": "execute_result"
    }
   ],
   "source": [
    "import json\n",
    "\n",
    "# Load the dictionary from the JSON file\n",
    "with open('experiment_dict_filt.json', 'r') as json_file:\n",
    "    experiment_dict = json.load(json_file)\n",
    "    \n",
    "experiment_dict"
   ]
  },
  {
   "cell_type": "code",
   "execution_count": 9,
   "metadata": {},
   "outputs": [
    {
     "name": "stderr",
     "output_type": "stream",
     "text": [
      "Warning: path already exists! This predictor may overwrite an existing predictor! path=\"./output/Full_Report/ag_global_all_SimpleFeedForwardModel_exp1_llm_/random_seed_42/2024-07-01/model_files/\"\n",
      "Beginning AutoGluon training... Time limit = 1800s\n",
      "AutoGluon will save models to './output/Full_Report/ag_global_all_SimpleFeedForwardModel_exp1_llm_/random_seed_42/2024-07-01/model_files/'\n",
      "=================== System Info ===================\n",
      "AutoGluon Version:  1.1.1\n",
      "Python Version:     3.8.20\n",
      "Operating System:   Linux\n",
      "Platform Machine:   x86_64\n",
      "Platform Version:   #147~18.04.1-Ubuntu SMP Sat Oct 15 13:10:18 UTC 2022\n",
      "CPU Count:          32\n",
      "GPU Count:          1\n",
      "Memory Avail:       145.99 GB / 188.59 GB (77.4%)\n",
      "Disk Space Avail:   18167.68 GB / 249006.62 GB (7.3%)\n",
      "===================================================\n",
      "\n",
      "Fitting with arguments:\n",
      "{'enable_ensemble': True,\n",
      " 'eval_metric': MAPE,\n",
      " 'excluded_model_types': ['DirectTabular', 'RecursiveTabular'],\n",
      " 'hyperparameters': {'SimpleFeedForwardModel': {}},\n",
      " 'known_covariates_names': [],\n",
      " 'num_val_windows': 3,\n",
      " 'prediction_length': 18,\n",
      " 'quantile_levels': [0.01, 0.05, 0.1, 0.25, 0.75, 0.9, 0.95, 0.99],\n",
      " 'random_seed': 42,\n",
      " 'refit_every_n_windows': 1,\n",
      " 'refit_full': False,\n",
      " 'skip_model_selection': False,\n",
      " 'target': 'target',\n",
      " 'time_limit': 1800,\n",
      " 'verbosity': 2}\n",
      "\n",
      "Inferred time series frequency: 'MS'\n",
      "Provided train_data has 10186 rows (NaN fraction=0.0%), 22 time series. Median time series length is 463 (min=463, max=463). \n",
      "\n",
      "Provided data contains following columns:\n",
      "\ttarget: 'target'\n",
      "\n",
      "AutoGluon will gauge predictive performance using evaluation metric: 'MAPE'\n"
     ]
    },
    {
     "name": "stdout",
     "output_type": "stream",
     "text": [
      "['DeepARModel', 'DLinearModel', 'PatchTSTModel', 'SimpleFeedForwardModel', 'TemporalFusionTransformerModel', 'ChronosModel']\n",
      "SimpleFeedForwardModel\n",
      "exp1_llm_Fruit, fruit preparations and nuts.txt\n",
      "SimpleFeedForwardModel\n"
     ]
    },
    {
     "name": "stderr",
     "output_type": "stream",
     "text": [
      "\tThis metric's sign has been flipped to adhere to being higher_is_better. The metric score can be multiplied by -1 to get the metric value.\n",
      "===================================================\n",
      "\n",
      "Starting training. Start time is 2024-10-26 10:04:32\n",
      "Excluded model types: ['DirectTabular', 'RecursiveTabular']\n",
      "Models that will be trained: ['SimpleFeedForward']\n",
      "Training timeseries model SimpleFeedForward. Training for up to 1799.9s of the 1799.9s of remaining time.\n",
      "\n",
      "KeyboardInterrupt\n",
      "\n"
     ]
    }
   ],
   "source": [
    "models_to_test = [\n",
    "    'ChronosModel',\n",
    "    'DeepARModel',\n",
    "]\n",
    "\n",
    "\n",
    "EXP_BASE_LIST_GLOBAL = [\"ag_global_all\", \"ag_global_cpi_with_covariates\"]\n",
    "\n",
    "\n",
    "for EXP_BASE in EXP_BASE_LIST_GLOBAL:\n",
    "    EXP_MODEL_LIST = get_model_list(EXP_BASE)\n",
    "    print(EXP_MODEL_LIST)\n",
    "\n",
    "    for model_type in EXP_MODEL_LIST:\n",
    "        \n",
    "        if model_type not in models_to_test:\n",
    "            continue\n",
    "            print(model_type)\n",
    "                \n",
    "\n",
    "        EXPERIMENT_NAME = f\"{EXP_BASE}_{model_type}\"\n",
    "\n",
    "        for category in (target_categories):\n",
    "            print(model_type)\n",
    "\n",
    "            \n",
    "            #For this specific category, collect the experiments that need to be run by filtering the data \n",
    "            FILT_EXPS = experiment_dict[category.split(\"food_cpi: \")[1]]\n",
    "            \n",
    "            for cutoff_date in report_sim_dates:\n",
    "                \n",
    "                for FILT_NUM in FILT_EXPS:\n",
    "                    MOD_FILT_NUM = FILT_NUM.replace(category.split(\"food_cpi: \")[1], \"\").split('.txt')[0]\n",
    "                    MOD_EXP_NAME = f\"{EXPERIMENT_NAME}_{MOD_FILT_NUM}\"\n",
    "                    print(FILT_NUM)\n",
    "                    \n",
    "                    with open(f\"/h/kupfersk/cfpr_2025/cfpr_variable_selection/Full_Report_Experiments/{FILT_NUM}\", 'r') as file: \n",
    "                        # Use .strip() to remove any trailing newline or spaces\n",
    "                        item_list = [line.strip() for line in file.readlines()]\n",
    "                        filt_regressors = item_list\n",
    "                        \n",
    "                    forecast_output_dir, plot_output_dir, training_output_dir, model_dir = (\n",
    "                        create_output_directories(\n",
    "                            exp_test_description,\n",
    "                            start_year,\n",
    "                            MOD_EXP_NAME,\n",
    "                            cutoff_date,\n",
    "                            random_seed\n",
    "                        )\n",
    "                    )\n",
    "\n",
    "                    if \"_covariates\" in EXP_BASE:\n",
    "                        train_data = processor.get_autogluon_global_with_covariates_df_filt(\n",
    "                            cutoff_date, filt_regressors\n",
    "                        )\n",
    "                    else:\n",
    "                        train_data = processor.get_autogluon_global_df_filt(cutoff_date, filt_regressors)\n",
    "\n",
    "                    predictor = fit_predictors_global(model_type, model_dir, train_data, random_seed)\n",
    "\n",
    "\n",
    "                    process_and_plot_forecasts(\n",
    "                        predictor,\n",
    "                        train_data,\n",
    "                        category,\n",
    "                        training_output_dir,\n",
    "                        forecast_output_dir,\n",
    "                        plot_output_dir,\n",
    "                        foodprice_df,\n",
    "                        cutoff_date\n",
    "                    )"
   ]
  },
  {
   "cell_type": "code",
   "execution_count": 10,
   "metadata": {},
   "outputs": [
    {
     "data": {
      "text/plain": [
       "'./output/Full_Report/ag_global_all_SimpleFeedForwardModel_exp1_llm_/random_seed_42/2024-07-01/forecasts'"
      ]
     },
     "execution_count": 10,
     "metadata": {},
     "output_type": "execute_result"
    }
   ],
   "source": [
    "forecast_output_dir"
   ]
  },
  {
   "cell_type": "code",
   "execution_count": null,
   "metadata": {},
   "outputs": [],
   "source": []
  },
  {
   "cell_type": "code",
   "execution_count": null,
   "metadata": {},
   "outputs": [],
   "source": []
  }
 ],
 "metadata": {
  "kernelspec": {
   "display_name": "cfpr_2025_py3.8",
   "language": "python",
   "name": "cfpr_2025_py3.8"
  },
  "language_info": {
   "codemirror_mode": {
    "name": "ipython",
    "version": 3
   },
   "file_extension": ".py",
   "mimetype": "text/x-python",
   "name": "python",
   "nbconvert_exporter": "python",
   "pygments_lexer": "ipython3",
   "version": "3.8.20"
  }
 },
 "nbformat": 4,
 "nbformat_minor": 4
}
