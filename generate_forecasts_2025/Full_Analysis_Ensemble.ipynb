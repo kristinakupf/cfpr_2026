{
 "cells": [
  {
   "cell_type": "code",
   "execution_count": 21,
   "id": "recorded-columbia",
   "metadata": {},
   "outputs": [],
   "source": [
    "import numpy as np\n",
    "import pandas as pd\n",
    "import pathlib\n",
    "import os\n",
    "from sklearn.metrics import (\n",
    "    r2_score,\n",
    "    mean_absolute_error,\n",
    "    mean_squared_error,\n",
    "    mean_absolute_percentage_error,\n",
    "    mean_pinball_loss,\n",
    ")\n",
    "import json\n",
    "\n",
    "from utils_experiment import (\n",
    "    load_data,\n",
    "    get_model_list,\n",
    "    plot_forecasts_analysis,\n",
    "    rmse,\n",
    "    pinball_loss,\n",
    "    average_pinball_loss,\n",
    "    plot_quantile_forecast\n",
    ")"
   ]
  },
  {
   "cell_type": "code",
   "execution_count": 22,
   "id": "crude-clerk",
   "metadata": {},
   "outputs": [],
   "source": [
    "\n",
    "\n",
    "\n",
    "\n",
    "# for EXP_BASE in EXP_BASE_LIST:\n",
    "#     EXP_MODEL_LIST = get_model_list(EXP_BASE)\n",
    "\n",
    "#     for model_type in EXP_MODEL_LIST:\n",
    "#         EXPERIMENT_NAME = f\"{EXP_BASE}_{model_type}\"\n",
    "#         experiments.append(EXPERIMENT_NAME)\n",
    "\n",
    "# experiments"
   ]
  },
  {
   "cell_type": "markdown",
   "id": "interracial-commercial",
   "metadata": {},
   "source": [
    "Above is a list of all of the possible models, if you would like to limit which models are included:"
   ]
  },
  {
   "cell_type": "code",
   "execution_count": 23,
   "id": "juvenile-confirmation",
   "metadata": {},
   "outputs": [
    {
     "name": "stdout",
     "output_type": "stream",
     "text": [
      "Target Categories:\n",
      "food_cpi: Bakery and cereal products (excluding baby food)\n",
      "food_cpi: Dairy products and eggs\n",
      "food_cpi: Fish, seafood and other marine products\n",
      "food_cpi: Food purchased from restaurants\n",
      "food_cpi: Food\n",
      "food_cpi: Fruit, fruit preparations and nuts\n",
      "food_cpi: Meat\n",
      "food_cpi: Other food products and non-alcoholic beverages\n",
      "food_cpi: Vegetables and vegetable preparations\n",
      "Report Simulation Dates:\n",
      "2018-07-01\n",
      "2019-07-01\n",
      "2020-07-01\n",
      "2021-07-01\n",
      "2022-07-01\n",
      "2023-07-01\n"
     ]
    }
   ],
   "source": [
    "exp_test_description = \"Full_Report\"\n",
    "directory = f\"/h/kupfersk/cfpr_2025/generate_forecasts/output/\"\n",
    "\n",
    "report_sim_dates = open(\"experiment_cutoff_dates.txt\", 'r').read().split()\n",
    "\n",
    "# report_sim_dates= report_sim_dates[1:-1]\n",
    "\n",
    "target_categories = [\n",
    "    'Bakery and cereal products (excluding baby food)',\n",
    "     'Dairy products and eggs',\n",
    "     'Fish, seafood and other marine products',\n",
    "     'Food purchased from restaurants',\n",
    "     'Food',\n",
    "     'Fruit, fruit preparations and nuts',\n",
    "     'Meat',\n",
    "     'Other food products and non-alcoholic beverages',\n",
    "     'Vegetables and vegetable preparations'\n",
    "]\n",
    "\n",
    "\n",
    "target_categories = [f\"food_cpi: {col}\" for col in target_categories]\n",
    "\n",
    "start_years = [1986]\n",
    "random_seed = 42\n",
    "\n",
    "print(\"Target Categories:\\n\" + '\\n'.join(target_categories))\n",
    "print(\"Report Simulation Dates:\\n\" + '\\n'.join(report_sim_dates))\n",
    "\n",
    "\n",
    "\n",
    "file_path = \"../data/processed_data/all_data_processed.csv\"\n",
    "all_data, foodprice_df, target_categories, all_covariates = load_data(target_categories, file_path)"
   ]
  },
  {
   "cell_type": "code",
   "execution_count": 24,
   "id": "sacred-phrase",
   "metadata": {},
   "outputs": [
    {
     "data": {
      "text/plain": [
       "['ag_local_DeepARModel',\n",
       " 'ag_global_cpi_with_covariates_TemporalFusionTransformerModel',\n",
       " 'ag_global_all_SimpleFeedForwardModel_exp5_geopolitical_',\n",
       " 'ag_global_cpi_with_covariates_TemporalFusionTransformerModel_exp1_llm_',\n",
       " 'ag_local_AutoETSModel',\n",
       " 'ag_global_cpi_with_covariates_TemporalFusionTransformerModel_exp5_climate_',\n",
       " 'ag_global_cpi_with_covariates_TemporalFusionTransformerModel_exp5_geopolitical_',\n",
       " 'ag_global_all_PatchTSTModel',\n",
       " 'ag_global_cpi_with_covariates_TemporalFusionTransformerModel_exp5_manufacturing_',\n",
       " 'gemini-1.5-pro_report_True',\n",
       " 'gpt-4o_report_True',\n",
       " 'ag_global_all_TemporalFusionTransformerModel',\n",
       " 'ag_local_SimpleFeedForwardModel',\n",
       " 'gemini-1.5-pro_report_False',\n",
       " 'ag_local_ChronosModel',\n",
       " 'ag_global_all_SimpleFeedForwardModel',\n",
       " 'ag_global_all_DeepARModel',\n",
       " 'ag_global_all_TemporalFusionTransformerModel_exp5_geopolitical_',\n",
       " 'ag_global_all_SimpleFeedForwardModel_exp5_climate_',\n",
       " 'ag_local_AutoARIMAModel',\n",
       " 'ag_local_SeasonalNaiveModel',\n",
       " 'ag_local_NaiveModel',\n",
       " 'ag_local_PatchTSTModel',\n",
       " 'ag_global_all_TemporalFusionTransformerModel_exp5_manufacturing_',\n",
       " 'ag_global_all_SimpleFeedForwardModel_exp5_manufacturing_',\n",
       " 'ag_global_all_TemporalFusionTransformerModel_exp5_climate_',\n",
       " 'ag_global_all_ChronosModel',\n",
       " 'ag_global_all_SimpleFeedForwardModel_exp1_llm_',\n",
       " 'claude-3-5-sonnet-20240620_report_True',\n",
       " 'claude-3-5-sonnet-20240620_report_False',\n",
       " 'ag_global_all_TemporalFusionTransformerModel_exp1_llm_',\n",
       " 'gpt-4o_report_False',\n",
       " 'ag_local_DLinearModel',\n",
       " 'ag_local_TemporalFusionTransformerModel']"
      ]
     },
     "execution_count": 24,
     "metadata": {},
     "output_type": "execute_result"
    }
   ],
   "source": [
    "EXP_BASE_LIST = [\"ag_local\", \"ag_global_cpi\", \"ag_global_with_covariates\"]\n",
    "\n",
    "ignore_list = [\".csv\",\n",
    "               \"ipynb\",\n",
    "#                 \"ag_global_cpi_with_covariates_TemporalFusionTransformerModel\",\n",
    "                \"llama\",\n",
    "#                 \"gemini\",\n",
    "#                 \"claude\",\n",
    "#                 \"gpt\",\n",
    "#                \"PatchTST\",\n",
    "               \"exp2\",\n",
    "               \"Mixtral\",\n",
    "               \"restaurants\",\n",
    "               \"DeepARModel_exp\",\n",
    "               \"ChronosModel_exp\",\n",
    "               \"PatchTSTModel_exp\",\n",
    "               \"DLinearModel_exp\",\n",
    "               \"exp7\",\n",
    "               \"exp8\",\n",
    "               \"corr\",\n",
    "               \"economic\",\n",
    "#                \"geopolitical\",\n",
    "               \"human\",\n",
    "]\n",
    "\n",
    "experiments = []\n",
    "# for experiment_name in os.listdir(f\"{directory}{exp_test_description}\"):\n",
    "#     if 'ipynb' not in experiment_name:\n",
    "#         if '.csv' not in experiment_name:\n",
    "#             if \"ag_global_cpi_with_covariates_TemporalFusionTransformerModel_exp\" not in experiment_name:\n",
    "#                 if \"llama\" not in experiment_name:\n",
    "#                     if \"gemini\" not in experiment_name:\n",
    "#                         if \"claude\" not in experiment_name:\n",
    "#                             if \"gpt\" not in experiment_name:\n",
    "\n",
    "\n",
    "\n",
    "#                 experiments.append(experiment_name)\n",
    "\n",
    "for experiment_name in os.listdir(f\"{directory}{exp_test_description}\"):\n",
    "    if all(keyword not in experiment_name for keyword in ignore_list):\n",
    "        experiments.append(experiment_name)\n",
    "\n",
    "\n",
    "        # # Read the file and store the content in a list\n",
    "        # llm_directory = '/h/kupfersk/cfpr_llm/Results_percentiles/Raw_data/'\n",
    "\n",
    "        # with open((llm_directory + 'llm_models.txt'), 'r') as file:\n",
    "        #     # Read all lines and strip any extra whitespace/newline characters\n",
    "        #     loaded_list = [line.strip() for line in file]\n",
    "\n",
    "\n",
    "        # experiments = experiments + loaded_list\n",
    "experiments"
   ]
  },
  {
   "cell_type": "code",
   "execution_count": 25,
   "id": "gorgeous-reggae",
   "metadata": {},
   "outputs": [],
   "source": [
    "# EXP_BASE_LIST = [\"ag_local\", \"ag_global_cpi\", \"ag_global_with_covariates\"]\n",
    "\n",
    "\n",
    "# experiments = []\n",
    "# for experiment_name in os.listdir(f\"{directory}{exp_test_description}\"):\n",
    "#     if 'ipynb' not in experiment_name:\n",
    "#         if '.csv' not in experiment_name:\n",
    "#     #     if \"ag\" in experiment_name:\n",
    "#             if \"exp\" not in experiment_name:\n",
    "#                 experiments.append(experiment_name)\n",
    "\n",
    "\n",
    "#         # # Read the file and store the content in a list\n",
    "#         # llm_directory = '/h/kupfersk/cfpr_llm/Results_percentiles/Raw_data/'\n",
    "\n",
    "#         # with open((llm_directory + 'llm_models.txt'), 'r') as file:\n",
    "#         #     # Read all lines and strip any extra whitespace/newline characters\n",
    "#         #     loaded_list = [line.strip() for line in file]\n",
    "\n",
    "\n",
    "#         # experiments = experiments + loaded_list\n",
    "# experiments"
   ]
  },
  {
   "cell_type": "markdown",
   "id": "previous-roads",
   "metadata": {},
   "source": [
    "## Evaluation Metrics\n"
   ]
  },
  {
   "cell_type": "code",
   "execution_count": 26,
   "id": "judicial-platinum",
   "metadata": {},
   "outputs": [],
   "source": [
    "point_metrics = {\n",
    "    \"r2_score\": r2_score,\n",
    "    \"mae\": mean_absolute_error,\n",
    "    \"mape\": mean_absolute_percentage_error,\n",
    "    \"mse\": mean_squared_error,\n",
    "    \"rmse\": rmse,\n",
    "}"
   ]
  },
  {
   "cell_type": "code",
   "execution_count": 27,
   "id": "presidential-malawi",
   "metadata": {},
   "outputs": [],
   "source": [
    "def compute_all_scores(report_sim_dates, study_metric=\"mape\"):\n",
    "    global forecast_df\n",
    "    global actual_df\n",
    "    results = []\n",
    "        \n",
    "        \n",
    "    # Load the dictionary from the JSON file\n",
    "    with open('target_category_dict_filt.json', 'r') as json_file:\n",
    "        target_category_dict = json.load(json_file)\n",
    "\n",
    "    for start_year in start_years:\n",
    "\n",
    "        for EXPERIMENT_NAME in experiments:\n",
    "            \n",
    "            print(EXPERIMENT_NAME)\n",
    "            if 'ag' in EXPERIMENT_NAME :\n",
    "                if 'exp' in EXPERIMENT_NAME: \n",
    "                    general_experiment = f\"exp{EXPERIMENT_NAME.split('_exp')[-1]}\"\n",
    "                    predicted_categories_in = target_category_dict[general_experiment]\n",
    "                    # Drop items containing the word 'restaurant' or exactly 'food_cpi: Food'\n",
    "                    predicted_categories = [item for item in predicted_categories_in if 'restaurant' not in item.lower() and item != 'food_cpi: Food']\n",
    "                    \n",
    "                else:\n",
    "                    predicted_categories = target_categories\n",
    "                \n",
    "            else:\n",
    "                predicted_categories = [\n",
    "                                         'food_cpi: Bakery and cereal products (excluding baby food)',\n",
    "                                         'food_cpi: Meat',\n",
    "                                         'food_cpi: Vegetables and vegetable preparations'\n",
    "                                    ]\n",
    "\n",
    "            for category in predicted_categories:\n",
    "                if \"restaurant\" in category:\n",
    "                    continue \n",
    "                    \n",
    "                scores = []\n",
    "\n",
    "                for cutoff_date in report_sim_dates:\n",
    "\n",
    "                    forecast_csv_path = f\"./output/{exp_test_description}/{EXPERIMENT_NAME}/random_seed_{random_seed}/{cutoff_date}/forecasts/{category}.csv\"\n",
    "                    forecast_df = pd.read_csv(forecast_csv_path, index_col=0)\n",
    "                    forecast_df.index = pd.to_datetime(forecast_df.index)\n",
    "\n",
    "                    actual_df = foodprice_df[category].loc[\n",
    "                        [\n",
    "                            date\n",
    "                            for date in forecast_df.index\n",
    "                            if date in foodprice_df.index\n",
    "                        ]\n",
    "                    ]\n",
    "                    \n",
    "                    if report_sim_dates[-1] == cutoff_date:\n",
    "                        forecast_df = forecast_df.iloc[:-1]\n",
    "                        actual_df = actual_df.iloc[:-1]\n",
    "\n",
    "\n",
    "                    if study_metric in point_metrics:\n",
    "                        median_col = \"q_0.5\"\n",
    "                        y_pred = forecast_df[median_col]\n",
    "                        y_true = actual_df\n",
    "                        if len(y_pred) > len(y_true):\n",
    "                            y_pred = y_pred[: len(y_true)]\n",
    "                        scores.append(\n",
    "                            point_metrics[study_metric](y_true=y_true, y_pred=y_pred)\n",
    "                        )\n",
    "\n",
    "                    elif study_metric == \"pinball_loss\":\n",
    "                        y_pred = forecast_df\n",
    "                        y_true = actual_df\n",
    "                        if len(y_pred) > len(y_true):\n",
    "                            y_pred = y_pred[: len(y_true)]\n",
    "                        scores.append(\n",
    "                            average_pinball_loss(\n",
    "                                y_true=y_true,\n",
    "                                y_pred_quantiles=y_pred,\n",
    "                                quantiles=[\n",
    "                                    0.01,\n",
    "                                    0.05,\n",
    "                                    0.1,\n",
    "                                    0.25,\n",
    "                                    0.75,\n",
    "                                    0.9,\n",
    "                                    0.95,\n",
    "                                    0.99,\n",
    "                                ],\n",
    "                            )\n",
    "                        )\n",
    "\n",
    "                mean_score = np.mean(scores)\n",
    "                std_score = np.std(scores)\n",
    "\n",
    "                results.append(\n",
    "                    {   \"year\": start_year,\n",
    "                        \"experiment\": EXPERIMENT_NAME,\n",
    "                        \"category\": category,\n",
    "                        \"mean_score\": mean_score,\n",
    "                        \"std_score\": std_score,\n",
    "                        \"scores\": scores\n",
    "                    }\n",
    "                )\n",
    "\n",
    "    return pd.DataFrame(results)\n",
    "\n",
    "def compute_scores_single_ensemble(report_sim_dates, ensemble_experiments, study_metric=\"mape\"):\n",
    "    \"\"\"\n",
    "    This function computes scores for an ensemble of experiments.\n",
    "    \n",
    "    Parameters:\n",
    "    - report_sim_dates: List of simulation dates.\n",
    "    - ensemble_experiments: A list of experiment names that form the ensemble.\n",
    "    - study_metric: The metric to be used for scoring ('mape' or 'pinball_loss').\n",
    "    \n",
    "    Returns:\n",
    "    - A DataFrame with results (mean and std scores).\n",
    "    \"\"\"\n",
    "    global forecast_df\n",
    "    global forecast_dfs\n",
    "    global actual_df\n",
    "    results = []\n",
    "\n",
    "    for start_year in start_years:\n",
    "        # Join experiment names to track which ensemble is being processed\n",
    "        experiment_names = '+'.join(ensemble_experiments)\n",
    "        print(f\"Processing ensemble: {experiment_names}\")\n",
    "\n",
    "        if any(name in experiment_names for name in ['llama', 'claude', 'gpt', 'gemini']):\n",
    "               predicted_categories = [\n",
    "                'food_cpi: Bakery and cereal products (excluding baby food)',\n",
    "                'food_cpi: Meat',\n",
    "                'food_cpi: Vegetables and vegetable preparations'\n",
    "            ]\n",
    "        else:\n",
    "            predicted_categories = target_categories\n",
    "\n",
    "\n",
    "        for category in predicted_categories:\n",
    "            scores = []\n",
    "\n",
    "            for cutoff_date in report_sim_dates:\n",
    "\n",
    "                # Collect the forecasts for each experiment in the ensemble\n",
    "                forecast_dfs = []\n",
    "                for exp_name in ensemble_experiments:\n",
    "                    forecast_csv_path = f\"./output/{exp_test_description}/{exp_name}/random_seed_{random_seed}/{cutoff_date}/forecasts/{category}.csv\"\n",
    "                    forecast_df = pd.read_csv(forecast_csv_path, index_col=0)\n",
    "                    forecast_df = forecast_df[['q_0.05','q_0.95','q_0.5']]\n",
    "                    forecast_df.index = pd.to_datetime(forecast_df.index)\n",
    "                    forecast_df = forecast_df.loc[forecast_df.index<='2024-07-01']\n",
    "                    forecast_dfs.append(forecast_df)\n",
    "\n",
    "                # Aggregate the forecasts (mean ensemble)\n",
    "#                 mean_forecast_values = np.sum([df.values / len(ensemble_experiments) for df in forecast_dfs], axis=0)\n",
    "                \n",
    "    \n",
    "    \n",
    "                # Concatenate DataFrames with alignment on index, filling missing values with NaN\n",
    "                aligned_forecasts = pd.concat(forecast_dfs, axis=1, keys=range(len(forecast_dfs)))\n",
    "\n",
    "                # Calculate the mean for each quantile, ignoring NaN values\n",
    "                mean_q_0_05 = aligned_forecasts.xs('q_0.05', axis=1, level=1).mean(axis=1)\n",
    "                mean_q_0_5 = aligned_forecasts.xs('q_0.5', axis=1, level=1).mean(axis=1)\n",
    "                mean_q_0_95 = aligned_forecasts.xs('q_0.95', axis=1, level=1).mean(axis=1)\n",
    "\n",
    "                # Combine the means back into a single DataFrame\n",
    "                mean_forecast_df = pd.DataFrame({\n",
    "                    'q_0.05': mean_q_0_05,\n",
    "                    'q_0.5': mean_q_0_5,\n",
    "                    'q_0.95': mean_q_0_95\n",
    "                })    \n",
    "                \n",
    "                forecast_df = pd.DataFrame(mean_forecast_df, index=forecast_dfs[0].index, columns=forecast_dfs[0].columns)\n",
    "\n",
    "                # Extract the actual values from the foodprice_df\n",
    "                actual_df = foodprice_df[category].loc[\n",
    "                    [\n",
    "                        date\n",
    "                        for date in forecast_df.index\n",
    "                        if date in foodprice_df.index\n",
    "                    ]\n",
    "                ]\n",
    "\n",
    "                # Handle the case where the forecast and actual data have different lengths\n",
    "                if report_sim_dates[-1] == cutoff_date:\n",
    "                    forecast_df = forecast_df.iloc[:-1]\n",
    "                    actual_df = actual_df.iloc[:-1]\n",
    "      \n",
    "\n",
    "                # Score the aggregated forecast using the specified metric\n",
    "                if study_metric in point_metrics:\n",
    "                    median_col = \"q_0.5\"\n",
    "                    y_pred = forecast_df[median_col]\n",
    "                    y_true = actual_df\n",
    "                    if len(y_pred) > len(y_true):\n",
    "                        y_pred = y_pred[: len(y_true)]\n",
    "                    scores.append(\n",
    "                        point_metrics[study_metric](y_true=y_true, y_pred=y_pred)\n",
    "                    )\n",
    "\n",
    "            # Calculate mean and std deviation of the scores\n",
    "            mean_score = np.mean(scores)\n",
    "            std_score = np.std(scores)\n",
    "\n",
    "            # Append the result for the current category and ensemble configuration\n",
    "            results.append(\n",
    "                {\n",
    "                    \"year\": start_year,\n",
    "                    \"experiment\": experiment_names,\n",
    "                    \"category\": category,\n",
    "                    \"mean_score\": mean_score,\n",
    "                    \"std_score\": std_score,\n",
    "                    \"scores\": scores\n",
    "                }\n",
    "            )\n",
    "\n",
    "    # Return the result as a DataFrame\n",
    "    return pd.DataFrame(results)\n",
    "\n"
   ]
  },
  {
   "cell_type": "code",
   "execution_count": 28,
   "id": "sunrise-mention",
   "metadata": {},
   "outputs": [
    {
     "name": "stdout",
     "output_type": "stream",
     "text": [
      "ag_local_DeepARModel\n",
      "ag_global_cpi_with_covariates_TemporalFusionTransformerModel\n",
      "ag_global_all_SimpleFeedForwardModel_exp5_geopolitical_\n",
      "ag_global_cpi_with_covariates_TemporalFusionTransformerModel_exp1_llm_\n",
      "ag_local_AutoETSModel\n",
      "ag_global_cpi_with_covariates_TemporalFusionTransformerModel_exp5_climate_\n",
      "ag_global_cpi_with_covariates_TemporalFusionTransformerModel_exp5_geopolitical_\n",
      "ag_global_all_PatchTSTModel\n",
      "ag_global_cpi_with_covariates_TemporalFusionTransformerModel_exp5_manufacturing_\n",
      "gemini-1.5-pro_report_True\n",
      "gpt-4o_report_True\n",
      "ag_global_all_TemporalFusionTransformerModel\n",
      "ag_local_SimpleFeedForwardModel\n",
      "gemini-1.5-pro_report_False\n",
      "ag_local_ChronosModel\n",
      "ag_global_all_SimpleFeedForwardModel\n",
      "ag_global_all_DeepARModel\n",
      "ag_global_all_TemporalFusionTransformerModel_exp5_geopolitical_\n",
      "ag_global_all_SimpleFeedForwardModel_exp5_climate_\n",
      "ag_local_AutoARIMAModel\n",
      "ag_local_SeasonalNaiveModel\n",
      "ag_local_NaiveModel\n",
      "ag_local_PatchTSTModel\n",
      "ag_global_all_TemporalFusionTransformerModel_exp5_manufacturing_\n",
      "ag_global_all_SimpleFeedForwardModel_exp5_manufacturing_\n",
      "ag_global_all_TemporalFusionTransformerModel_exp5_climate_\n",
      "ag_global_all_ChronosModel\n",
      "ag_global_all_SimpleFeedForwardModel_exp1_llm_\n",
      "claude-3-5-sonnet-20240620_report_True\n",
      "claude-3-5-sonnet-20240620_report_False\n",
      "ag_global_all_TemporalFusionTransformerModel_exp1_llm_\n",
      "gpt-4o_report_False\n",
      "ag_local_DLinearModel\n",
      "ag_local_TemporalFusionTransformerModel\n"
     ]
    },
    {
     "data": {
      "text/html": [
       "<div>\n",
       "<style scoped>\n",
       "    .dataframe tbody tr th:only-of-type {\n",
       "        vertical-align: middle;\n",
       "    }\n",
       "\n",
       "    .dataframe tbody tr th {\n",
       "        vertical-align: top;\n",
       "    }\n",
       "\n",
       "    .dataframe thead th {\n",
       "        text-align: right;\n",
       "    }\n",
       "</style>\n",
       "<table border=\"1\" class=\"dataframe\">\n",
       "  <thead>\n",
       "    <tr style=\"text-align: right;\">\n",
       "      <th></th>\n",
       "      <th>year</th>\n",
       "      <th>experiment</th>\n",
       "      <th>category</th>\n",
       "      <th>mean_score</th>\n",
       "      <th>std_score</th>\n",
       "      <th>scores</th>\n",
       "    </tr>\n",
       "  </thead>\n",
       "  <tbody>\n",
       "    <tr>\n",
       "      <th>0</th>\n",
       "      <td>1986</td>\n",
       "      <td>ag_local_DeepARModel</td>\n",
       "      <td>food_cpi: Bakery and cereal products (excludin...</td>\n",
       "      <td>0.036713</td>\n",
       "      <td>0.021999</td>\n",
       "      <td>[0.011036732060852398, 0.019971501010228897, 0...</td>\n",
       "    </tr>\n",
       "    <tr>\n",
       "      <th>1</th>\n",
       "      <td>1986</td>\n",
       "      <td>ag_local_DeepARModel</td>\n",
       "      <td>food_cpi: Dairy products and eggs</td>\n",
       "      <td>0.032611</td>\n",
       "      <td>0.016330</td>\n",
       "      <td>[0.019867074994984066, 0.027847746093486305, 0...</td>\n",
       "    </tr>\n",
       "    <tr>\n",
       "      <th>2</th>\n",
       "      <td>1986</td>\n",
       "      <td>ag_local_DeepARModel</td>\n",
       "      <td>food_cpi: Fish, seafood and other marine products</td>\n",
       "      <td>0.022050</td>\n",
       "      <td>0.015371</td>\n",
       "      <td>[0.010854690989193488, 0.011447317441345844, 0...</td>\n",
       "    </tr>\n",
       "    <tr>\n",
       "      <th>3</th>\n",
       "      <td>1986</td>\n",
       "      <td>ag_local_DeepARModel</td>\n",
       "      <td>food_cpi: Food</td>\n",
       "      <td>0.033385</td>\n",
       "      <td>0.021728</td>\n",
       "      <td>[0.01192819864460277, 0.015630026544120393, 0....</td>\n",
       "    </tr>\n",
       "    <tr>\n",
       "      <th>4</th>\n",
       "      <td>1986</td>\n",
       "      <td>ag_local_DeepARModel</td>\n",
       "      <td>food_cpi: Fruit, fruit preparations and nuts</td>\n",
       "      <td>0.038141</td>\n",
       "      <td>0.017945</td>\n",
       "      <td>[0.02813726903135804, 0.02401235303421688, 0.0...</td>\n",
       "    </tr>\n",
       "    <tr>\n",
       "      <th>...</th>\n",
       "      <td>...</td>\n",
       "      <td>...</td>\n",
       "      <td>...</td>\n",
       "      <td>...</td>\n",
       "      <td>...</td>\n",
       "      <td>...</td>\n",
       "    </tr>\n",
       "    <tr>\n",
       "      <th>225</th>\n",
       "      <td>1986</td>\n",
       "      <td>ag_local_TemporalFusionTransformerModel</td>\n",
       "      <td>food_cpi: Food</td>\n",
       "      <td>0.032911</td>\n",
       "      <td>0.020694</td>\n",
       "      <td>[0.013975713709548246, 0.01231863941864048, 0....</td>\n",
       "    </tr>\n",
       "    <tr>\n",
       "      <th>226</th>\n",
       "      <td>1986</td>\n",
       "      <td>ag_local_TemporalFusionTransformerModel</td>\n",
       "      <td>food_cpi: Fruit, fruit preparations and nuts</td>\n",
       "      <td>0.046375</td>\n",
       "      <td>0.022073</td>\n",
       "      <td>[0.02169973008505353, 0.03503221154346888, 0.0...</td>\n",
       "    </tr>\n",
       "    <tr>\n",
       "      <th>227</th>\n",
       "      <td>1986</td>\n",
       "      <td>ag_local_TemporalFusionTransformerModel</td>\n",
       "      <td>food_cpi: Meat</td>\n",
       "      <td>0.031168</td>\n",
       "      <td>0.010951</td>\n",
       "      <td>[0.016441312292381497, 0.04095060925211494, 0....</td>\n",
       "    </tr>\n",
       "    <tr>\n",
       "      <th>228</th>\n",
       "      <td>1986</td>\n",
       "      <td>ag_local_TemporalFusionTransformerModel</td>\n",
       "      <td>food_cpi: Other food products and non-alcoholi...</td>\n",
       "      <td>0.031610</td>\n",
       "      <td>0.021170</td>\n",
       "      <td>[0.012615555976243205, 0.011859104984157813, 0...</td>\n",
       "    </tr>\n",
       "    <tr>\n",
       "      <th>229</th>\n",
       "      <td>1986</td>\n",
       "      <td>ag_local_TemporalFusionTransformerModel</td>\n",
       "      <td>food_cpi: Vegetables and vegetable preparations</td>\n",
       "      <td>0.054082</td>\n",
       "      <td>0.023207</td>\n",
       "      <td>[0.08883576175561952, 0.04923113773498137, 0.0...</td>\n",
       "    </tr>\n",
       "  </tbody>\n",
       "</table>\n",
       "<p>230 rows × 6 columns</p>\n",
       "</div>"
      ],
      "text/plain": [
       "     year                               experiment  \\\n",
       "0    1986                     ag_local_DeepARModel   \n",
       "1    1986                     ag_local_DeepARModel   \n",
       "2    1986                     ag_local_DeepARModel   \n",
       "3    1986                     ag_local_DeepARModel   \n",
       "4    1986                     ag_local_DeepARModel   \n",
       "..    ...                                      ...   \n",
       "225  1986  ag_local_TemporalFusionTransformerModel   \n",
       "226  1986  ag_local_TemporalFusionTransformerModel   \n",
       "227  1986  ag_local_TemporalFusionTransformerModel   \n",
       "228  1986  ag_local_TemporalFusionTransformerModel   \n",
       "229  1986  ag_local_TemporalFusionTransformerModel   \n",
       "\n",
       "                                              category  mean_score  std_score  \\\n",
       "0    food_cpi: Bakery and cereal products (excludin...    0.036713   0.021999   \n",
       "1                    food_cpi: Dairy products and eggs    0.032611   0.016330   \n",
       "2    food_cpi: Fish, seafood and other marine products    0.022050   0.015371   \n",
       "3                                       food_cpi: Food    0.033385   0.021728   \n",
       "4         food_cpi: Fruit, fruit preparations and nuts    0.038141   0.017945   \n",
       "..                                                 ...         ...        ...   \n",
       "225                                     food_cpi: Food    0.032911   0.020694   \n",
       "226       food_cpi: Fruit, fruit preparations and nuts    0.046375   0.022073   \n",
       "227                                     food_cpi: Meat    0.031168   0.010951   \n",
       "228  food_cpi: Other food products and non-alcoholi...    0.031610   0.021170   \n",
       "229    food_cpi: Vegetables and vegetable preparations    0.054082   0.023207   \n",
       "\n",
       "                                                scores  \n",
       "0    [0.011036732060852398, 0.019971501010228897, 0...  \n",
       "1    [0.019867074994984066, 0.027847746093486305, 0...  \n",
       "2    [0.010854690989193488, 0.011447317441345844, 0...  \n",
       "3    [0.01192819864460277, 0.015630026544120393, 0....  \n",
       "4    [0.02813726903135804, 0.02401235303421688, 0.0...  \n",
       "..                                                 ...  \n",
       "225  [0.013975713709548246, 0.01231863941864048, 0....  \n",
       "226  [0.02169973008505353, 0.03503221154346888, 0.0...  \n",
       "227  [0.016441312292381497, 0.04095060925211494, 0....  \n",
       "228  [0.012615555976243205, 0.011859104984157813, 0...  \n",
       "229  [0.08883576175561952, 0.04923113773498137, 0.0...  \n",
       "\n",
       "[230 rows x 6 columns]"
      ]
     },
     "execution_count": 28,
     "metadata": {},
     "output_type": "execute_result"
    }
   ],
   "source": [
    "mape_df = compute_all_scores(report_sim_dates, 'mape')\n",
    "mape_df"
   ]
  },
  {
   "cell_type": "code",
   "execution_count": 29,
   "id": "statutory-whale",
   "metadata": {},
   "outputs": [
    {
     "name": "stdout",
     "output_type": "stream",
     "text": [
      "Computing ensemble scores for: food_cpi: Bakery and cereal products (excluding baby food)\n"
     ]
    },
    {
     "name": "stderr",
     "output_type": "stream",
     "text": [
      "\r",
      "  0%|          | 0/55 [00:00<?, ?it/s]"
     ]
    },
    {
     "name": "stdout",
     "output_type": "stream",
     "text": [
      "Processing ensemble: claude-3-5-sonnet-20240620_report_False+ag_global_all_TemporalFusionTransformerModel_exp5_climate_\n"
     ]
    },
    {
     "name": "stderr",
     "output_type": "stream",
     "text": [
      "  4%|▎         | 2/55 [00:00<00:10,  4.84it/s]"
     ]
    },
    {
     "name": "stdout",
     "output_type": "stream",
     "text": [
      "Processing ensemble: claude-3-5-sonnet-20240620_report_False+gpt-4o_report_True\n",
      "Processing ensemble: claude-3-5-sonnet-20240620_report_False+gpt-4o_report_False\n"
     ]
    },
    {
     "name": "stderr",
     "output_type": "stream",
     "text": [
      "\r",
      "  5%|▌         | 3/55 [00:00<00:10,  4.96it/s]"
     ]
    },
    {
     "name": "stdout",
     "output_type": "stream",
     "text": [
      "Processing ensemble: claude-3-5-sonnet-20240620_report_False+ag_global_all_SimpleFeedForwardModel_exp5_geopolitical_\n"
     ]
    },
    {
     "name": "stderr",
     "output_type": "stream",
     "text": [
      "\r",
      "  7%|▋         | 4/55 [00:00<00:10,  4.83it/s]"
     ]
    },
    {
     "name": "stdout",
     "output_type": "stream",
     "text": [
      "Processing ensemble: gpt-4o_report_True+ag_local_NaiveModel\n"
     ]
    },
    {
     "name": "stderr",
     "output_type": "stream",
     "text": [
      "\r",
      "  9%|▉         | 5/55 [00:01<00:10,  4.77it/s]"
     ]
    },
    {
     "name": "stdout",
     "output_type": "stream",
     "text": [
      "Processing ensemble: ag_global_all_ChronosModel+ag_global_all_TemporalFusionTransformerModel_exp5_climate_\n"
     ]
    },
    {
     "name": "stderr",
     "output_type": "stream",
     "text": [
      "\r",
      " 11%|█         | 6/55 [00:01<00:16,  2.90it/s]"
     ]
    },
    {
     "name": "stdout",
     "output_type": "stream",
     "text": [
      "Processing ensemble: ag_local_NaiveModel+ag_global_all_TemporalFusionTransformerModel_exp5_climate_\n"
     ]
    },
    {
     "name": "stderr",
     "output_type": "stream",
     "text": [
      "\r",
      " 13%|█▎        | 7/55 [00:02<00:20,  2.32it/s]"
     ]
    },
    {
     "name": "stdout",
     "output_type": "stream",
     "text": [
      "Processing ensemble: claude-3-5-sonnet-20240620_report_True+ag_global_all_ChronosModel\n"
     ]
    },
    {
     "name": "stderr",
     "output_type": "stream",
     "text": [
      "\r",
      " 15%|█▍        | 8/55 [00:02<00:17,  2.76it/s]"
     ]
    },
    {
     "name": "stdout",
     "output_type": "stream",
     "text": [
      "Processing ensemble: gemini-1.5-pro_report_False+ag_global_all_TemporalFusionTransformerModel_exp5_climate_\n"
     ]
    },
    {
     "name": "stderr",
     "output_type": "stream",
     "text": [
      "\r",
      " 16%|█▋        | 9/55 [00:02<00:14,  3.18it/s]"
     ]
    },
    {
     "name": "stdout",
     "output_type": "stream",
     "text": [
      "Processing ensemble: ag_global_all_ChronosModel+gpt-4o_report_False\n"
     ]
    },
    {
     "name": "stderr",
     "output_type": "stream",
     "text": [
      "\r",
      " 18%|█▊        | 10/55 [00:02<00:12,  3.52it/s]"
     ]
    },
    {
     "name": "stdout",
     "output_type": "stream",
     "text": [
      "Processing ensemble: ag_local_NaiveModel+gpt-4o_report_False\n"
     ]
    },
    {
     "name": "stderr",
     "output_type": "stream",
     "text": [
      " 22%|██▏       | 12/55 [00:03<00:10,  4.07it/s]"
     ]
    },
    {
     "name": "stdout",
     "output_type": "stream",
     "text": [
      "Processing ensemble: claude-3-5-sonnet-20240620_report_False+gemini-1.5-pro_report_False\n",
      "Processing ensemble: claude-3-5-sonnet-20240620_report_True+ag_global_all_TemporalFusionTransformerModel_exp5_climate_\n"
     ]
    },
    {
     "name": "stderr",
     "output_type": "stream",
     "text": [
      " 25%|██▌       | 14/55 [00:03<00:09,  4.43it/s]"
     ]
    },
    {
     "name": "stdout",
     "output_type": "stream",
     "text": [
      "Processing ensemble: claude-3-5-sonnet-20240620_report_True+gpt-4o_report_True\n",
      "Processing ensemble: ag_global_all_ChronosModel+gemini-1.5-pro_report_False\n"
     ]
    },
    {
     "name": "stderr",
     "output_type": "stream",
     "text": [
      "\r",
      " 27%|██▋       | 15/55 [00:03<00:08,  4.47it/s]"
     ]
    },
    {
     "name": "stdout",
     "output_type": "stream",
     "text": [
      "Processing ensemble: ag_local_AutoETSModel+ag_global_all_ChronosModel\n"
     ]
    },
    {
     "name": "stderr",
     "output_type": "stream",
     "text": [
      "\r",
      " 29%|██▉       | 16/55 [00:04<00:13,  2.87it/s]"
     ]
    },
    {
     "name": "stdout",
     "output_type": "stream",
     "text": [
      "Processing ensemble: ag_global_all_SimpleFeedForwardModel_exp5_geopolitical_+ag_global_all_ChronosModel\n"
     ]
    },
    {
     "name": "stderr",
     "output_type": "stream",
     "text": [
      " 33%|███▎      | 18/55 [00:05<00:13,  2.75it/s]"
     ]
    },
    {
     "name": "stdout",
     "output_type": "stream",
     "text": [
      "Processing ensemble: claude-3-5-sonnet-20240620_report_True+gpt-4o_report_False\n",
      "Processing ensemble: ag_local_NaiveModel\n"
     ]
    },
    {
     "name": "stderr",
     "output_type": "stream",
     "text": [
      "\r",
      " 35%|███▍      | 19/55 [00:05<00:13,  2.61it/s]"
     ]
    },
    {
     "name": "stdout",
     "output_type": "stream",
     "text": [
      "Processing ensemble: claude-3-5-sonnet-20240620_report_True+ag_global_all_SimpleFeedForwardModel_exp5_geopolitical_\n"
     ]
    },
    {
     "name": "stderr",
     "output_type": "stream",
     "text": [
      "\r",
      " 36%|███▋      | 20/55 [00:06<00:11,  2.99it/s]"
     ]
    },
    {
     "name": "stdout",
     "output_type": "stream",
     "text": [
      "Processing ensemble: ag_local_NaiveModel+gemini-1.5-pro_report_False\n"
     ]
    },
    {
     "name": "stderr",
     "output_type": "stream",
     "text": [
      "\r",
      " 38%|███▊      | 21/55 [00:06<00:10,  3.34it/s]"
     ]
    },
    {
     "name": "stdout",
     "output_type": "stream",
     "text": [
      "Processing ensemble: ag_local_AutoETSModel+ag_global_all_TemporalFusionTransformerModel_exp5_climate_\n"
     ]
    },
    {
     "name": "stderr",
     "output_type": "stream",
     "text": [
      "\r",
      " 40%|████      | 22/55 [00:06<00:13,  2.51it/s]"
     ]
    },
    {
     "name": "stdout",
     "output_type": "stream",
     "text": [
      "Processing ensemble: gpt-4o_report_True+ag_global_all_ChronosModel\n"
     ]
    },
    {
     "name": "stderr",
     "output_type": "stream",
     "text": [
      " 44%|████▎     | 24/55 [00:07<00:09,  3.26it/s]"
     ]
    },
    {
     "name": "stdout",
     "output_type": "stream",
     "text": [
      "Processing ensemble: claude-3-5-sonnet-20240620_report_True+gemini-1.5-pro_report_False\n",
      "Processing ensemble: ag_global_all_SimpleFeedForwardModel_exp5_geopolitical_+ag_global_all_TemporalFusionTransformerModel_exp5_climate_\n"
     ]
    },
    {
     "name": "stderr",
     "output_type": "stream",
     "text": [
      "\r",
      " 45%|████▌     | 25/55 [00:07<00:11,  2.52it/s]"
     ]
    },
    {
     "name": "stdout",
     "output_type": "stream",
     "text": [
      "Processing ensemble: ag_local_AutoETSModel+gpt-4o_report_True\n"
     ]
    },
    {
     "name": "stderr",
     "output_type": "stream",
     "text": [
      "\r",
      " 47%|████▋     | 26/55 [00:08<00:09,  2.91it/s]"
     ]
    },
    {
     "name": "stdout",
     "output_type": "stream",
     "text": [
      "Processing ensemble: ag_local_AutoETSModel\n"
     ]
    },
    {
     "name": "stderr",
     "output_type": "stream",
     "text": [
      "\r",
      " 49%|████▉     | 27/55 [00:08<00:10,  2.69it/s]"
     ]
    },
    {
     "name": "stdout",
     "output_type": "stream",
     "text": [
      "Processing ensemble: ag_local_AutoETSModel+gpt-4o_report_False\n"
     ]
    },
    {
     "name": "stderr",
     "output_type": "stream",
     "text": [
      "\r",
      " 51%|█████     | 28/55 [00:08<00:08,  3.05it/s]"
     ]
    },
    {
     "name": "stdout",
     "output_type": "stream",
     "text": [
      "Processing ensemble: ag_global_all_SimpleFeedForwardModel_exp5_geopolitical_+gpt-4o_report_False\n"
     ]
    },
    {
     "name": "stderr",
     "output_type": "stream",
     "text": [
      " 55%|█████▍    | 30/55 [00:09<00:06,  3.96it/s]"
     ]
    },
    {
     "name": "stdout",
     "output_type": "stream",
     "text": [
      "Processing ensemble: claude-3-5-sonnet-20240620_report_True\n",
      "Processing ensemble: ag_local_AutoETSModel+ag_global_all_SimpleFeedForwardModel_exp5_geopolitical_\n"
     ]
    },
    {
     "name": "stderr",
     "output_type": "stream",
     "text": [
      "\r",
      " 56%|█████▋    | 31/55 [00:09<00:08,  2.72it/s]"
     ]
    },
    {
     "name": "stdout",
     "output_type": "stream",
     "text": [
      "Processing ensemble: gpt-4o_report_True+ag_global_all_TemporalFusionTransformerModel_exp5_climate_\n"
     ]
    },
    {
     "name": "stderr",
     "output_type": "stream",
     "text": [
      "\r",
      " 58%|█████▊    | 32/55 [00:10<00:07,  3.08it/s]"
     ]
    },
    {
     "name": "stdout",
     "output_type": "stream",
     "text": [
      "Processing ensemble: ag_local_AutoETSModel+gemini-1.5-pro_report_False\n"
     ]
    },
    {
     "name": "stderr",
     "output_type": "stream",
     "text": [
      " 62%|██████▏   | 34/55 [00:10<00:05,  3.77it/s]"
     ]
    },
    {
     "name": "stdout",
     "output_type": "stream",
     "text": [
      "Processing ensemble: gpt-4o_report_True+gpt-4o_report_False\n",
      "Processing ensemble: claude-3-5-sonnet-20240620_report_False+ag_local_NaiveModel\n"
     ]
    },
    {
     "name": "stderr",
     "output_type": "stream",
     "text": [
      "\r",
      " 64%|██████▎   | 35/55 [00:10<00:05,  3.96it/s]"
     ]
    },
    {
     "name": "stdout",
     "output_type": "stream",
     "text": [
      "Processing ensemble: gpt-4o_report_True+ag_global_all_SimpleFeedForwardModel_exp5_geopolitical_\n"
     ]
    },
    {
     "name": "stderr",
     "output_type": "stream",
     "text": [
      "\r",
      " 65%|██████▌   | 36/55 [00:10<00:04,  4.10it/s]"
     ]
    },
    {
     "name": "stdout",
     "output_type": "stream",
     "text": [
      "Processing ensemble: ag_global_all_SimpleFeedForwardModel_exp5_geopolitical_+gemini-1.5-pro_report_False\n"
     ]
    },
    {
     "name": "stderr",
     "output_type": "stream",
     "text": [
      "\r",
      " 67%|██████▋   | 37/55 [00:11<00:04,  4.23it/s]"
     ]
    },
    {
     "name": "stdout",
     "output_type": "stream",
     "text": [
      "Processing ensemble: gpt-4o_report_False+ag_global_all_TemporalFusionTransformerModel_exp5_climate_\n"
     ]
    },
    {
     "name": "stderr",
     "output_type": "stream",
     "text": [
      "\r",
      " 69%|██████▉   | 38/55 [00:11<00:03,  4.31it/s]"
     ]
    },
    {
     "name": "stdout",
     "output_type": "stream",
     "text": [
      "Processing ensemble: ag_global_all_ChronosModel\n"
     ]
    },
    {
     "name": "stderr",
     "output_type": "stream",
     "text": [
      " 73%|███████▎  | 40/55 [00:11<00:03,  4.05it/s]"
     ]
    },
    {
     "name": "stdout",
     "output_type": "stream",
     "text": [
      "Processing ensemble: claude-3-5-sonnet-20240620_report_False\n",
      "Processing ensemble: ag_global_all_ChronosModel+ag_local_NaiveModel\n"
     ]
    },
    {
     "name": "stderr",
     "output_type": "stream",
     "text": [
      " 76%|███████▋  | 42/55 [00:12<00:04,  3.18it/s]"
     ]
    },
    {
     "name": "stdout",
     "output_type": "stream",
     "text": [
      "Processing ensemble: gpt-4o_report_True+gemini-1.5-pro_report_False\n",
      "Processing ensemble: claude-3-5-sonnet-20240620_report_False+ag_local_AutoETSModel\n"
     ]
    },
    {
     "name": "stderr",
     "output_type": "stream",
     "text": [
      "\r",
      " 78%|███████▊  | 43/55 [00:13<00:03,  3.46it/s]"
     ]
    },
    {
     "name": "stdout",
     "output_type": "stream",
     "text": [
      "Processing ensemble: ag_global_all_TemporalFusionTransformerModel_exp5_climate_\n"
     ]
    },
    {
     "name": "stderr",
     "output_type": "stream",
     "text": [
      " 82%|████████▏ | 45/55 [00:13<00:02,  3.45it/s]"
     ]
    },
    {
     "name": "stdout",
     "output_type": "stream",
     "text": [
      "Processing ensemble: claude-3-5-sonnet-20240620_report_False+claude-3-5-sonnet-20240620_report_True\n",
      "Processing ensemble: gpt-4o_report_True\n"
     ]
    },
    {
     "name": "stderr",
     "output_type": "stream",
     "text": [
      " 85%|████████▌ | 47/55 [00:14<00:01,  4.32it/s]"
     ]
    },
    {
     "name": "stdout",
     "output_type": "stream",
     "text": [
      "Processing ensemble: gpt-4o_report_False+gemini-1.5-pro_report_False\n",
      "Processing ensemble: gpt-4o_report_False\n"
     ]
    },
    {
     "name": "stderr",
     "output_type": "stream",
     "text": [
      "\r",
      " 87%|████████▋ | 48/55 [00:14<00:01,  4.90it/s]"
     ]
    },
    {
     "name": "stdout",
     "output_type": "stream",
     "text": [
      "Processing ensemble: ag_global_all_SimpleFeedForwardModel_exp5_geopolitical_\n"
     ]
    },
    {
     "name": "stderr",
     "output_type": "stream",
     "text": [
      "\r",
      " 89%|████████▉ | 49/55 [00:14<00:01,  3.71it/s]"
     ]
    },
    {
     "name": "stdout",
     "output_type": "stream",
     "text": [
      "Processing ensemble: claude-3-5-sonnet-20240620_report_True+ag_local_NaiveModel\n"
     ]
    },
    {
     "name": "stderr",
     "output_type": "stream",
     "text": [
      "\r",
      " 91%|█████████ | 50/55 [00:14<00:01,  3.92it/s]"
     ]
    },
    {
     "name": "stdout",
     "output_type": "stream",
     "text": [
      "Processing ensemble: claude-3-5-sonnet-20240620_report_False+ag_global_all_ChronosModel\n"
     ]
    },
    {
     "name": "stderr",
     "output_type": "stream",
     "text": [
      " 95%|█████████▍| 52/55 [00:15<00:00,  4.72it/s]"
     ]
    },
    {
     "name": "stdout",
     "output_type": "stream",
     "text": [
      "Processing ensemble: gemini-1.5-pro_report_False\n",
      "Processing ensemble: ag_local_AutoETSModel+ag_local_NaiveModel\n"
     ]
    },
    {
     "name": "stderr",
     "output_type": "stream",
     "text": [
      "\r",
      " 96%|█████████▋| 53/55 [00:15<00:00,  2.95it/s]"
     ]
    },
    {
     "name": "stdout",
     "output_type": "stream",
     "text": [
      "Processing ensemble: ag_global_all_SimpleFeedForwardModel_exp5_geopolitical_+ag_local_NaiveModel\n"
     ]
    },
    {
     "name": "stderr",
     "output_type": "stream",
     "text": [
      "\r",
      " 98%|█████████▊| 54/55 [00:16<00:00,  2.36it/s]"
     ]
    },
    {
     "name": "stdout",
     "output_type": "stream",
     "text": [
      "Processing ensemble: claude-3-5-sonnet-20240620_report_True+ag_local_AutoETSModel\n"
     ]
    },
    {
     "name": "stderr",
     "output_type": "stream",
     "text": [
      "100%|██████████| 55/55 [00:16<00:00,  3.31it/s]\n"
     ]
    },
    {
     "name": "stdout",
     "output_type": "stream",
     "text": [
      "Computing ensemble scores for: food_cpi: Dairy products and eggs\n"
     ]
    },
    {
     "name": "stderr",
     "output_type": "stream",
     "text": [
      "\r",
      "  0%|          | 0/55 [00:00<?, ?it/s]"
     ]
    },
    {
     "name": "stdout",
     "output_type": "stream",
     "text": [
      "Processing ensemble: ag_local_TemporalFusionTransformerModel+ag_global_all_TemporalFusionTransformerModel_exp5_climate_\n"
     ]
    },
    {
     "name": "stderr",
     "output_type": "stream",
     "text": [
      "\r",
      "  2%|▏         | 1/55 [00:00<00:33,  1.61it/s]"
     ]
    },
    {
     "name": "stdout",
     "output_type": "stream",
     "text": [
      "Processing ensemble: ag_global_all_TemporalFusionTransformerModel_exp5_climate_+ag_global_all_TemporalFusionTransformerModel_exp1_llm_\n"
     ]
    },
    {
     "name": "stderr",
     "output_type": "stream",
     "text": [
      "\r",
      "  4%|▎         | 2/55 [00:01<00:33,  1.57it/s]"
     ]
    },
    {
     "name": "stdout",
     "output_type": "stream",
     "text": [
      "Processing ensemble: ag_local_ChronosModel\n"
     ]
    },
    {
     "name": "stderr",
     "output_type": "stream",
     "text": [
      "\r",
      "  5%|▌         | 3/55 [00:01<00:28,  1.84it/s]"
     ]
    },
    {
     "name": "stdout",
     "output_type": "stream",
     "text": [
      "Processing ensemble: ag_global_all_SimpleFeedForwardModel_exp5_climate_\n"
     ]
    },
    {
     "name": "stderr",
     "output_type": "stream",
     "text": [
      "\r",
      "  7%|▋         | 4/55 [00:02<00:25,  2.01it/s]"
     ]
    },
    {
     "name": "stdout",
     "output_type": "stream",
     "text": [
      "Processing ensemble: ag_local_ChronosModel+ag_global_all_TemporalFusionTransformerModel_exp1_llm_\n"
     ]
    },
    {
     "name": "stderr",
     "output_type": "stream",
     "text": [
      "\r",
      "  9%|▉         | 5/55 [00:02<00:27,  1.84it/s]"
     ]
    },
    {
     "name": "stdout",
     "output_type": "stream",
     "text": [
      "Processing ensemble: ag_local_ChronosModel+ag_global_cpi_with_covariates_TemporalFusionTransformerModel_exp5_climate_\n"
     ]
    },
    {
     "name": "stderr",
     "output_type": "stream",
     "text": [
      "\r",
      " 11%|█         | 6/55 [00:03<00:28,  1.74it/s]"
     ]
    },
    {
     "name": "stdout",
     "output_type": "stream",
     "text": [
      "Processing ensemble: ag_global_all_ChronosModel+ag_global_all_TemporalFusionTransformerModel_exp5_climate_\n"
     ]
    },
    {
     "name": "stderr",
     "output_type": "stream",
     "text": [
      "\r",
      " 13%|█▎        | 7/55 [00:04<00:28,  1.70it/s]"
     ]
    },
    {
     "name": "stdout",
     "output_type": "stream",
     "text": [
      "Processing ensemble: ag_global_all_SimpleFeedForwardModel_exp5_geopolitical_+ag_local_AutoETSModel\n"
     ]
    },
    {
     "name": "stderr",
     "output_type": "stream",
     "text": [
      "\r",
      " 15%|█▍        | 8/55 [00:04<00:28,  1.66it/s]"
     ]
    },
    {
     "name": "stdout",
     "output_type": "stream",
     "text": [
      "Processing ensemble: ag_local_ChronosModel+ag_local_SimpleFeedForwardModel\n"
     ]
    },
    {
     "name": "stderr",
     "output_type": "stream",
     "text": [
      "\r",
      " 16%|█▋        | 9/55 [00:05<00:28,  1.64it/s]"
     ]
    },
    {
     "name": "stdout",
     "output_type": "stream",
     "text": [
      "Processing ensemble: ag_global_all_TemporalFusionTransformerModel_exp1_llm_\n"
     ]
    },
    {
     "name": "stderr",
     "output_type": "stream",
     "text": [
      "\r",
      " 18%|█▊        | 10/55 [00:05<00:24,  1.81it/s]"
     ]
    },
    {
     "name": "stdout",
     "output_type": "stream",
     "text": [
      "Processing ensemble: ag_global_all_TemporalFusionTransformerModel_exp5_climate_+ag_local_SimpleFeedForwardModel\n"
     ]
    },
    {
     "name": "stderr",
     "output_type": "stream",
     "text": [
      "\r",
      " 20%|██        | 11/55 [00:06<00:25,  1.74it/s]"
     ]
    },
    {
     "name": "stdout",
     "output_type": "stream",
     "text": [
      "Processing ensemble: ag_local_AutoETSModel+ag_local_TemporalFusionTransformerModel\n"
     ]
    },
    {
     "name": "stderr",
     "output_type": "stream",
     "text": [
      "\r",
      " 22%|██▏       | 12/55 [00:06<00:25,  1.70it/s]"
     ]
    },
    {
     "name": "stdout",
     "output_type": "stream",
     "text": [
      "Processing ensemble: ag_global_all_SimpleFeedForwardModel_exp5_geopolitical_+ag_local_TemporalFusionTransformerModel\n"
     ]
    },
    {
     "name": "stderr",
     "output_type": "stream",
     "text": [
      "\r",
      " 24%|██▎       | 13/55 [00:07<00:25,  1.66it/s]"
     ]
    },
    {
     "name": "stdout",
     "output_type": "stream",
     "text": [
      "Processing ensemble: ag_global_cpi_with_covariates_TemporalFusionTransformerModel_exp5_climate_\n"
     ]
    },
    {
     "name": "stderr",
     "output_type": "stream",
     "text": [
      "\r",
      " 25%|██▌       | 14/55 [00:08<00:22,  1.81it/s]"
     ]
    },
    {
     "name": "stdout",
     "output_type": "stream",
     "text": [
      "Processing ensemble: ag_global_all_TemporalFusionTransformerModel_exp1_llm_+ag_local_SimpleFeedForwardModel\n"
     ]
    },
    {
     "name": "stderr",
     "output_type": "stream",
     "text": [
      "\r",
      " 27%|██▋       | 15/55 [00:08<00:23,  1.74it/s]"
     ]
    },
    {
     "name": "stdout",
     "output_type": "stream",
     "text": [
      "Processing ensemble: ag_local_SimpleFeedForwardModel\n"
     ]
    },
    {
     "name": "stderr",
     "output_type": "stream",
     "text": [
      "\r",
      " 29%|██▉       | 16/55 [00:09<00:20,  1.88it/s]"
     ]
    },
    {
     "name": "stdout",
     "output_type": "stream",
     "text": [
      "Processing ensemble: ag_global_all_SimpleFeedForwardModel_exp5_geopolitical_+ag_global_all_ChronosModel\n"
     ]
    },
    {
     "name": "stderr",
     "output_type": "stream",
     "text": [
      "\r",
      " 31%|███       | 17/55 [00:09<00:21,  1.79it/s]"
     ]
    },
    {
     "name": "stdout",
     "output_type": "stream",
     "text": [
      "Processing ensemble: ag_local_ChronosModel+ag_local_AutoETSModel\n"
     ]
    },
    {
     "name": "stderr",
     "output_type": "stream",
     "text": [
      "\r",
      " 33%|███▎      | 18/55 [00:10<00:21,  1.73it/s]"
     ]
    },
    {
     "name": "stdout",
     "output_type": "stream",
     "text": [
      "Processing ensemble: ag_local_ChronosModel+ag_local_TemporalFusionTransformerModel\n"
     ]
    },
    {
     "name": "stderr",
     "output_type": "stream",
     "text": [
      "\r",
      " 35%|███▍      | 19/55 [00:10<00:21,  1.69it/s]"
     ]
    },
    {
     "name": "stdout",
     "output_type": "stream",
     "text": [
      "Processing ensemble: ag_local_TemporalFusionTransformerModel+ag_global_all_SimpleFeedForwardModel_exp5_climate_\n"
     ]
    },
    {
     "name": "stderr",
     "output_type": "stream",
     "text": [
      "\r",
      " 36%|███▋      | 20/55 [00:11<00:20,  1.67it/s]"
     ]
    },
    {
     "name": "stdout",
     "output_type": "stream",
     "text": [
      "Processing ensemble: ag_local_AutoETSModel+ag_global_all_TemporalFusionTransformerModel_exp5_climate_\n"
     ]
    },
    {
     "name": "stderr",
     "output_type": "stream",
     "text": [
      "\r",
      " 38%|███▊      | 21/55 [00:12<00:20,  1.66it/s]"
     ]
    },
    {
     "name": "stdout",
     "output_type": "stream",
     "text": [
      "Processing ensemble: ag_global_all_SimpleFeedForwardModel_exp5_geopolitical_+ag_global_all_TemporalFusionTransformerModel_exp5_climate_\n"
     ]
    },
    {
     "name": "stderr",
     "output_type": "stream",
     "text": [
      "\r",
      " 40%|████      | 22/55 [00:12<00:19,  1.66it/s]"
     ]
    },
    {
     "name": "stdout",
     "output_type": "stream",
     "text": [
      "Processing ensemble: ag_local_TemporalFusionTransformerModel+ag_global_all_TemporalFusionTransformerModel_exp1_llm_\n"
     ]
    },
    {
     "name": "stderr",
     "output_type": "stream",
     "text": [
      "\r",
      " 42%|████▏     | 23/55 [00:13<00:19,  1.65it/s]"
     ]
    },
    {
     "name": "stdout",
     "output_type": "stream",
     "text": [
      "Processing ensemble: ag_global_all_ChronosModel+ag_global_all_SimpleFeedForwardModel_exp5_climate_\n"
     ]
    },
    {
     "name": "stderr",
     "output_type": "stream",
     "text": [
      "\r",
      " 44%|████▎     | 24/55 [00:13<00:18,  1.64it/s]"
     ]
    },
    {
     "name": "stdout",
     "output_type": "stream",
     "text": [
      "Processing ensemble: ag_local_AutoETSModel\n"
     ]
    },
    {
     "name": "stderr",
     "output_type": "stream",
     "text": [
      "\r",
      " 45%|████▌     | 25/55 [00:14<00:16,  1.80it/s]"
     ]
    },
    {
     "name": "stdout",
     "output_type": "stream",
     "text": [
      "Processing ensemble: ag_global_cpi_with_covariates_TemporalFusionTransformerModel_exp5_climate_+ag_global_all_TemporalFusionTransformerModel_exp5_climate_\n"
     ]
    },
    {
     "name": "stderr",
     "output_type": "stream",
     "text": [
      "\r",
      " 47%|████▋     | 26/55 [00:15<00:16,  1.74it/s]"
     ]
    },
    {
     "name": "stdout",
     "output_type": "stream",
     "text": [
      "Processing ensemble: ag_global_all_SimpleFeedForwardModel_exp5_climate_+ag_global_all_TemporalFusionTransformerModel_exp1_llm_\n"
     ]
    },
    {
     "name": "stderr",
     "output_type": "stream",
     "text": [
      "\r",
      " 49%|████▉     | 27/55 [00:15<00:16,  1.69it/s]"
     ]
    },
    {
     "name": "stdout",
     "output_type": "stream",
     "text": [
      "Processing ensemble: ag_local_TemporalFusionTransformerModel+ag_global_cpi_with_covariates_TemporalFusionTransformerModel_exp5_climate_\n"
     ]
    },
    {
     "name": "stderr",
     "output_type": "stream",
     "text": [
      "\r",
      " 51%|█████     | 28/55 [00:16<00:16,  1.67it/s]"
     ]
    },
    {
     "name": "stdout",
     "output_type": "stream",
     "text": [
      "Processing ensemble: ag_local_TemporalFusionTransformerModel\n"
     ]
    },
    {
     "name": "stderr",
     "output_type": "stream",
     "text": [
      "\r",
      " 53%|█████▎    | 29/55 [00:16<00:14,  1.83it/s]"
     ]
    },
    {
     "name": "stdout",
     "output_type": "stream",
     "text": [
      "Processing ensemble: ag_local_ChronosModel+ag_global_all_ChronosModel\n"
     ]
    },
    {
     "name": "stderr",
     "output_type": "stream",
     "text": [
      "\r",
      " 55%|█████▍    | 30/55 [00:17<00:14,  1.77it/s]"
     ]
    },
    {
     "name": "stdout",
     "output_type": "stream",
     "text": [
      "Processing ensemble: ag_global_all_ChronosModel+ag_global_all_TemporalFusionTransformerModel_exp1_llm_\n"
     ]
    },
    {
     "name": "stderr",
     "output_type": "stream",
     "text": [
      "\r",
      " 56%|█████▋    | 31/55 [00:17<00:13,  1.74it/s]"
     ]
    },
    {
     "name": "stdout",
     "output_type": "stream",
     "text": [
      "Processing ensemble: ag_local_TemporalFusionTransformerModel+ag_local_SimpleFeedForwardModel\n"
     ]
    },
    {
     "name": "stderr",
     "output_type": "stream",
     "text": [
      "\r",
      " 58%|█████▊    | 32/55 [00:18<00:13,  1.71it/s]"
     ]
    },
    {
     "name": "stdout",
     "output_type": "stream",
     "text": [
      "Processing ensemble: ag_global_all_ChronosModel+ag_global_cpi_with_covariates_TemporalFusionTransformerModel_exp5_climate_\n"
     ]
    },
    {
     "name": "stderr",
     "output_type": "stream",
     "text": [
      "\r",
      " 60%|██████    | 33/55 [00:19<00:13,  1.68it/s]"
     ]
    },
    {
     "name": "stdout",
     "output_type": "stream",
     "text": [
      "Processing ensemble: ag_global_all_SimpleFeedForwardModel_exp5_climate_+ag_local_SimpleFeedForwardModel\n"
     ]
    },
    {
     "name": "stderr",
     "output_type": "stream",
     "text": [
      "\r",
      " 62%|██████▏   | 34/55 [00:19<00:12,  1.67it/s]"
     ]
    },
    {
     "name": "stdout",
     "output_type": "stream",
     "text": [
      "Processing ensemble: ag_global_all_ChronosModel\n"
     ]
    },
    {
     "name": "stderr",
     "output_type": "stream",
     "text": [
      "\r",
      " 64%|██████▎   | 35/55 [00:20<00:10,  1.85it/s]"
     ]
    },
    {
     "name": "stdout",
     "output_type": "stream",
     "text": [
      "Processing ensemble: ag_local_ChronosModel+ag_global_all_TemporalFusionTransformerModel_exp5_climate_\n"
     ]
    },
    {
     "name": "stderr",
     "output_type": "stream",
     "text": [
      "\r",
      " 65%|██████▌   | 36/55 [00:20<00:10,  1.76it/s]"
     ]
    },
    {
     "name": "stdout",
     "output_type": "stream",
     "text": [
      "Processing ensemble: ag_global_all_ChronosModel+ag_local_SimpleFeedForwardModel\n"
     ]
    },
    {
     "name": "stderr",
     "output_type": "stream",
     "text": [
      "\r",
      " 67%|██████▋   | 37/55 [00:21<00:10,  1.71it/s]"
     ]
    },
    {
     "name": "stdout",
     "output_type": "stream",
     "text": [
      "Processing ensemble: ag_global_all_SimpleFeedForwardModel_exp5_geopolitical_+ag_local_ChronosModel\n"
     ]
    },
    {
     "name": "stderr",
     "output_type": "stream",
     "text": [
      "\r",
      " 69%|██████▉   | 38/55 [00:22<00:10,  1.67it/s]"
     ]
    },
    {
     "name": "stdout",
     "output_type": "stream",
     "text": [
      "Processing ensemble: ag_local_AutoETSModel+ag_global_all_SimpleFeedForwardModel_exp5_climate_\n"
     ]
    },
    {
     "name": "stderr",
     "output_type": "stream",
     "text": [
      "\r",
      " 71%|███████   | 39/55 [00:22<00:09,  1.68it/s]"
     ]
    },
    {
     "name": "stdout",
     "output_type": "stream",
     "text": [
      "Processing ensemble: ag_global_all_SimpleFeedForwardModel_exp5_geopolitical_+ag_global_all_SimpleFeedForwardModel_exp5_climate_\n"
     ]
    },
    {
     "name": "stderr",
     "output_type": "stream",
     "text": [
      "\r",
      " 73%|███████▎  | 40/55 [00:23<00:08,  1.68it/s]"
     ]
    },
    {
     "name": "stdout",
     "output_type": "stream",
     "text": [
      "Processing ensemble: ag_global_all_TemporalFusionTransformerModel_exp5_climate_\n"
     ]
    },
    {
     "name": "stderr",
     "output_type": "stream",
     "text": [
      "\r",
      " 75%|███████▍  | 41/55 [00:23<00:07,  1.85it/s]"
     ]
    },
    {
     "name": "stdout",
     "output_type": "stream",
     "text": [
      "Processing ensemble: ag_global_cpi_with_covariates_TemporalFusionTransformerModel_exp5_climate_+ag_global_all_SimpleFeedForwardModel_exp5_climate_\n"
     ]
    },
    {
     "name": "stderr",
     "output_type": "stream",
     "text": [
      "\r",
      " 76%|███████▋  | 42/55 [00:24<00:07,  1.79it/s]"
     ]
    },
    {
     "name": "stdout",
     "output_type": "stream",
     "text": [
      "Processing ensemble: ag_global_all_SimpleFeedForwardModel_exp5_geopolitical_\n"
     ]
    },
    {
     "name": "stderr",
     "output_type": "stream",
     "text": [
      "\r",
      " 78%|███████▊  | 43/55 [00:24<00:06,  1.94it/s]"
     ]
    },
    {
     "name": "stdout",
     "output_type": "stream",
     "text": [
      "Processing ensemble: ag_local_AutoETSModel+ag_global_all_TemporalFusionTransformerModel_exp1_llm_\n"
     ]
    },
    {
     "name": "stderr",
     "output_type": "stream",
     "text": [
      "\r",
      " 80%|████████  | 44/55 [00:25<00:05,  1.85it/s]"
     ]
    },
    {
     "name": "stdout",
     "output_type": "stream",
     "text": [
      "Processing ensemble: ag_global_all_SimpleFeedForwardModel_exp5_geopolitical_+ag_global_all_TemporalFusionTransformerModel_exp1_llm_\n"
     ]
    },
    {
     "name": "stderr",
     "output_type": "stream",
     "text": [
      "\r",
      " 82%|████████▏ | 45/55 [00:25<00:05,  1.78it/s]"
     ]
    },
    {
     "name": "stdout",
     "output_type": "stream",
     "text": [
      "Processing ensemble: ag_global_all_ChronosModel+ag_local_AutoETSModel\n"
     ]
    },
    {
     "name": "stderr",
     "output_type": "stream",
     "text": [
      "\r",
      " 84%|████████▎ | 46/55 [00:26<00:05,  1.72it/s]"
     ]
    },
    {
     "name": "stdout",
     "output_type": "stream",
     "text": [
      "Processing ensemble: ag_global_cpi_with_covariates_TemporalFusionTransformerModel_exp5_climate_+ag_local_SimpleFeedForwardModel\n"
     ]
    },
    {
     "name": "stderr",
     "output_type": "stream",
     "text": [
      "\r",
      " 85%|████████▌ | 47/55 [00:27<00:04,  1.70it/s]"
     ]
    },
    {
     "name": "stdout",
     "output_type": "stream",
     "text": [
      "Processing ensemble: ag_global_cpi_with_covariates_TemporalFusionTransformerModel_exp5_climate_+ag_global_all_TemporalFusionTransformerModel_exp1_llm_\n"
     ]
    },
    {
     "name": "stderr",
     "output_type": "stream",
     "text": [
      "\r",
      " 87%|████████▋ | 48/55 [00:27<00:04,  1.69it/s]"
     ]
    },
    {
     "name": "stdout",
     "output_type": "stream",
     "text": [
      "Processing ensemble: ag_local_AutoETSModel+ag_global_cpi_with_covariates_TemporalFusionTransformerModel_exp5_climate_\n"
     ]
    },
    {
     "name": "stderr",
     "output_type": "stream",
     "text": [
      "\r",
      " 89%|████████▉ | 49/55 [00:28<00:03,  1.66it/s]"
     ]
    },
    {
     "name": "stdout",
     "output_type": "stream",
     "text": [
      "Processing ensemble: ag_global_all_SimpleFeedForwardModel_exp5_geopolitical_+ag_global_cpi_with_covariates_TemporalFusionTransformerModel_exp5_climate_\n"
     ]
    },
    {
     "name": "stderr",
     "output_type": "stream",
     "text": [
      "\r",
      " 91%|█████████ | 50/55 [00:28<00:03,  1.64it/s]"
     ]
    },
    {
     "name": "stdout",
     "output_type": "stream",
     "text": [
      "Processing ensemble: ag_global_all_ChronosModel+ag_local_TemporalFusionTransformerModel\n"
     ]
    },
    {
     "name": "stderr",
     "output_type": "stream",
     "text": [
      "\r",
      " 93%|█████████▎| 51/55 [00:29<00:02,  1.62it/s]"
     ]
    },
    {
     "name": "stdout",
     "output_type": "stream",
     "text": [
      "Processing ensemble: ag_global_all_TemporalFusionTransformerModel_exp5_climate_+ag_global_all_SimpleFeedForwardModel_exp5_climate_\n"
     ]
    },
    {
     "name": "stderr",
     "output_type": "stream",
     "text": [
      "\r",
      " 95%|█████████▍| 52/55 [00:30<00:01,  1.62it/s]"
     ]
    },
    {
     "name": "stdout",
     "output_type": "stream",
     "text": [
      "Processing ensemble: ag_local_ChronosModel+ag_global_all_SimpleFeedForwardModel_exp5_climate_\n"
     ]
    },
    {
     "name": "stderr",
     "output_type": "stream",
     "text": [
      "\r",
      " 96%|█████████▋| 53/55 [00:30<00:01,  1.60it/s]"
     ]
    },
    {
     "name": "stdout",
     "output_type": "stream",
     "text": [
      "Processing ensemble: ag_local_AutoETSModel+ag_local_SimpleFeedForwardModel\n"
     ]
    },
    {
     "name": "stderr",
     "output_type": "stream",
     "text": [
      "\r",
      " 98%|█████████▊| 54/55 [00:31<00:00,  1.60it/s]"
     ]
    },
    {
     "name": "stdout",
     "output_type": "stream",
     "text": [
      "Processing ensemble: ag_global_all_SimpleFeedForwardModel_exp5_geopolitical_+ag_local_SimpleFeedForwardModel\n"
     ]
    },
    {
     "name": "stderr",
     "output_type": "stream",
     "text": [
      "100%|██████████| 55/55 [00:32<00:00,  1.71it/s]\n"
     ]
    },
    {
     "name": "stdout",
     "output_type": "stream",
     "text": [
      "Computing ensemble scores for: food_cpi: Fish, seafood and other marine products\n"
     ]
    },
    {
     "name": "stderr",
     "output_type": "stream",
     "text": [
      "\r",
      "  0%|          | 0/55 [00:00<?, ?it/s]"
     ]
    },
    {
     "name": "stdout",
     "output_type": "stream",
     "text": [
      "Processing ensemble: ag_global_all_TemporalFusionTransformerModel_exp5_climate_+ag_global_cpi_with_covariates_TemporalFusionTransformerModel_exp1_llm_\n"
     ]
    },
    {
     "name": "stderr",
     "output_type": "stream",
     "text": [
      "\r",
      "  2%|▏         | 1/55 [00:00<00:34,  1.58it/s]"
     ]
    },
    {
     "name": "stdout",
     "output_type": "stream",
     "text": [
      "Processing ensemble: ag_global_all_TemporalFusionTransformerModel_exp5_climate_+ag_global_all_TemporalFusionTransformerModel_exp5_manufacturing_\n"
     ]
    },
    {
     "name": "stderr",
     "output_type": "stream",
     "text": [
      "\r",
      "  4%|▎         | 2/55 [00:01<00:33,  1.59it/s]"
     ]
    },
    {
     "name": "stdout",
     "output_type": "stream",
     "text": [
      "Processing ensemble: ag_global_all_TemporalFusionTransformerModel_exp5_climate_+ag_global_cpi_with_covariates_TemporalFusionTransformerModel_exp5_climate_\n"
     ]
    },
    {
     "name": "stderr",
     "output_type": "stream",
     "text": [
      "\r",
      "  5%|▌         | 3/55 [00:01<00:32,  1.60it/s]"
     ]
    },
    {
     "name": "stdout",
     "output_type": "stream",
     "text": [
      "Processing ensemble: ag_global_cpi_with_covariates_TemporalFusionTransformerModel_exp5_manufacturing_\n"
     ]
    },
    {
     "name": "stderr",
     "output_type": "stream",
     "text": [
      "\r",
      "  7%|▋         | 4/55 [00:02<00:28,  1.81it/s]"
     ]
    },
    {
     "name": "stdout",
     "output_type": "stream",
     "text": [
      "Processing ensemble: ag_global_cpi_with_covariates_TemporalFusionTransformerModel_exp1_llm_\n"
     ]
    },
    {
     "name": "stderr",
     "output_type": "stream",
     "text": [
      "\r",
      "  9%|▉         | 5/55 [00:02<00:25,  1.97it/s]"
     ]
    },
    {
     "name": "stdout",
     "output_type": "stream",
     "text": [
      "Processing ensemble: ag_global_all_TemporalFusionTransformerModel_exp1_llm_\n"
     ]
    },
    {
     "name": "stderr",
     "output_type": "stream",
     "text": [
      "\r",
      " 11%|█         | 6/55 [00:03<00:23,  2.07it/s]"
     ]
    },
    {
     "name": "stdout",
     "output_type": "stream",
     "text": [
      "Processing ensemble: ag_global_all_TemporalFusionTransformerModel_exp5_climate_+ag_local_SimpleFeedForwardModel\n"
     ]
    },
    {
     "name": "stderr",
     "output_type": "stream",
     "text": [
      "\r",
      " 13%|█▎        | 7/55 [00:03<00:25,  1.89it/s]"
     ]
    },
    {
     "name": "stdout",
     "output_type": "stream",
     "text": [
      "Processing ensemble: ag_global_all_TemporalFusionTransformerModel_exp5_manufacturing_\n"
     ]
    },
    {
     "name": "stderr",
     "output_type": "stream",
     "text": [
      "\r",
      " 15%|█▍        | 8/55 [00:04<00:23,  2.01it/s]"
     ]
    },
    {
     "name": "stdout",
     "output_type": "stream",
     "text": [
      "Processing ensemble: ag_global_cpi_with_covariates_TemporalFusionTransformerModel_exp5_climate_\n"
     ]
    },
    {
     "name": "stderr",
     "output_type": "stream",
     "text": [
      "\r",
      " 16%|█▋        | 9/55 [00:04<00:21,  2.10it/s]"
     ]
    },
    {
     "name": "stdout",
     "output_type": "stream",
     "text": [
      "Processing ensemble: ag_local_AutoETSModel+ag_global_all_TemporalFusionTransformerModel_exp5_geopolitical_\n"
     ]
    },
    {
     "name": "stderr",
     "output_type": "stream",
     "text": [
      "\r",
      " 18%|█▊        | 10/55 [00:05<00:23,  1.91it/s]"
     ]
    },
    {
     "name": "stdout",
     "output_type": "stream",
     "text": [
      "Processing ensemble: ag_local_SimpleFeedForwardModel\n"
     ]
    },
    {
     "name": "stderr",
     "output_type": "stream",
     "text": [
      "\r",
      " 20%|██        | 11/55 [00:05<00:21,  2.01it/s]"
     ]
    },
    {
     "name": "stdout",
     "output_type": "stream",
     "text": [
      "Processing ensemble: ag_global_cpi_with_covariates_TemporalFusionTransformerModel_exp5_manufacturing_+ag_global_cpi_with_covariates_TemporalFusionTransformerModel\n"
     ]
    },
    {
     "name": "stderr",
     "output_type": "stream",
     "text": [
      "\r",
      " 22%|██▏       | 12/55 [00:06<00:23,  1.85it/s]"
     ]
    },
    {
     "name": "stdout",
     "output_type": "stream",
     "text": [
      "Processing ensemble: ag_global_all_TemporalFusionTransformerModel_exp5_manufacturing_+ag_global_cpi_with_covariates_TemporalFusionTransformerModel\n"
     ]
    },
    {
     "name": "stderr",
     "output_type": "stream",
     "text": [
      "\r",
      " 24%|██▎       | 13/55 [00:06<00:23,  1.77it/s]"
     ]
    },
    {
     "name": "stdout",
     "output_type": "stream",
     "text": [
      "Processing ensemble: ag_global_all_TemporalFusionTransformerModel_exp1_llm_+ag_global_all_TemporalFusionTransformerModel_exp5_geopolitical_\n"
     ]
    },
    {
     "name": "stderr",
     "output_type": "stream",
     "text": [
      "\r",
      " 25%|██▌       | 14/55 [00:07<00:24,  1.70it/s]"
     ]
    },
    {
     "name": "stdout",
     "output_type": "stream",
     "text": [
      "Processing ensemble: ag_local_AutoETSModel+ag_global_all_TemporalFusionTransformerModel_exp5_climate_\n"
     ]
    },
    {
     "name": "stderr",
     "output_type": "stream",
     "text": [
      "\r",
      " 27%|██▋       | 15/55 [00:08<00:24,  1.65it/s]"
     ]
    },
    {
     "name": "stdout",
     "output_type": "stream",
     "text": [
      "Processing ensemble: ag_global_cpi_with_covariates_TemporalFusionTransformerModel_exp5_manufacturing_+ag_global_cpi_with_covariates_TemporalFusionTransformerModel_exp1_llm_\n"
     ]
    },
    {
     "name": "stderr",
     "output_type": "stream",
     "text": [
      "\r",
      " 29%|██▉       | 16/55 [00:08<00:23,  1.64it/s]"
     ]
    },
    {
     "name": "stdout",
     "output_type": "stream",
     "text": [
      "Processing ensemble: ag_local_AutoETSModel\n"
     ]
    },
    {
     "name": "stderr",
     "output_type": "stream",
     "text": [
      "\r",
      " 31%|███       | 17/55 [00:09<00:21,  1.80it/s]"
     ]
    },
    {
     "name": "stdout",
     "output_type": "stream",
     "text": [
      "Processing ensemble: ag_global_all_TemporalFusionTransformerModel_exp5_manufacturing_+ag_global_cpi_with_covariates_TemporalFusionTransformerModel_exp1_llm_\n"
     ]
    },
    {
     "name": "stderr",
     "output_type": "stream",
     "text": [
      "\r",
      " 33%|███▎      | 18/55 [00:09<00:21,  1.76it/s]"
     ]
    },
    {
     "name": "stdout",
     "output_type": "stream",
     "text": [
      "Processing ensemble: ag_global_all_TemporalFusionTransformerModel_exp1_llm_+ag_global_all_TemporalFusionTransformerModel_exp5_climate_\n"
     ]
    },
    {
     "name": "stderr",
     "output_type": "stream",
     "text": [
      "\r",
      " 35%|███▍      | 19/55 [00:10<00:20,  1.73it/s]"
     ]
    },
    {
     "name": "stdout",
     "output_type": "stream",
     "text": [
      "Processing ensemble: ag_global_all_TemporalFusionTransformerModel_exp5_climate_+ag_global_all_TemporalFusionTransformerModel_exp5_geopolitical_\n"
     ]
    },
    {
     "name": "stderr",
     "output_type": "stream",
     "text": [
      "\r",
      " 36%|███▋      | 20/55 [00:11<00:20,  1.70it/s]"
     ]
    },
    {
     "name": "stdout",
     "output_type": "stream",
     "text": [
      "Processing ensemble: ag_global_cpi_with_covariates_TemporalFusionTransformerModel_exp5_manufacturing_+ag_global_all_TemporalFusionTransformerModel_exp5_manufacturing_\n"
     ]
    },
    {
     "name": "stderr",
     "output_type": "stream",
     "text": [
      "\r",
      " 38%|███▊      | 21/55 [00:11<00:20,  1.68it/s]"
     ]
    },
    {
     "name": "stdout",
     "output_type": "stream",
     "text": [
      "Processing ensemble: ag_global_cpi_with_covariates_TemporalFusionTransformerModel_exp5_manufacturing_+ag_global_cpi_with_covariates_TemporalFusionTransformerModel_exp5_climate_\n"
     ]
    },
    {
     "name": "stderr",
     "output_type": "stream",
     "text": [
      "\r",
      " 40%|████      | 22/55 [00:12<00:19,  1.65it/s]"
     ]
    },
    {
     "name": "stdout",
     "output_type": "stream",
     "text": [
      "Processing ensemble: ag_global_all_TemporalFusionTransformerModel_exp5_geopolitical_+ag_global_cpi_with_covariates_TemporalFusionTransformerModel\n"
     ]
    },
    {
     "name": "stderr",
     "output_type": "stream",
     "text": [
      "\r",
      " 42%|████▏     | 23/55 [00:13<00:19,  1.64it/s]"
     ]
    },
    {
     "name": "stdout",
     "output_type": "stream",
     "text": [
      "Processing ensemble: ag_global_all_TemporalFusionTransformerModel_exp5_manufacturing_+ag_global_cpi_with_covariates_TemporalFusionTransformerModel_exp5_climate_\n"
     ]
    },
    {
     "name": "stderr",
     "output_type": "stream",
     "text": [
      "\r",
      " 44%|████▎     | 24/55 [00:13<00:18,  1.64it/s]"
     ]
    },
    {
     "name": "stdout",
     "output_type": "stream",
     "text": [
      "Processing ensemble: ag_global_cpi_with_covariates_TemporalFusionTransformerModel_exp5_manufacturing_+ag_local_SimpleFeedForwardModel\n"
     ]
    },
    {
     "name": "stderr",
     "output_type": "stream",
     "text": [
      "\r",
      " 45%|████▌     | 25/55 [00:14<00:18,  1.63it/s]"
     ]
    },
    {
     "name": "stdout",
     "output_type": "stream",
     "text": [
      "Processing ensemble: ag_local_AutoETSModel+ag_global_cpi_with_covariates_TemporalFusionTransformerModel\n"
     ]
    },
    {
     "name": "stderr",
     "output_type": "stream",
     "text": [
      "\r",
      " 47%|████▋     | 26/55 [00:14<00:17,  1.61it/s]"
     ]
    },
    {
     "name": "stdout",
     "output_type": "stream",
     "text": [
      "Processing ensemble: ag_global_all_TemporalFusionTransformerModel_exp5_manufacturing_+ag_local_SimpleFeedForwardModel\n"
     ]
    },
    {
     "name": "stderr",
     "output_type": "stream",
     "text": [
      "\r",
      " 49%|████▉     | 27/55 [00:15<00:17,  1.61it/s]"
     ]
    },
    {
     "name": "stdout",
     "output_type": "stream",
     "text": [
      "Processing ensemble: ag_global_cpi_with_covariates_TemporalFusionTransformerModel_exp5_climate_+ag_global_cpi_with_covariates_TemporalFusionTransformerModel\n"
     ]
    },
    {
     "name": "stderr",
     "output_type": "stream",
     "text": [
      "\r",
      " 51%|█████     | 28/55 [00:16<00:16,  1.60it/s]"
     ]
    },
    {
     "name": "stdout",
     "output_type": "stream",
     "text": [
      "Processing ensemble: ag_global_all_TemporalFusionTransformerModel_exp5_geopolitical_\n"
     ]
    },
    {
     "name": "stderr",
     "output_type": "stream",
     "text": [
      "\r",
      " 53%|█████▎    | 29/55 [00:16<00:14,  1.75it/s]"
     ]
    },
    {
     "name": "stdout",
     "output_type": "stream",
     "text": [
      "Processing ensemble: ag_global_all_TemporalFusionTransformerModel_exp1_llm_+ag_global_cpi_with_covariates_TemporalFusionTransformerModel\n"
     ]
    },
    {
     "name": "stderr",
     "output_type": "stream",
     "text": [
      "\r",
      " 55%|█████▍    | 30/55 [00:17<00:14,  1.70it/s]"
     ]
    },
    {
     "name": "stdout",
     "output_type": "stream",
     "text": [
      "Processing ensemble: ag_global_all_TemporalFusionTransformerModel_exp5_geopolitical_+ag_global_cpi_with_covariates_TemporalFusionTransformerModel_exp1_llm_\n"
     ]
    },
    {
     "name": "stderr",
     "output_type": "stream",
     "text": [
      "\r",
      " 56%|█████▋    | 31/55 [00:17<00:14,  1.67it/s]"
     ]
    },
    {
     "name": "stdout",
     "output_type": "stream",
     "text": [
      "Processing ensemble: ag_local_SimpleFeedForwardModel+ag_global_cpi_with_covariates_TemporalFusionTransformerModel\n"
     ]
    },
    {
     "name": "stderr",
     "output_type": "stream",
     "text": [
      "\r",
      " 58%|█████▊    | 32/55 [00:18<00:13,  1.65it/s]"
     ]
    },
    {
     "name": "stdout",
     "output_type": "stream",
     "text": [
      "Processing ensemble: ag_local_AutoETSModel+ag_global_cpi_with_covariates_TemporalFusionTransformerModel_exp5_manufacturing_\n"
     ]
    },
    {
     "name": "stderr",
     "output_type": "stream",
     "text": [
      "\r",
      " 60%|██████    | 33/55 [00:19<00:13,  1.63it/s]"
     ]
    },
    {
     "name": "stdout",
     "output_type": "stream",
     "text": [
      "Processing ensemble: ag_global_all_TemporalFusionTransformerModel_exp5_climate_\n"
     ]
    },
    {
     "name": "stderr",
     "output_type": "stream",
     "text": [
      "\r",
      " 62%|██████▏   | 34/55 [00:19<00:11,  1.78it/s]"
     ]
    },
    {
     "name": "stdout",
     "output_type": "stream",
     "text": [
      "Processing ensemble: ag_global_all_TemporalFusionTransformerModel_exp5_geopolitical_+ag_global_cpi_with_covariates_TemporalFusionTransformerModel_exp5_climate_\n"
     ]
    },
    {
     "name": "stderr",
     "output_type": "stream",
     "text": [
      "\r",
      " 64%|██████▎   | 35/55 [00:20<00:11,  1.74it/s]"
     ]
    },
    {
     "name": "stdout",
     "output_type": "stream",
     "text": [
      "Processing ensemble: ag_global_all_TemporalFusionTransformerModel_exp1_llm_+ag_global_cpi_with_covariates_TemporalFusionTransformerModel_exp5_manufacturing_\n"
     ]
    },
    {
     "name": "stderr",
     "output_type": "stream",
     "text": [
      "\r",
      " 65%|██████▌   | 36/55 [00:20<00:11,  1.70it/s]"
     ]
    },
    {
     "name": "stdout",
     "output_type": "stream",
     "text": [
      "Processing ensemble: ag_global_cpi_with_covariates_TemporalFusionTransformerModel_exp5_climate_+ag_global_cpi_with_covariates_TemporalFusionTransformerModel_exp1_llm_\n"
     ]
    },
    {
     "name": "stderr",
     "output_type": "stream",
     "text": [
      "\r",
      " 67%|██████▋   | 37/55 [00:21<00:10,  1.68it/s]"
     ]
    },
    {
     "name": "stdout",
     "output_type": "stream",
     "text": [
      "Processing ensemble: ag_global_all_TemporalFusionTransformerModel_exp5_climate_+ag_global_cpi_with_covariates_TemporalFusionTransformerModel\n"
     ]
    },
    {
     "name": "stderr",
     "output_type": "stream",
     "text": [
      "\r",
      " 69%|██████▉   | 38/55 [00:21<00:10,  1.65it/s]"
     ]
    },
    {
     "name": "stdout",
     "output_type": "stream",
     "text": [
      "Processing ensemble: ag_local_AutoETSModel+ag_global_cpi_with_covariates_TemporalFusionTransformerModel_exp1_llm_\n"
     ]
    },
    {
     "name": "stderr",
     "output_type": "stream",
     "text": [
      "\r",
      " 71%|███████   | 39/55 [00:22<00:09,  1.63it/s]"
     ]
    },
    {
     "name": "stdout",
     "output_type": "stream",
     "text": [
      "Processing ensemble: ag_global_all_TemporalFusionTransformerModel_exp1_llm_+ag_global_cpi_with_covariates_TemporalFusionTransformerModel_exp1_llm_\n"
     ]
    },
    {
     "name": "stderr",
     "output_type": "stream",
     "text": [
      "\r",
      " 73%|███████▎  | 40/55 [00:23<00:09,  1.62it/s]"
     ]
    },
    {
     "name": "stdout",
     "output_type": "stream",
     "text": [
      "Processing ensemble: ag_local_AutoETSModel+ag_global_all_TemporalFusionTransformerModel_exp1_llm_\n"
     ]
    },
    {
     "name": "stderr",
     "output_type": "stream",
     "text": [
      "\r",
      " 75%|███████▍  | 41/55 [00:23<00:08,  1.60it/s]"
     ]
    },
    {
     "name": "stdout",
     "output_type": "stream",
     "text": [
      "Processing ensemble: ag_global_all_TemporalFusionTransformerModel_exp5_geopolitical_+ag_local_SimpleFeedForwardModel\n"
     ]
    },
    {
     "name": "stderr",
     "output_type": "stream",
     "text": [
      "\r",
      " 76%|███████▋  | 42/55 [00:24<00:08,  1.60it/s]"
     ]
    },
    {
     "name": "stdout",
     "output_type": "stream",
     "text": [
      "Processing ensemble: ag_global_cpi_with_covariates_TemporalFusionTransformerModel_exp5_climate_+ag_local_SimpleFeedForwardModel\n"
     ]
    },
    {
     "name": "stderr",
     "output_type": "stream",
     "text": [
      "\r",
      " 78%|███████▊  | 43/55 [00:25<00:07,  1.60it/s]"
     ]
    },
    {
     "name": "stdout",
     "output_type": "stream",
     "text": [
      "Processing ensemble: ag_local_AutoETSModel+ag_global_all_TemporalFusionTransformerModel_exp5_manufacturing_\n"
     ]
    },
    {
     "name": "stderr",
     "output_type": "stream",
     "text": [
      "\r",
      " 80%|████████  | 44/55 [00:25<00:06,  1.60it/s]"
     ]
    },
    {
     "name": "stdout",
     "output_type": "stream",
     "text": [
      "Processing ensemble: ag_local_AutoETSModel+ag_global_cpi_with_covariates_TemporalFusionTransformerModel_exp5_climate_\n"
     ]
    },
    {
     "name": "stderr",
     "output_type": "stream",
     "text": [
      "\r",
      " 82%|████████▏ | 45/55 [00:26<00:06,  1.60it/s]"
     ]
    },
    {
     "name": "stdout",
     "output_type": "stream",
     "text": [
      "Processing ensemble: ag_global_all_TemporalFusionTransformerModel_exp1_llm_+ag_global_all_TemporalFusionTransformerModel_exp5_manufacturing_\n"
     ]
    },
    {
     "name": "stderr",
     "output_type": "stream",
     "text": [
      "\r",
      " 84%|████████▎ | 46/55 [00:27<00:05,  1.61it/s]"
     ]
    },
    {
     "name": "stdout",
     "output_type": "stream",
     "text": [
      "Processing ensemble: ag_local_SimpleFeedForwardModel+ag_global_cpi_with_covariates_TemporalFusionTransformerModel_exp1_llm_\n"
     ]
    },
    {
     "name": "stderr",
     "output_type": "stream",
     "text": [
      "\r",
      " 85%|████████▌ | 47/55 [00:27<00:04,  1.62it/s]"
     ]
    },
    {
     "name": "stdout",
     "output_type": "stream",
     "text": [
      "Processing ensemble: ag_global_cpi_with_covariates_TemporalFusionTransformerModel+ag_global_cpi_with_covariates_TemporalFusionTransformerModel_exp1_llm_\n"
     ]
    },
    {
     "name": "stderr",
     "output_type": "stream",
     "text": [
      "\r",
      " 87%|████████▋ | 48/55 [00:28<00:04,  1.62it/s]"
     ]
    },
    {
     "name": "stdout",
     "output_type": "stream",
     "text": [
      "Processing ensemble: ag_global_all_TemporalFusionTransformerModel_exp1_llm_+ag_global_cpi_with_covariates_TemporalFusionTransformerModel_exp5_climate_\n"
     ]
    },
    {
     "name": "stderr",
     "output_type": "stream",
     "text": [
      "\r",
      " 89%|████████▉ | 49/55 [00:28<00:03,  1.61it/s]"
     ]
    },
    {
     "name": "stdout",
     "output_type": "stream",
     "text": [
      "Processing ensemble: ag_global_cpi_with_covariates_TemporalFusionTransformerModel\n"
     ]
    },
    {
     "name": "stderr",
     "output_type": "stream",
     "text": [
      "\r",
      " 91%|█████████ | 50/55 [00:29<00:02,  1.77it/s]"
     ]
    },
    {
     "name": "stdout",
     "output_type": "stream",
     "text": [
      "Processing ensemble: ag_global_all_TemporalFusionTransformerModel_exp5_climate_+ag_global_cpi_with_covariates_TemporalFusionTransformerModel_exp5_manufacturing_\n"
     ]
    },
    {
     "name": "stderr",
     "output_type": "stream",
     "text": [
      "\r",
      " 93%|█████████▎| 51/55 [00:29<00:02,  1.72it/s]"
     ]
    },
    {
     "name": "stdout",
     "output_type": "stream",
     "text": [
      "Processing ensemble: ag_global_cpi_with_covariates_TemporalFusionTransformerModel_exp5_manufacturing_+ag_global_all_TemporalFusionTransformerModel_exp5_geopolitical_\n"
     ]
    },
    {
     "name": "stderr",
     "output_type": "stream",
     "text": [
      "\r",
      " 95%|█████████▍| 52/55 [00:30<00:01,  1.69it/s]"
     ]
    },
    {
     "name": "stdout",
     "output_type": "stream",
     "text": [
      "Processing ensemble: ag_local_AutoETSModel+ag_local_SimpleFeedForwardModel\n"
     ]
    },
    {
     "name": "stderr",
     "output_type": "stream",
     "text": [
      "\r",
      " 96%|█████████▋| 53/55 [00:31<00:01,  1.66it/s]"
     ]
    },
    {
     "name": "stdout",
     "output_type": "stream",
     "text": [
      "Processing ensemble: ag_global_all_TemporalFusionTransformerModel_exp1_llm_+ag_local_SimpleFeedForwardModel\n"
     ]
    },
    {
     "name": "stderr",
     "output_type": "stream",
     "text": [
      "\r",
      " 98%|█████████▊| 54/55 [00:31<00:00,  1.65it/s]"
     ]
    },
    {
     "name": "stdout",
     "output_type": "stream",
     "text": [
      "Processing ensemble: ag_global_all_TemporalFusionTransformerModel_exp5_manufacturing_+ag_global_all_TemporalFusionTransformerModel_exp5_geopolitical_\n"
     ]
    },
    {
     "name": "stderr",
     "output_type": "stream",
     "text": [
      "100%|██████████| 55/55 [00:32<00:00,  1.70it/s]\n"
     ]
    },
    {
     "name": "stdout",
     "output_type": "stream",
     "text": [
      "Computing ensemble scores for: food_cpi: Food purchased from restaurants\n"
     ]
    },
    {
     "name": "stderr",
     "output_type": "stream",
     "text": [
      "0it [00:00, ?it/s]\n"
     ]
    },
    {
     "name": "stdout",
     "output_type": "stream",
     "text": [
      "Computing ensemble scores for: food_cpi: Food\n"
     ]
    },
    {
     "name": "stderr",
     "output_type": "stream",
     "text": [
      "\r",
      "  0%|          | 0/55 [00:00<?, ?it/s]"
     ]
    },
    {
     "name": "stdout",
     "output_type": "stream",
     "text": [
      "Processing ensemble: ag_local_AutoARIMAModel+ag_local_AutoETSModel\n"
     ]
    },
    {
     "name": "stderr",
     "output_type": "stream",
     "text": [
      "\r",
      "  2%|▏         | 1/55 [00:00<00:33,  1.59it/s]"
     ]
    },
    {
     "name": "stdout",
     "output_type": "stream",
     "text": [
      "Processing ensemble: ag_local_ChronosModel\n"
     ]
    },
    {
     "name": "stderr",
     "output_type": "stream",
     "text": [
      "\r",
      "  4%|▎         | 2/55 [00:01<00:26,  1.97it/s]"
     ]
    },
    {
     "name": "stdout",
     "output_type": "stream",
     "text": [
      "Processing ensemble: ag_global_all_ChronosModel+ag_global_all_DeepARModel\n"
     ]
    },
    {
     "name": "stderr",
     "output_type": "stream",
     "text": [
      "\r",
      "  5%|▌         | 3/55 [00:01<00:29,  1.77it/s]"
     ]
    },
    {
     "name": "stdout",
     "output_type": "stream",
     "text": [
      "Processing ensemble: ag_local_AutoARIMAModel+ag_local_TemporalFusionTransformerModel\n"
     ]
    },
    {
     "name": "stderr",
     "output_type": "stream",
     "text": [
      "\r",
      "  7%|▋         | 4/55 [00:02<00:30,  1.69it/s]"
     ]
    },
    {
     "name": "stdout",
     "output_type": "stream",
     "text": [
      "Processing ensemble: ag_local_AutoETSModel+ag_global_all_TemporalFusionTransformerModel\n"
     ]
    },
    {
     "name": "stderr",
     "output_type": "stream",
     "text": [
      "\r",
      "  9%|▉         | 5/55 [00:02<00:30,  1.64it/s]"
     ]
    },
    {
     "name": "stdout",
     "output_type": "stream",
     "text": [
      "Processing ensemble: ag_global_cpi_with_covariates_TemporalFusionTransformerModel+ag_local_NaiveModel\n"
     ]
    },
    {
     "name": "stderr",
     "output_type": "stream",
     "text": [
      "\r",
      " 11%|█         | 6/55 [00:03<00:30,  1.62it/s]"
     ]
    },
    {
     "name": "stdout",
     "output_type": "stream",
     "text": [
      "Processing ensemble: ag_local_NaiveModel+ag_global_all_DeepARModel\n"
     ]
    },
    {
     "name": "stderr",
     "output_type": "stream",
     "text": [
      "\r",
      " 13%|█▎        | 7/55 [00:04<00:29,  1.61it/s]"
     ]
    },
    {
     "name": "stdout",
     "output_type": "stream",
     "text": [
      "Processing ensemble: ag_global_all_TemporalFusionTransformerModel+ag_global_all_SimpleFeedForwardModel\n"
     ]
    },
    {
     "name": "stderr",
     "output_type": "stream",
     "text": [
      "\r",
      " 15%|█▍        | 8/55 [00:04<00:29,  1.61it/s]"
     ]
    },
    {
     "name": "stdout",
     "output_type": "stream",
     "text": [
      "Processing ensemble: ag_local_ChronosModel+ag_local_NaiveModel\n"
     ]
    },
    {
     "name": "stderr",
     "output_type": "stream",
     "text": [
      "\r",
      " 16%|█▋        | 9/55 [00:05<00:28,  1.62it/s]"
     ]
    },
    {
     "name": "stdout",
     "output_type": "stream",
     "text": [
      "Processing ensemble: ag_local_AutoETSModel+ag_local_TemporalFusionTransformerModel\n"
     ]
    },
    {
     "name": "stderr",
     "output_type": "stream",
     "text": [
      "\r",
      " 18%|█▊        | 10/55 [00:06<00:27,  1.62it/s]"
     ]
    },
    {
     "name": "stdout",
     "output_type": "stream",
     "text": [
      "Processing ensemble: ag_local_AutoARIMAModel\n"
     ]
    },
    {
     "name": "stderr",
     "output_type": "stream",
     "text": [
      "\r",
      " 20%|██        | 11/55 [00:06<00:24,  1.79it/s]"
     ]
    },
    {
     "name": "stdout",
     "output_type": "stream",
     "text": [
      "Processing ensemble: ag_global_all_ChronosModel+ag_global_all_SimpleFeedForwardModel\n"
     ]
    },
    {
     "name": "stderr",
     "output_type": "stream",
     "text": [
      "\r",
      " 22%|██▏       | 12/55 [00:07<00:24,  1.73it/s]"
     ]
    },
    {
     "name": "stdout",
     "output_type": "stream",
     "text": [
      "Processing ensemble: ag_local_AutoARIMAModel+ag_global_all_DeepARModel\n"
     ]
    },
    {
     "name": "stderr",
     "output_type": "stream",
     "text": [
      "\r",
      " 24%|██▎       | 13/55 [00:07<00:24,  1.69it/s]"
     ]
    },
    {
     "name": "stdout",
     "output_type": "stream",
     "text": [
      "Processing ensemble: ag_local_NaiveModel+ag_global_all_SimpleFeedForwardModel\n"
     ]
    },
    {
     "name": "stderr",
     "output_type": "stream",
     "text": [
      "\r",
      " 25%|██▌       | 14/55 [00:08<00:24,  1.67it/s]"
     ]
    },
    {
     "name": "stdout",
     "output_type": "stream",
     "text": [
      "Processing ensemble: ag_global_all_TemporalFusionTransformerModel+ag_global_cpi_with_covariates_TemporalFusionTransformerModel\n"
     ]
    },
    {
     "name": "stderr",
     "output_type": "stream",
     "text": [
      "\r",
      " 27%|██▋       | 15/55 [00:08<00:24,  1.65it/s]"
     ]
    },
    {
     "name": "stdout",
     "output_type": "stream",
     "text": [
      "Processing ensemble: ag_global_cpi_with_covariates_TemporalFusionTransformerModel+ag_local_TemporalFusionTransformerModel\n"
     ]
    },
    {
     "name": "stderr",
     "output_type": "stream",
     "text": [
      "\r",
      " 29%|██▉       | 16/55 [00:09<00:23,  1.65it/s]"
     ]
    },
    {
     "name": "stdout",
     "output_type": "stream",
     "text": [
      "Processing ensemble: ag_local_ChronosModel+ag_global_all_TemporalFusionTransformerModel\n"
     ]
    },
    {
     "name": "stderr",
     "output_type": "stream",
     "text": [
      "\r",
      " 31%|███       | 17/55 [00:10<00:23,  1.64it/s]"
     ]
    },
    {
     "name": "stdout",
     "output_type": "stream",
     "text": [
      "Processing ensemble: ag_local_NaiveModel\n"
     ]
    },
    {
     "name": "stderr",
     "output_type": "stream",
     "text": [
      "\r",
      " 33%|███▎      | 18/55 [00:10<00:20,  1.80it/s]"
     ]
    },
    {
     "name": "stdout",
     "output_type": "stream",
     "text": [
      "Processing ensemble: ag_global_all_ChronosModel+ag_global_cpi_with_covariates_TemporalFusionTransformerModel\n"
     ]
    },
    {
     "name": "stderr",
     "output_type": "stream",
     "text": [
      "\r",
      " 35%|███▍      | 19/55 [00:11<00:20,  1.74it/s]"
     ]
    },
    {
     "name": "stdout",
     "output_type": "stream",
     "text": [
      "Processing ensemble: ag_local_ChronosModel+ag_local_AutoETSModel\n"
     ]
    },
    {
     "name": "stderr",
     "output_type": "stream",
     "text": [
      "\r",
      " 36%|███▋      | 20/55 [00:11<00:20,  1.69it/s]"
     ]
    },
    {
     "name": "stdout",
     "output_type": "stream",
     "text": [
      "Processing ensemble: ag_local_ChronosModel+ag_local_TemporalFusionTransformerModel\n"
     ]
    },
    {
     "name": "stderr",
     "output_type": "stream",
     "text": [
      "\r",
      " 38%|███▊      | 21/55 [00:12<00:20,  1.66it/s]"
     ]
    },
    {
     "name": "stdout",
     "output_type": "stream",
     "text": [
      "Processing ensemble: ag_local_AutoETSModel+ag_global_all_DeepARModel\n"
     ]
    },
    {
     "name": "stderr",
     "output_type": "stream",
     "text": [
      "\r",
      " 40%|████      | 22/55 [00:13<00:20,  1.63it/s]"
     ]
    },
    {
     "name": "stdout",
     "output_type": "stream",
     "text": [
      "Processing ensemble: ag_global_all_TemporalFusionTransformerModel\n"
     ]
    },
    {
     "name": "stderr",
     "output_type": "stream",
     "text": [
      "\r",
      " 42%|████▏     | 23/55 [00:13<00:17,  1.79it/s]"
     ]
    },
    {
     "name": "stdout",
     "output_type": "stream",
     "text": [
      "Processing ensemble: ag_global_all_ChronosModel+ag_local_ChronosModel\n"
     ]
    },
    {
     "name": "stderr",
     "output_type": "stream",
     "text": [
      "\r",
      " 44%|████▎     | 24/55 [00:14<00:17,  1.73it/s]"
     ]
    },
    {
     "name": "stdout",
     "output_type": "stream",
     "text": [
      "Processing ensemble: ag_local_AutoARIMAModel+ag_global_all_SimpleFeedForwardModel\n"
     ]
    },
    {
     "name": "stderr",
     "output_type": "stream",
     "text": [
      "\r",
      " 45%|████▌     | 25/55 [00:14<00:18,  1.67it/s]"
     ]
    },
    {
     "name": "stdout",
     "output_type": "stream",
     "text": [
      "Processing ensemble: ag_global_all_DeepARModel+ag_local_TemporalFusionTransformerModel\n"
     ]
    },
    {
     "name": "stderr",
     "output_type": "stream",
     "text": [
      "\r",
      " 47%|████▋     | 26/55 [00:15<00:17,  1.65it/s]"
     ]
    },
    {
     "name": "stdout",
     "output_type": "stream",
     "text": [
      "Processing ensemble: ag_local_AutoETSModel\n"
     ]
    },
    {
     "name": "stderr",
     "output_type": "stream",
     "text": [
      "\r",
      " 49%|████▉     | 27/55 [00:15<00:15,  1.83it/s]"
     ]
    },
    {
     "name": "stdout",
     "output_type": "stream",
     "text": [
      "Processing ensemble: ag_global_cpi_with_covariates_TemporalFusionTransformerModel+ag_global_all_DeepARModel\n"
     ]
    },
    {
     "name": "stderr",
     "output_type": "stream",
     "text": [
      "\r",
      " 51%|█████     | 28/55 [00:16<00:15,  1.78it/s]"
     ]
    },
    {
     "name": "stdout",
     "output_type": "stream",
     "text": [
      "Processing ensemble: ag_local_AutoARIMAModel+ag_global_cpi_with_covariates_TemporalFusionTransformerModel\n"
     ]
    },
    {
     "name": "stderr",
     "output_type": "stream",
     "text": [
      "\r",
      " 53%|█████▎    | 29/55 [00:17<00:15,  1.71it/s]"
     ]
    },
    {
     "name": "stdout",
     "output_type": "stream",
     "text": [
      "Processing ensemble: ag_local_TemporalFusionTransformerModel\n"
     ]
    },
    {
     "name": "stderr",
     "output_type": "stream",
     "text": [
      "\r",
      " 55%|█████▍    | 30/55 [00:17<00:13,  1.86it/s]"
     ]
    },
    {
     "name": "stdout",
     "output_type": "stream",
     "text": [
      "Processing ensemble: ag_local_AutoETSModel+ag_global_all_SimpleFeedForwardModel\n"
     ]
    },
    {
     "name": "stderr",
     "output_type": "stream",
     "text": [
      "\r",
      " 56%|█████▋    | 31/55 [00:18<00:13,  1.77it/s]"
     ]
    },
    {
     "name": "stdout",
     "output_type": "stream",
     "text": [
      "Processing ensemble: ag_global_all_SimpleFeedForwardModel+ag_local_TemporalFusionTransformerModel\n"
     ]
    },
    {
     "name": "stderr",
     "output_type": "stream",
     "text": [
      "\r",
      " 58%|█████▊    | 32/55 [00:18<00:13,  1.72it/s]"
     ]
    },
    {
     "name": "stdout",
     "output_type": "stream",
     "text": [
      "Processing ensemble: ag_local_AutoETSModel+ag_local_NaiveModel\n"
     ]
    },
    {
     "name": "stderr",
     "output_type": "stream",
     "text": [
      "\r",
      " 60%|██████    | 33/55 [00:19<00:13,  1.68it/s]"
     ]
    },
    {
     "name": "stdout",
     "output_type": "stream",
     "text": [
      "Processing ensemble: ag_local_AutoARIMAModel+ag_local_ChronosModel\n"
     ]
    },
    {
     "name": "stderr",
     "output_type": "stream",
     "text": [
      "\r",
      " 62%|██████▏   | 34/55 [00:20<00:12,  1.66it/s]"
     ]
    },
    {
     "name": "stdout",
     "output_type": "stream",
     "text": [
      "Processing ensemble: ag_local_ChronosModel+ag_global_all_DeepARModel\n"
     ]
    },
    {
     "name": "stderr",
     "output_type": "stream",
     "text": [
      "\r",
      " 64%|██████▎   | 35/55 [00:20<00:12,  1.64it/s]"
     ]
    },
    {
     "name": "stdout",
     "output_type": "stream",
     "text": [
      "Processing ensemble: ag_global_all_TemporalFusionTransformerModel+ag_local_NaiveModel\n"
     ]
    },
    {
     "name": "stderr",
     "output_type": "stream",
     "text": [
      "\r",
      " 65%|██████▌   | 36/55 [00:21<00:11,  1.62it/s]"
     ]
    },
    {
     "name": "stdout",
     "output_type": "stream",
     "text": [
      "Processing ensemble: ag_global_all_ChronosModel+ag_local_AutoARIMAModel\n"
     ]
    },
    {
     "name": "stderr",
     "output_type": "stream",
     "text": [
      "\r",
      " 67%|██████▋   | 37/55 [00:21<00:11,  1.62it/s]"
     ]
    },
    {
     "name": "stdout",
     "output_type": "stream",
     "text": [
      "Processing ensemble: ag_local_AutoETSModel+ag_global_cpi_with_covariates_TemporalFusionTransformerModel\n"
     ]
    },
    {
     "name": "stderr",
     "output_type": "stream",
     "text": [
      "\r",
      " 69%|██████▉   | 38/55 [00:22<00:10,  1.61it/s]"
     ]
    },
    {
     "name": "stdout",
     "output_type": "stream",
     "text": [
      "Processing ensemble: ag_global_all_ChronosModel\n"
     ]
    },
    {
     "name": "stderr",
     "output_type": "stream",
     "text": [
      "\r",
      " 71%|███████   | 39/55 [00:22<00:08,  1.78it/s]"
     ]
    },
    {
     "name": "stdout",
     "output_type": "stream",
     "text": [
      "Processing ensemble: ag_global_cpi_with_covariates_TemporalFusionTransformerModel+ag_global_all_SimpleFeedForwardModel\n"
     ]
    },
    {
     "name": "stderr",
     "output_type": "stream",
     "text": [
      "\r",
      " 73%|███████▎  | 40/55 [00:23<00:08,  1.72it/s]"
     ]
    },
    {
     "name": "stdout",
     "output_type": "stream",
     "text": [
      "Processing ensemble: ag_global_all_ChronosModel+ag_local_NaiveModel\n"
     ]
    },
    {
     "name": "stderr",
     "output_type": "stream",
     "text": [
      "\r",
      " 75%|███████▍  | 41/55 [00:24<00:08,  1.68it/s]"
     ]
    },
    {
     "name": "stdout",
     "output_type": "stream",
     "text": [
      "Processing ensemble: ag_global_all_DeepARModel\n"
     ]
    },
    {
     "name": "stderr",
     "output_type": "stream",
     "text": [
      "\r",
      " 76%|███████▋  | 42/55 [00:24<00:07,  1.83it/s]"
     ]
    },
    {
     "name": "stdout",
     "output_type": "stream",
     "text": [
      "Processing ensemble: ag_local_ChronosModel+ag_global_all_SimpleFeedForwardModel\n"
     ]
    },
    {
     "name": "stderr",
     "output_type": "stream",
     "text": [
      "\r",
      " 78%|███████▊  | 43/55 [00:25<00:06,  1.76it/s]"
     ]
    },
    {
     "name": "stdout",
     "output_type": "stream",
     "text": [
      "Processing ensemble: ag_global_all_TemporalFusionTransformerModel+ag_local_TemporalFusionTransformerModel\n"
     ]
    },
    {
     "name": "stderr",
     "output_type": "stream",
     "text": [
      "\r",
      " 80%|████████  | 44/55 [00:25<00:06,  1.72it/s]"
     ]
    },
    {
     "name": "stdout",
     "output_type": "stream",
     "text": [
      "Processing ensemble: ag_global_all_ChronosModel+ag_global_all_TemporalFusionTransformerModel\n"
     ]
    },
    {
     "name": "stderr",
     "output_type": "stream",
     "text": [
      "\r",
      " 82%|████████▏ | 45/55 [00:26<00:05,  1.69it/s]"
     ]
    },
    {
     "name": "stdout",
     "output_type": "stream",
     "text": [
      "Processing ensemble: ag_global_all_DeepARModel+ag_global_all_SimpleFeedForwardModel\n"
     ]
    },
    {
     "name": "stderr",
     "output_type": "stream",
     "text": [
      "\r",
      " 84%|████████▎ | 46/55 [00:27<00:05,  1.66it/s]"
     ]
    },
    {
     "name": "stdout",
     "output_type": "stream",
     "text": [
      "Processing ensemble: ag_global_all_ChronosModel+ag_local_AutoETSModel\n"
     ]
    },
    {
     "name": "stderr",
     "output_type": "stream",
     "text": [
      "\r",
      " 85%|████████▌ | 47/55 [00:27<00:04,  1.65it/s]"
     ]
    },
    {
     "name": "stdout",
     "output_type": "stream",
     "text": [
      "Processing ensemble: ag_local_ChronosModel+ag_global_cpi_with_covariates_TemporalFusionTransformerModel\n"
     ]
    },
    {
     "name": "stderr",
     "output_type": "stream",
     "text": [
      "\r",
      " 87%|████████▋ | 48/55 [00:28<00:04,  1.63it/s]"
     ]
    },
    {
     "name": "stdout",
     "output_type": "stream",
     "text": [
      "Processing ensemble: ag_global_all_SimpleFeedForwardModel\n"
     ]
    },
    {
     "name": "stderr",
     "output_type": "stream",
     "text": [
      "\r",
      " 89%|████████▉ | 49/55 [00:28<00:03,  1.80it/s]"
     ]
    },
    {
     "name": "stdout",
     "output_type": "stream",
     "text": [
      "Processing ensemble: ag_local_AutoARIMAModel+ag_local_NaiveModel\n"
     ]
    },
    {
     "name": "stderr",
     "output_type": "stream",
     "text": [
      "\r",
      " 91%|█████████ | 50/55 [00:29<00:02,  1.74it/s]"
     ]
    },
    {
     "name": "stdout",
     "output_type": "stream",
     "text": [
      "Processing ensemble: ag_global_all_ChronosModel+ag_local_TemporalFusionTransformerModel\n"
     ]
    },
    {
     "name": "stderr",
     "output_type": "stream",
     "text": [
      "\r",
      " 93%|█████████▎| 51/55 [00:30<00:02,  1.70it/s]"
     ]
    },
    {
     "name": "stdout",
     "output_type": "stream",
     "text": [
      "Processing ensemble: ag_local_NaiveModel+ag_local_TemporalFusionTransformerModel\n"
     ]
    },
    {
     "name": "stderr",
     "output_type": "stream",
     "text": [
      "\r",
      " 95%|█████████▍| 52/55 [00:30<00:01,  1.66it/s]"
     ]
    },
    {
     "name": "stdout",
     "output_type": "stream",
     "text": [
      "Processing ensemble: ag_global_cpi_with_covariates_TemporalFusionTransformerModel\n"
     ]
    },
    {
     "name": "stderr",
     "output_type": "stream",
     "text": [
      "\r",
      " 96%|█████████▋| 53/55 [00:31<00:01,  1.83it/s]"
     ]
    },
    {
     "name": "stdout",
     "output_type": "stream",
     "text": [
      "Processing ensemble: ag_global_all_TemporalFusionTransformerModel+ag_global_all_DeepARModel\n"
     ]
    },
    {
     "name": "stderr",
     "output_type": "stream",
     "text": [
      "\r",
      " 98%|█████████▊| 54/55 [00:31<00:00,  1.76it/s]"
     ]
    },
    {
     "name": "stdout",
     "output_type": "stream",
     "text": [
      "Processing ensemble: ag_local_AutoARIMAModel+ag_global_all_TemporalFusionTransformerModel\n"
     ]
    },
    {
     "name": "stderr",
     "output_type": "stream",
     "text": [
      "100%|██████████| 55/55 [00:32<00:00,  1.70it/s]\n"
     ]
    },
    {
     "name": "stdout",
     "output_type": "stream",
     "text": [
      "Computing ensemble scores for: food_cpi: Fruit, fruit preparations and nuts\n"
     ]
    },
    {
     "name": "stderr",
     "output_type": "stream",
     "text": [
      "\r",
      "  0%|          | 0/55 [00:00<?, ?it/s]"
     ]
    },
    {
     "name": "stdout",
     "output_type": "stream",
     "text": [
      "Processing ensemble: ag_global_all_TemporalFusionTransformerModel_exp5_climate_+ag_global_cpi_with_covariates_TemporalFusionTransformerModel_exp1_llm_\n"
     ]
    },
    {
     "name": "stderr",
     "output_type": "stream",
     "text": [
      "\r",
      "  2%|▏         | 1/55 [00:00<00:32,  1.64it/s]"
     ]
    },
    {
     "name": "stdout",
     "output_type": "stream",
     "text": [
      "Processing ensemble: ag_global_all_TemporalFusionTransformerModel_exp5_climate_+ag_global_all_TemporalFusionTransformerModel_exp1_llm_\n"
     ]
    },
    {
     "name": "stderr",
     "output_type": "stream",
     "text": [
      "\r",
      "  4%|▎         | 2/55 [00:01<00:32,  1.63it/s]"
     ]
    },
    {
     "name": "stdout",
     "output_type": "stream",
     "text": [
      "Processing ensemble: ag_global_cpi_with_covariates_TemporalFusionTransformerModel_exp5_geopolitical_+ag_global_cpi_with_covariates_TemporalFusionTransformerModel_exp1_llm_\n"
     ]
    },
    {
     "name": "stderr",
     "output_type": "stream",
     "text": [
      "\r",
      "  5%|▌         | 3/55 [00:01<00:32,  1.62it/s]"
     ]
    },
    {
     "name": "stdout",
     "output_type": "stream",
     "text": [
      "Processing ensemble: ag_global_all_SimpleFeedForwardModel_exp5_climate_\n"
     ]
    },
    {
     "name": "stderr",
     "output_type": "stream",
     "text": [
      "\r",
      "  7%|▋         | 4/55 [00:02<00:27,  1.84it/s]"
     ]
    },
    {
     "name": "stdout",
     "output_type": "stream",
     "text": [
      "Processing ensemble: ag_global_all_TemporalFusionTransformerModel_exp5_climate_+ag_global_cpi_with_covariates_TemporalFusionTransformerModel_exp5_climate_\n"
     ]
    },
    {
     "name": "stderr",
     "output_type": "stream",
     "text": [
      "\r",
      "  9%|▉         | 5/55 [00:02<00:28,  1.76it/s]"
     ]
    },
    {
     "name": "stdout",
     "output_type": "stream",
     "text": [
      "Processing ensemble: ag_global_cpi_with_covariates_TemporalFusionTransformerModel_exp5_climate_+ag_global_cpi_with_covariates_TemporalFusionTransformerModel_exp5_geopolitical_\n"
     ]
    },
    {
     "name": "stderr",
     "output_type": "stream",
     "text": [
      "\r",
      " 11%|█         | 6/55 [00:03<00:28,  1.70it/s]"
     ]
    },
    {
     "name": "stdout",
     "output_type": "stream",
     "text": [
      "Processing ensemble: ag_global_all_SimpleFeedForwardModel_exp5_geopolitical_+ag_global_cpi_with_covariates_TemporalFusionTransformerModel_exp5_geopolitical_\n"
     ]
    },
    {
     "name": "stderr",
     "output_type": "stream",
     "text": [
      "\r",
      " 13%|█▎        | 7/55 [00:04<00:28,  1.69it/s]"
     ]
    },
    {
     "name": "stdout",
     "output_type": "stream",
     "text": [
      "Processing ensemble: ag_global_cpi_with_covariates_TemporalFusionTransformerModel_exp5_manufacturing_\n"
     ]
    },
    {
     "name": "stderr",
     "output_type": "stream",
     "text": [
      "\r",
      " 15%|█▍        | 8/55 [00:04<00:25,  1.87it/s]"
     ]
    },
    {
     "name": "stdout",
     "output_type": "stream",
     "text": [
      "Processing ensemble: ag_global_all_TemporalFusionTransformerModel_exp1_llm_+ag_global_cpi_with_covariates_TemporalFusionTransformerModel_exp5_geopolitical_\n"
     ]
    },
    {
     "name": "stderr",
     "output_type": "stream",
     "text": [
      "\r",
      " 16%|█▋        | 9/55 [00:05<00:25,  1.79it/s]"
     ]
    },
    {
     "name": "stdout",
     "output_type": "stream",
     "text": [
      "Processing ensemble: ag_global_all_SimpleFeedForwardModel_exp5_geopolitical_+ag_local_AutoETSModel\n"
     ]
    },
    {
     "name": "stderr",
     "output_type": "stream",
     "text": [
      "\r",
      " 18%|█▊        | 10/55 [00:05<00:26,  1.71it/s]"
     ]
    },
    {
     "name": "stdout",
     "output_type": "stream",
     "text": [
      "Processing ensemble: ag_global_cpi_with_covariates_TemporalFusionTransformerModel_exp1_llm_\n"
     ]
    },
    {
     "name": "stderr",
     "output_type": "stream",
     "text": [
      "\r",
      " 20%|██        | 11/55 [00:06<00:23,  1.86it/s]"
     ]
    },
    {
     "name": "stdout",
     "output_type": "stream",
     "text": [
      "Processing ensemble: ag_global_all_TemporalFusionTransformerModel_exp1_llm_+ag_local_AutoETSModel\n"
     ]
    },
    {
     "name": "stderr",
     "output_type": "stream",
     "text": [
      "\r",
      " 22%|██▏       | 12/55 [00:06<00:24,  1.78it/s]"
     ]
    },
    {
     "name": "stdout",
     "output_type": "stream",
     "text": [
      "Processing ensemble: ag_global_all_TemporalFusionTransformerModel_exp1_llm_\n"
     ]
    },
    {
     "name": "stderr",
     "output_type": "stream",
     "text": [
      "\r",
      " 24%|██▎       | 13/55 [00:07<00:21,  1.92it/s]"
     ]
    },
    {
     "name": "stdout",
     "output_type": "stream",
     "text": [
      "Processing ensemble: ag_global_cpi_with_covariates_TemporalFusionTransformerModel_exp5_climate_+ag_local_AutoETSModel\n"
     ]
    },
    {
     "name": "stderr",
     "output_type": "stream",
     "text": [
      "\r",
      " 25%|██▌       | 14/55 [00:07<00:22,  1.81it/s]"
     ]
    },
    {
     "name": "stdout",
     "output_type": "stream",
     "text": [
      "Processing ensemble: ag_global_cpi_with_covariates_TemporalFusionTransformerModel_exp1_llm_+ag_local_AutoETSModel\n"
     ]
    },
    {
     "name": "stderr",
     "output_type": "stream",
     "text": [
      "\r",
      " 27%|██▋       | 15/55 [00:08<00:22,  1.75it/s]"
     ]
    },
    {
     "name": "stdout",
     "output_type": "stream",
     "text": [
      "Processing ensemble: ag_global_cpi_with_covariates_TemporalFusionTransformerModel+ag_global_cpi_with_covariates_TemporalFusionTransformerModel_exp5_geopolitical_\n"
     ]
    },
    {
     "name": "stderr",
     "output_type": "stream",
     "text": [
      "\r",
      " 29%|██▉       | 16/55 [00:09<00:22,  1.71it/s]"
     ]
    },
    {
     "name": "stdout",
     "output_type": "stream",
     "text": [
      "Processing ensemble: ag_global_cpi_with_covariates_TemporalFusionTransformerModel_exp5_climate_\n"
     ]
    },
    {
     "name": "stderr",
     "output_type": "stream",
     "text": [
      "\r",
      " 31%|███       | 17/55 [00:09<00:20,  1.86it/s]"
     ]
    },
    {
     "name": "stdout",
     "output_type": "stream",
     "text": [
      "Processing ensemble: ag_global_cpi_with_covariates_TemporalFusionTransformerModel+ag_local_AutoETSModel\n"
     ]
    },
    {
     "name": "stderr",
     "output_type": "stream",
     "text": [
      "\r",
      " 33%|███▎      | 18/55 [00:10<00:20,  1.78it/s]"
     ]
    },
    {
     "name": "stdout",
     "output_type": "stream",
     "text": [
      "Processing ensemble: ag_global_all_TemporalFusionTransformerModel_exp5_climate_+ag_global_cpi_with_covariates_TemporalFusionTransformerModel_exp5_geopolitical_\n"
     ]
    },
    {
     "name": "stderr",
     "output_type": "stream",
     "text": [
      "\r",
      " 35%|███▍      | 19/55 [00:10<00:20,  1.73it/s]"
     ]
    },
    {
     "name": "stdout",
     "output_type": "stream",
     "text": [
      "Processing ensemble: ag_global_all_TemporalFusionTransformerModel_exp5_climate_+ag_local_AutoETSModel\n"
     ]
    },
    {
     "name": "stderr",
     "output_type": "stream",
     "text": [
      "\r",
      " 36%|███▋      | 20/55 [00:11<00:20,  1.68it/s]"
     ]
    },
    {
     "name": "stdout",
     "output_type": "stream",
     "text": [
      "Processing ensemble: ag_global_cpi_with_covariates_TemporalFusionTransformerModel_exp5_geopolitical_+ag_local_AutoETSModel\n"
     ]
    },
    {
     "name": "stderr",
     "output_type": "stream",
     "text": [
      "\r",
      " 38%|███▊      | 21/55 [00:12<00:20,  1.66it/s]"
     ]
    },
    {
     "name": "stdout",
     "output_type": "stream",
     "text": [
      "Processing ensemble: ag_global_all_SimpleFeedForwardModel_exp5_climate_+ag_global_cpi_with_covariates_TemporalFusionTransformerModel_exp5_manufacturing_\n"
     ]
    },
    {
     "name": "stderr",
     "output_type": "stream",
     "text": [
      "\r",
      " 40%|████      | 22/55 [00:12<00:19,  1.65it/s]"
     ]
    },
    {
     "name": "stdout",
     "output_type": "stream",
     "text": [
      "Processing ensemble: ag_global_cpi_with_covariates_TemporalFusionTransformerModel_exp5_geopolitical_\n"
     ]
    },
    {
     "name": "stderr",
     "output_type": "stream",
     "text": [
      "\r",
      " 42%|████▏     | 23/55 [00:13<00:17,  1.81it/s]"
     ]
    },
    {
     "name": "stdout",
     "output_type": "stream",
     "text": [
      "Processing ensemble: ag_global_all_SimpleFeedForwardModel_exp5_geopolitical_+ag_global_all_TemporalFusionTransformerModel_exp5_climate_\n"
     ]
    },
    {
     "name": "stderr",
     "output_type": "stream",
     "text": [
      "\r",
      " 44%|████▎     | 24/55 [00:13<00:17,  1.74it/s]"
     ]
    },
    {
     "name": "stdout",
     "output_type": "stream",
     "text": [
      "Processing ensemble: ag_global_all_SimpleFeedForwardModel_exp5_climate_+ag_global_cpi_with_covariates_TemporalFusionTransformerModel_exp1_llm_\n"
     ]
    },
    {
     "name": "stderr",
     "output_type": "stream",
     "text": [
      "\r",
      " 45%|████▌     | 25/55 [00:14<00:17,  1.69it/s]"
     ]
    },
    {
     "name": "stdout",
     "output_type": "stream",
     "text": [
      "Processing ensemble: ag_local_AutoETSModel\n"
     ]
    },
    {
     "name": "stderr",
     "output_type": "stream",
     "text": [
      "\r",
      " 47%|████▋     | 26/55 [00:14<00:15,  1.83it/s]"
     ]
    },
    {
     "name": "stdout",
     "output_type": "stream",
     "text": [
      "Processing ensemble: ag_global_all_SimpleFeedForwardModel_exp5_geopolitical_+ag_global_cpi_with_covariates_TemporalFusionTransformerModel\n"
     ]
    },
    {
     "name": "stderr",
     "output_type": "stream",
     "text": [
      "\r",
      " 49%|████▉     | 27/55 [00:15<00:15,  1.76it/s]"
     ]
    },
    {
     "name": "stdout",
     "output_type": "stream",
     "text": [
      "Processing ensemble: ag_global_cpi_with_covariates_TemporalFusionTransformerModel_exp5_climate_+ag_global_cpi_with_covariates_TemporalFusionTransformerModel\n"
     ]
    },
    {
     "name": "stderr",
     "output_type": "stream",
     "text": [
      "\r",
      " 51%|█████     | 28/55 [00:16<00:15,  1.72it/s]"
     ]
    },
    {
     "name": "stdout",
     "output_type": "stream",
     "text": [
      "Processing ensemble: ag_global_all_TemporalFusionTransformerModel_exp1_llm_+ag_global_cpi_with_covariates_TemporalFusionTransformerModel\n"
     ]
    },
    {
     "name": "stderr",
     "output_type": "stream",
     "text": [
      "\r",
      " 53%|█████▎    | 29/55 [00:16<00:15,  1.68it/s]"
     ]
    },
    {
     "name": "stdout",
     "output_type": "stream",
     "text": [
      "Processing ensemble: ag_local_AutoETSModel+ag_global_cpi_with_covariates_TemporalFusionTransformerModel_exp5_manufacturing_\n"
     ]
    },
    {
     "name": "stderr",
     "output_type": "stream",
     "text": [
      "\r",
      " 55%|█████▍    | 30/55 [00:17<00:15,  1.66it/s]"
     ]
    },
    {
     "name": "stdout",
     "output_type": "stream",
     "text": [
      "Processing ensemble: ag_global_all_SimpleFeedForwardModel_exp5_geopolitical_+ag_global_cpi_with_covariates_TemporalFusionTransformerModel_exp5_manufacturing_\n"
     ]
    },
    {
     "name": "stderr",
     "output_type": "stream",
     "text": [
      "\r",
      " 56%|█████▋    | 31/55 [00:17<00:14,  1.64it/s]"
     ]
    },
    {
     "name": "stdout",
     "output_type": "stream",
     "text": [
      "Processing ensemble: ag_global_all_SimpleFeedForwardModel_exp5_geopolitical_+ag_global_all_SimpleFeedForwardModel_exp5_climate_\n"
     ]
    },
    {
     "name": "stderr",
     "output_type": "stream",
     "text": [
      "\r",
      " 58%|█████▊    | 32/55 [00:18<00:14,  1.61it/s]"
     ]
    },
    {
     "name": "stdout",
     "output_type": "stream",
     "text": [
      "Processing ensemble: ag_global_all_TemporalFusionTransformerModel_exp5_climate_\n"
     ]
    },
    {
     "name": "stderr",
     "output_type": "stream",
     "text": [
      "\r",
      " 60%|██████    | 33/55 [00:18<00:12,  1.77it/s]"
     ]
    },
    {
     "name": "stdout",
     "output_type": "stream",
     "text": [
      "Processing ensemble: ag_global_cpi_with_covariates_TemporalFusionTransformerModel_exp5_climate_+ag_global_cpi_with_covariates_TemporalFusionTransformerModel_exp5_manufacturing_\n"
     ]
    },
    {
     "name": "stderr",
     "output_type": "stream",
     "text": [
      "\r",
      " 62%|██████▏   | 34/55 [00:19<00:12,  1.71it/s]"
     ]
    },
    {
     "name": "stdout",
     "output_type": "stream",
     "text": [
      "Processing ensemble: ag_global_all_SimpleFeedForwardModel_exp5_climate_+ag_local_AutoETSModel\n"
     ]
    },
    {
     "name": "stderr",
     "output_type": "stream",
     "text": [
      "\r",
      " 64%|██████▎   | 35/55 [00:20<00:11,  1.67it/s]"
     ]
    },
    {
     "name": "stdout",
     "output_type": "stream",
     "text": [
      "Processing ensemble: ag_global_cpi_with_covariates_TemporalFusionTransformerModel_exp5_climate_+ag_global_all_SimpleFeedForwardModel_exp5_climate_\n"
     ]
    },
    {
     "name": "stderr",
     "output_type": "stream",
     "text": [
      "\r",
      " 65%|██████▌   | 36/55 [00:20<00:11,  1.65it/s]"
     ]
    },
    {
     "name": "stdout",
     "output_type": "stream",
     "text": [
      "Processing ensemble: ag_global_all_TemporalFusionTransformerModel_exp1_llm_+ag_global_cpi_with_covariates_TemporalFusionTransformerModel_exp5_manufacturing_\n"
     ]
    },
    {
     "name": "stderr",
     "output_type": "stream",
     "text": [
      "\r",
      " 67%|██████▋   | 37/55 [00:21<00:11,  1.63it/s]"
     ]
    },
    {
     "name": "stdout",
     "output_type": "stream",
     "text": [
      "Processing ensemble: ag_global_all_TemporalFusionTransformerModel_exp1_llm_+ag_global_all_SimpleFeedForwardModel_exp5_climate_\n"
     ]
    },
    {
     "name": "stderr",
     "output_type": "stream",
     "text": [
      "\r",
      " 69%|██████▉   | 38/55 [00:22<00:10,  1.62it/s]"
     ]
    },
    {
     "name": "stdout",
     "output_type": "stream",
     "text": [
      "Processing ensemble: ag_global_cpi_with_covariates_TemporalFusionTransformerModel_exp5_climate_+ag_global_cpi_with_covariates_TemporalFusionTransformerModel_exp1_llm_\n"
     ]
    },
    {
     "name": "stderr",
     "output_type": "stream",
     "text": [
      "\r",
      " 71%|███████   | 39/55 [00:22<00:09,  1.62it/s]"
     ]
    },
    {
     "name": "stdout",
     "output_type": "stream",
     "text": [
      "Processing ensemble: ag_global_all_TemporalFusionTransformerModel_exp5_climate_+ag_global_cpi_with_covariates_TemporalFusionTransformerModel\n"
     ]
    },
    {
     "name": "stderr",
     "output_type": "stream",
     "text": [
      "\r",
      " 73%|███████▎  | 40/55 [00:23<00:09,  1.62it/s]"
     ]
    },
    {
     "name": "stdout",
     "output_type": "stream",
     "text": [
      "Processing ensemble: ag_global_cpi_with_covariates_TemporalFusionTransformerModel_exp1_llm_+ag_global_cpi_with_covariates_TemporalFusionTransformerModel_exp5_manufacturing_\n"
     ]
    },
    {
     "name": "stderr",
     "output_type": "stream",
     "text": [
      "\r",
      " 75%|███████▍  | 41/55 [00:23<00:08,  1.62it/s]"
     ]
    },
    {
     "name": "stdout",
     "output_type": "stream",
     "text": [
      "Processing ensemble: ag_global_all_SimpleFeedForwardModel_exp5_geopolitical_\n"
     ]
    },
    {
     "name": "stderr",
     "output_type": "stream",
     "text": [
      "\r",
      " 76%|███████▋  | 42/55 [00:24<00:07,  1.80it/s]"
     ]
    },
    {
     "name": "stdout",
     "output_type": "stream",
     "text": [
      "Processing ensemble: ag_global_all_SimpleFeedForwardModel_exp5_geopolitical_+ag_global_cpi_with_covariates_TemporalFusionTransformerModel_exp1_llm_\n"
     ]
    },
    {
     "name": "stderr",
     "output_type": "stream",
     "text": [
      "\r",
      " 78%|███████▊  | 43/55 [00:24<00:06,  1.76it/s]"
     ]
    },
    {
     "name": "stdout",
     "output_type": "stream",
     "text": [
      "Processing ensemble: ag_global_all_SimpleFeedForwardModel_exp5_geopolitical_+ag_global_all_TemporalFusionTransformerModel_exp1_llm_\n"
     ]
    },
    {
     "name": "stderr",
     "output_type": "stream",
     "text": [
      "\r",
      " 80%|████████  | 44/55 [00:25<00:06,  1.72it/s]"
     ]
    },
    {
     "name": "stdout",
     "output_type": "stream",
     "text": [
      "Processing ensemble: ag_global_all_TemporalFusionTransformerModel_exp1_llm_+ag_global_cpi_with_covariates_TemporalFusionTransformerModel_exp1_llm_\n"
     ]
    },
    {
     "name": "stderr",
     "output_type": "stream",
     "text": [
      "\r",
      " 82%|████████▏ | 45/55 [00:26<00:05,  1.68it/s]"
     ]
    },
    {
     "name": "stdout",
     "output_type": "stream",
     "text": [
      "Processing ensemble: ag_global_cpi_with_covariates_TemporalFusionTransformerModel+ag_global_all_SimpleFeedForwardModel_exp5_climate_\n"
     ]
    },
    {
     "name": "stderr",
     "output_type": "stream",
     "text": [
      "\r",
      " 84%|████████▎ | 46/55 [00:26<00:05,  1.66it/s]"
     ]
    },
    {
     "name": "stdout",
     "output_type": "stream",
     "text": [
      "Processing ensemble: ag_global_cpi_with_covariates_TemporalFusionTransformerModel+ag_global_cpi_with_covariates_TemporalFusionTransformerModel_exp5_manufacturing_\n"
     ]
    },
    {
     "name": "stderr",
     "output_type": "stream",
     "text": [
      "\r",
      " 85%|████████▌ | 47/55 [00:27<00:04,  1.64it/s]"
     ]
    },
    {
     "name": "stdout",
     "output_type": "stream",
     "text": [
      "Processing ensemble: ag_global_all_SimpleFeedForwardModel_exp5_geopolitical_+ag_global_cpi_with_covariates_TemporalFusionTransformerModel_exp5_climate_\n"
     ]
    },
    {
     "name": "stderr",
     "output_type": "stream",
     "text": [
      "\r",
      " 87%|████████▋ | 48/55 [00:28<00:04,  1.63it/s]"
     ]
    },
    {
     "name": "stdout",
     "output_type": "stream",
     "text": [
      "Processing ensemble: ag_global_all_TemporalFusionTransformerModel_exp5_climate_+ag_global_all_SimpleFeedForwardModel_exp5_climate_\n"
     ]
    },
    {
     "name": "stderr",
     "output_type": "stream",
     "text": [
      "\r",
      " 89%|████████▉ | 49/55 [00:28<00:03,  1.62it/s]"
     ]
    },
    {
     "name": "stdout",
     "output_type": "stream",
     "text": [
      "Processing ensemble: ag_global_cpi_with_covariates_TemporalFusionTransformerModel+ag_global_cpi_with_covariates_TemporalFusionTransformerModel_exp1_llm_\n"
     ]
    },
    {
     "name": "stderr",
     "output_type": "stream",
     "text": [
      "\r",
      " 91%|█████████ | 50/55 [00:29<00:03,  1.61it/s]"
     ]
    },
    {
     "name": "stdout",
     "output_type": "stream",
     "text": [
      "Processing ensemble: ag_global_all_TemporalFusionTransformerModel_exp1_llm_+ag_global_cpi_with_covariates_TemporalFusionTransformerModel_exp5_climate_\n"
     ]
    },
    {
     "name": "stderr",
     "output_type": "stream",
     "text": [
      "\r",
      " 93%|█████████▎| 51/55 [00:29<00:02,  1.61it/s]"
     ]
    },
    {
     "name": "stdout",
     "output_type": "stream",
     "text": [
      "Processing ensemble: ag_global_cpi_with_covariates_TemporalFusionTransformerModel\n"
     ]
    },
    {
     "name": "stderr",
     "output_type": "stream",
     "text": [
      "\r",
      " 95%|█████████▍| 52/55 [00:30<00:01,  1.78it/s]"
     ]
    },
    {
     "name": "stdout",
     "output_type": "stream",
     "text": [
      "Processing ensemble: ag_global_all_TemporalFusionTransformerModel_exp5_climate_+ag_global_cpi_with_covariates_TemporalFusionTransformerModel_exp5_manufacturing_\n"
     ]
    },
    {
     "name": "stderr",
     "output_type": "stream",
     "text": [
      "\r",
      " 96%|█████████▋| 53/55 [00:30<00:01,  1.72it/s]"
     ]
    },
    {
     "name": "stdout",
     "output_type": "stream",
     "text": [
      "Processing ensemble: ag_global_cpi_with_covariates_TemporalFusionTransformerModel_exp5_geopolitical_+ag_global_cpi_with_covariates_TemporalFusionTransformerModel_exp5_manufacturing_\n"
     ]
    },
    {
     "name": "stderr",
     "output_type": "stream",
     "text": [
      "\r",
      " 98%|█████████▊| 54/55 [00:31<00:00,  1.69it/s]"
     ]
    },
    {
     "name": "stdout",
     "output_type": "stream",
     "text": [
      "Processing ensemble: ag_global_cpi_with_covariates_TemporalFusionTransformerModel_exp5_geopolitical_+ag_global_all_SimpleFeedForwardModel_exp5_climate_\n"
     ]
    },
    {
     "name": "stderr",
     "output_type": "stream",
     "text": [
      "100%|██████████| 55/55 [00:32<00:00,  1.71it/s]\n"
     ]
    },
    {
     "name": "stdout",
     "output_type": "stream",
     "text": [
      "Computing ensemble scores for: food_cpi: Meat\n"
     ]
    },
    {
     "name": "stderr",
     "output_type": "stream",
     "text": [
      "\r",
      "  0%|          | 0/55 [00:00<?, ?it/s]"
     ]
    },
    {
     "name": "stdout",
     "output_type": "stream",
     "text": [
      "Processing ensemble: claude-3-5-sonnet-20240620_report_False+ag_global_all_TemporalFusionTransformerModel_exp5_climate_\n"
     ]
    },
    {
     "name": "stderr",
     "output_type": "stream",
     "text": [
      "\r",
      "  2%|▏         | 1/55 [00:00<00:11,  4.57it/s]"
     ]
    },
    {
     "name": "stdout",
     "output_type": "stream",
     "text": [
      "Processing ensemble: ag_global_all_TemporalFusionTransformerModel_exp5_geopolitical_+ag_local_AutoETSModel\n"
     ]
    },
    {
     "name": "stderr",
     "output_type": "stream",
     "text": [
      "\r",
      "  4%|▎         | 2/55 [00:00<00:23,  2.22it/s]"
     ]
    },
    {
     "name": "stdout",
     "output_type": "stream",
     "text": [
      "Processing ensemble: claude-3-5-sonnet-20240620_report_False+ag_local_PatchTSTModel\n"
     ]
    },
    {
     "name": "stderr",
     "output_type": "stream",
     "text": [
      "\r",
      "  5%|▌         | 3/55 [00:01<00:17,  2.89it/s]"
     ]
    },
    {
     "name": "stdout",
     "output_type": "stream",
     "text": [
      "Processing ensemble: ag_local_ChronosModel\n"
     ]
    },
    {
     "name": "stderr",
     "output_type": "stream",
     "text": [
      "\r",
      "  7%|▋         | 4/55 [00:01<00:19,  2.66it/s]"
     ]
    },
    {
     "name": "stdout",
     "output_type": "stream",
     "text": [
      "Processing ensemble: ag_global_all_ChronosModel+ag_global_all_TemporalFusionTransformerModel_exp5_climate_\n"
     ]
    },
    {
     "name": "stderr",
     "output_type": "stream",
     "text": [
      "\r",
      "  9%|▉         | 5/55 [00:02<00:23,  2.15it/s]"
     ]
    },
    {
     "name": "stdout",
     "output_type": "stream",
     "text": [
      "Processing ensemble: claude-3-5-sonnet-20240620_report_True+ag_global_all_TemporalFusionTransformerModel_exp5_geopolitical_\n"
     ]
    },
    {
     "name": "stderr",
     "output_type": "stream",
     "text": [
      "\r",
      " 11%|█         | 6/55 [00:02<00:18,  2.59it/s]"
     ]
    },
    {
     "name": "stdout",
     "output_type": "stream",
     "text": [
      "Processing ensemble: ag_global_all_ChronosModel+ag_local_PatchTSTModel\n"
     ]
    },
    {
     "name": "stderr",
     "output_type": "stream",
     "text": [
      "\r",
      " 13%|█▎        | 7/55 [00:02<00:22,  2.15it/s]"
     ]
    },
    {
     "name": "stdout",
     "output_type": "stream",
     "text": [
      "Processing ensemble: claude-3-5-sonnet-20240620_report_True+ag_global_all_ChronosModel\n"
     ]
    },
    {
     "name": "stderr",
     "output_type": "stream",
     "text": [
      "\r",
      " 15%|█▍        | 8/55 [00:03<00:18,  2.59it/s]"
     ]
    },
    {
     "name": "stdout",
     "output_type": "stream",
     "text": [
      "Processing ensemble: ag_global_all_TemporalFusionTransformerModel_exp1_llm_\n"
     ]
    },
    {
     "name": "stderr",
     "output_type": "stream",
     "text": [
      " 18%|█▊        | 10/55 [00:03<00:15,  2.99it/s]"
     ]
    },
    {
     "name": "stdout",
     "output_type": "stream",
     "text": [
      "Processing ensemble: claude-3-5-sonnet-20240620_report_True+claude-3-5-sonnet-20240620_report_False\n",
      "Processing ensemble: ag_global_cpi_with_covariates_TemporalFusionTransformerModel_exp5_climate_+ag_local_AutoETSModel\n"
     ]
    },
    {
     "name": "stderr",
     "output_type": "stream",
     "text": [
      "\r",
      " 20%|██        | 11/55 [00:04<00:18,  2.38it/s]"
     ]
    },
    {
     "name": "stdout",
     "output_type": "stream",
     "text": [
      "Processing ensemble: ag_global_all_TemporalFusionTransformerModel_exp1_llm_+ag_local_AutoETSModel\n"
     ]
    },
    {
     "name": "stderr",
     "output_type": "stream",
     "text": [
      "\r",
      " 22%|██▏       | 12/55 [00:05<00:20,  2.10it/s]"
     ]
    },
    {
     "name": "stdout",
     "output_type": "stream",
     "text": [
      "Processing ensemble: ag_global_cpi_with_covariates_TemporalFusionTransformerModel_exp5_climate_\n"
     ]
    },
    {
     "name": "stderr",
     "output_type": "stream",
     "text": [
      "\r",
      " 24%|██▎       | 13/55 [00:05<00:19,  2.18it/s]"
     ]
    },
    {
     "name": "stdout",
     "output_type": "stream",
     "text": [
      "Processing ensemble: ag_global_all_TemporalFusionTransformerModel_exp5_geopolitical_+ag_global_all_ChronosModel\n"
     ]
    },
    {
     "name": "stderr",
     "output_type": "stream",
     "text": [
      "\r",
      " 25%|██▌       | 14/55 [00:06<00:20,  1.96it/s]"
     ]
    },
    {
     "name": "stdout",
     "output_type": "stream",
     "text": [
      "Processing ensemble: claude-3-5-sonnet-20240620_report_True+ag_global_all_TemporalFusionTransformerModel_exp5_climate_\n"
     ]
    },
    {
     "name": "stderr",
     "output_type": "stream",
     "text": [
      "\r",
      " 27%|██▋       | 15/55 [00:06<00:16,  2.37it/s]"
     ]
    },
    {
     "name": "stdout",
     "output_type": "stream",
     "text": [
      "Processing ensemble: claude-3-5-sonnet-20240620_report_True+ag_local_PatchTSTModel\n"
     ]
    },
    {
     "name": "stderr",
     "output_type": "stream",
     "text": [
      "\r",
      " 29%|██▉       | 16/55 [00:06<00:14,  2.76it/s]"
     ]
    },
    {
     "name": "stdout",
     "output_type": "stream",
     "text": [
      "Processing ensemble: ag_local_PatchTSTModel+ag_local_ChronosModel\n"
     ]
    },
    {
     "name": "stderr",
     "output_type": "stream",
     "text": [
      "\r",
      " 31%|███       | 17/55 [00:07<00:16,  2.28it/s]"
     ]
    },
    {
     "name": "stdout",
     "output_type": "stream",
     "text": [
      "Processing ensemble: ag_global_all_TemporalFusionTransformerModel_exp5_geopolitical_+ag_global_all_TemporalFusionTransformerModel_exp5_climate_\n"
     ]
    },
    {
     "name": "stderr",
     "output_type": "stream",
     "text": [
      "\r",
      " 33%|███▎      | 18/55 [00:07<00:18,  2.02it/s]"
     ]
    },
    {
     "name": "stdout",
     "output_type": "stream",
     "text": [
      "Processing ensemble: claude-3-5-sonnet-20240620_report_False+ag_local_ChronosModel\n"
     ]
    },
    {
     "name": "stderr",
     "output_type": "stream",
     "text": [
      "\r",
      " 35%|███▍      | 19/55 [00:07<00:14,  2.41it/s]"
     ]
    },
    {
     "name": "stdout",
     "output_type": "stream",
     "text": [
      "Processing ensemble: ag_global_all_TemporalFusionTransformerModel_exp5_geopolitical_+ag_local_PatchTSTModel\n"
     ]
    },
    {
     "name": "stderr",
     "output_type": "stream",
     "text": [
      "\r",
      " 36%|███▋      | 20/55 [00:08<00:16,  2.09it/s]"
     ]
    },
    {
     "name": "stdout",
     "output_type": "stream",
     "text": [
      "Processing ensemble: ag_global_cpi_with_covariates_TemporalFusionTransformerModel_exp5_climate_+ag_global_all_ChronosModel\n"
     ]
    },
    {
     "name": "stderr",
     "output_type": "stream",
     "text": [
      "\r",
      " 38%|███▊      | 21/55 [00:09<00:17,  1.92it/s]"
     ]
    },
    {
     "name": "stdout",
     "output_type": "stream",
     "text": [
      "Processing ensemble: ag_global_cpi_with_covariates_TemporalFusionTransformerModel_exp5_climate_+ag_local_PatchTSTModel\n"
     ]
    },
    {
     "name": "stderr",
     "output_type": "stream",
     "text": [
      "\r",
      " 40%|████      | 22/55 [00:09<00:18,  1.82it/s]"
     ]
    },
    {
     "name": "stdout",
     "output_type": "stream",
     "text": [
      "Processing ensemble: ag_local_AutoETSModel+ag_global_all_TemporalFusionTransformerModel_exp5_climate_\n"
     ]
    },
    {
     "name": "stderr",
     "output_type": "stream",
     "text": [
      "\r",
      " 42%|████▏     | 23/55 [00:10<00:18,  1.76it/s]"
     ]
    },
    {
     "name": "stdout",
     "output_type": "stream",
     "text": [
      "Processing ensemble: claude-3-5-sonnet-20240620_report_False+ag_global_all_TemporalFusionTransformerModel_exp1_llm_\n"
     ]
    },
    {
     "name": "stderr",
     "output_type": "stream",
     "text": [
      "\r",
      " 44%|████▎     | 24/55 [00:10<00:14,  2.14it/s]"
     ]
    },
    {
     "name": "stdout",
     "output_type": "stream",
     "text": [
      "Processing ensemble: ag_global_all_ChronosModel+ag_local_ChronosModel\n"
     ]
    },
    {
     "name": "stderr",
     "output_type": "stream",
     "text": [
      "\r",
      " 45%|████▌     | 25/55 [00:11<00:15,  1.95it/s]"
     ]
    },
    {
     "name": "stdout",
     "output_type": "stream",
     "text": [
      "Processing ensemble: ag_global_all_TemporalFusionTransformerModel_exp1_llm_+ag_local_PatchTSTModel\n"
     ]
    },
    {
     "name": "stderr",
     "output_type": "stream",
     "text": [
      "\r",
      " 47%|████▋     | 26/55 [00:11<00:15,  1.82it/s]"
     ]
    },
    {
     "name": "stdout",
     "output_type": "stream",
     "text": [
      "Processing ensemble: ag_global_cpi_with_covariates_TemporalFusionTransformerModel_exp5_climate_+ag_global_all_TemporalFusionTransformerModel_exp5_climate_\n"
     ]
    },
    {
     "name": "stderr",
     "output_type": "stream",
     "text": [
      "\r",
      " 49%|████▉     | 27/55 [00:12<00:15,  1.76it/s]"
     ]
    },
    {
     "name": "stdout",
     "output_type": "stream",
     "text": [
      "Processing ensemble: ag_local_AutoETSModel\n"
     ]
    },
    {
     "name": "stderr",
     "output_type": "stream",
     "text": [
      "\r",
      " 51%|█████     | 28/55 [00:12<00:14,  1.89it/s]"
     ]
    },
    {
     "name": "stdout",
     "output_type": "stream",
     "text": [
      "Processing ensemble: claude-3-5-sonnet-20240620_report_False+ag_global_cpi_with_covariates_TemporalFusionTransformerModel_exp5_climate_\n"
     ]
    },
    {
     "name": "stderr",
     "output_type": "stream",
     "text": [
      "\r",
      " 53%|█████▎    | 29/55 [00:13<00:11,  2.28it/s]"
     ]
    },
    {
     "name": "stdout",
     "output_type": "stream",
     "text": [
      "Processing ensemble: ag_global_all_TemporalFusionTransformerModel_exp1_llm_+ag_global_all_TemporalFusionTransformerModel_exp5_climate_\n"
     ]
    },
    {
     "name": "stderr",
     "output_type": "stream",
     "text": [
      " 56%|█████▋    | 31/55 [00:13<00:09,  2.59it/s]"
     ]
    },
    {
     "name": "stdout",
     "output_type": "stream",
     "text": [
      "Processing ensemble: claude-3-5-sonnet-20240620_report_True\n",
      "Processing ensemble: ag_local_PatchTSTModel+ag_global_all_TemporalFusionTransformerModel_exp5_climate_\n"
     ]
    },
    {
     "name": "stderr",
     "output_type": "stream",
     "text": [
      "\r",
      " 58%|█████▊    | 32/55 [00:14<00:10,  2.18it/s]"
     ]
    },
    {
     "name": "stdout",
     "output_type": "stream",
     "text": [
      "Processing ensemble: claude-3-5-sonnet-20240620_report_True+ag_local_ChronosModel\n"
     ]
    },
    {
     "name": "stderr",
     "output_type": "stream",
     "text": [
      "\r",
      " 60%|██████    | 33/55 [00:14<00:08,  2.55it/s]"
     ]
    },
    {
     "name": "stdout",
     "output_type": "stream",
     "text": [
      "Processing ensemble: ag_global_all_ChronosModel+ag_global_all_TemporalFusionTransformerModel_exp1_llm_\n"
     ]
    },
    {
     "name": "stderr",
     "output_type": "stream",
     "text": [
      "\r",
      " 62%|██████▏   | 34/55 [00:15<00:09,  2.16it/s]"
     ]
    },
    {
     "name": "stdout",
     "output_type": "stream",
     "text": [
      "Processing ensemble: ag_global_all_TemporalFusionTransformerModel_exp5_geopolitical_+ag_local_ChronosModel\n"
     ]
    },
    {
     "name": "stderr",
     "output_type": "stream",
     "text": [
      "\r",
      " 64%|██████▎   | 35/55 [00:16<00:10,  1.97it/s]"
     ]
    },
    {
     "name": "stdout",
     "output_type": "stream",
     "text": [
      "Processing ensemble: ag_global_all_ChronosModel\n"
     ]
    },
    {
     "name": "stderr",
     "output_type": "stream",
     "text": [
      " 67%|██████▋   | 37/55 [00:16<00:06,  2.63it/s]"
     ]
    },
    {
     "name": "stdout",
     "output_type": "stream",
     "text": [
      "Processing ensemble: claude-3-5-sonnet-20240620_report_False\n",
      "Processing ensemble: ag_local_ChronosModel+ag_global_all_TemporalFusionTransformerModel_exp5_climate_\n"
     ]
    },
    {
     "name": "stderr",
     "output_type": "stream",
     "text": [
      "\r",
      " 69%|██████▉   | 38/55 [00:17<00:07,  2.20it/s]"
     ]
    },
    {
     "name": "stdout",
     "output_type": "stream",
     "text": [
      "Processing ensemble: ag_global_all_TemporalFusionTransformerModel_exp5_geopolitical_\n"
     ]
    },
    {
     "name": "stderr",
     "output_type": "stream",
     "text": [
      "\r",
      " 71%|███████   | 39/55 [00:17<00:07,  2.23it/s]"
     ]
    },
    {
     "name": "stdout",
     "output_type": "stream",
     "text": [
      "Processing ensemble: claude-3-5-sonnet-20240620_report_True+ag_global_all_TemporalFusionTransformerModel_exp1_llm_\n"
     ]
    },
    {
     "name": "stderr",
     "output_type": "stream",
     "text": [
      "\r",
      " 73%|███████▎  | 40/55 [00:17<00:05,  2.63it/s]"
     ]
    },
    {
     "name": "stdout",
     "output_type": "stream",
     "text": [
      "Processing ensemble: ag_global_cpi_with_covariates_TemporalFusionTransformerModel_exp5_climate_+ag_local_ChronosModel\n"
     ]
    },
    {
     "name": "stderr",
     "output_type": "stream",
     "text": [
      "\r",
      " 75%|███████▍  | 41/55 [00:18<00:06,  2.20it/s]"
     ]
    },
    {
     "name": "stdout",
     "output_type": "stream",
     "text": [
      "Processing ensemble: ag_local_PatchTSTModel+ag_local_AutoETSModel\n"
     ]
    },
    {
     "name": "stderr",
     "output_type": "stream",
     "text": [
      "\r",
      " 76%|███████▋  | 42/55 [00:19<00:06,  2.00it/s]"
     ]
    },
    {
     "name": "stdout",
     "output_type": "stream",
     "text": [
      "Processing ensemble: ag_local_AutoETSModel+ag_local_ChronosModel\n"
     ]
    },
    {
     "name": "stderr",
     "output_type": "stream",
     "text": [
      "\r",
      " 78%|███████▊  | 43/55 [00:19<00:06,  1.88it/s]"
     ]
    },
    {
     "name": "stdout",
     "output_type": "stream",
     "text": [
      "Processing ensemble: ag_global_all_TemporalFusionTransformerModel_exp5_geopolitical_+ag_global_all_TemporalFusionTransformerModel_exp1_llm_\n"
     ]
    },
    {
     "name": "stderr",
     "output_type": "stream",
     "text": [
      "\r",
      " 80%|████████  | 44/55 [00:20<00:06,  1.80it/s]"
     ]
    },
    {
     "name": "stdout",
     "output_type": "stream",
     "text": [
      "Processing ensemble: claude-3-5-sonnet-20240620_report_True+ag_global_cpi_with_covariates_TemporalFusionTransformerModel_exp5_climate_\n"
     ]
    },
    {
     "name": "stderr",
     "output_type": "stream",
     "text": [
      "\r",
      " 82%|████████▏ | 45/55 [00:20<00:04,  2.20it/s]"
     ]
    },
    {
     "name": "stdout",
     "output_type": "stream",
     "text": [
      "Processing ensemble: claude-3-5-sonnet-20240620_report_False+ag_local_AutoETSModel\n"
     ]
    },
    {
     "name": "stderr",
     "output_type": "stream",
     "text": [
      "\r",
      " 84%|████████▎ | 46/55 [00:20<00:03,  2.59it/s]"
     ]
    },
    {
     "name": "stdout",
     "output_type": "stream",
     "text": [
      "Processing ensemble: ag_global_all_TemporalFusionTransformerModel_exp5_climate_\n"
     ]
    },
    {
     "name": "stderr",
     "output_type": "stream",
     "text": [
      "\r",
      " 85%|████████▌ | 47/55 [00:21<00:03,  2.51it/s]"
     ]
    },
    {
     "name": "stdout",
     "output_type": "stream",
     "text": [
      "Processing ensemble: ag_global_all_TemporalFusionTransformerModel_exp1_llm_+ag_local_ChronosModel\n"
     ]
    },
    {
     "name": "stderr",
     "output_type": "stream",
     "text": [
      "\r",
      " 87%|████████▋ | 48/55 [00:21<00:03,  2.12it/s]"
     ]
    },
    {
     "name": "stdout",
     "output_type": "stream",
     "text": [
      "Processing ensemble: ag_local_PatchTSTModel\n"
     ]
    },
    {
     "name": "stderr",
     "output_type": "stream",
     "text": [
      "\r",
      " 89%|████████▉ | 49/55 [00:22<00:02,  2.17it/s]"
     ]
    },
    {
     "name": "stdout",
     "output_type": "stream",
     "text": [
      "Processing ensemble: ag_global_all_TemporalFusionTransformerModel_exp5_geopolitical_+ag_global_cpi_with_covariates_TemporalFusionTransformerModel_exp5_climate_\n"
     ]
    },
    {
     "name": "stderr",
     "output_type": "stream",
     "text": [
      "\r",
      " 91%|█████████ | 50/55 [00:22<00:02,  1.97it/s]"
     ]
    },
    {
     "name": "stdout",
     "output_type": "stream",
     "text": [
      "Processing ensemble: ag_global_all_ChronosModel+ag_local_AutoETSModel\n"
     ]
    },
    {
     "name": "stderr",
     "output_type": "stream",
     "text": [
      "\r",
      " 93%|█████████▎| 51/55 [00:23<00:02,  1.85it/s]"
     ]
    },
    {
     "name": "stdout",
     "output_type": "stream",
     "text": [
      "Processing ensemble: ag_global_cpi_with_covariates_TemporalFusionTransformerModel_exp5_climate_+ag_global_all_TemporalFusionTransformerModel_exp1_llm_\n"
     ]
    },
    {
     "name": "stderr",
     "output_type": "stream",
     "text": [
      "\r",
      " 95%|█████████▍| 52/55 [00:24<00:01,  1.76it/s]"
     ]
    },
    {
     "name": "stdout",
     "output_type": "stream",
     "text": [
      "Processing ensemble: claude-3-5-sonnet-20240620_report_False+ag_global_all_ChronosModel\n"
     ]
    },
    {
     "name": "stderr",
     "output_type": "stream",
     "text": [
      "\r",
      " 96%|█████████▋| 53/55 [00:24<00:00,  2.15it/s]"
     ]
    },
    {
     "name": "stdout",
     "output_type": "stream",
     "text": [
      "Processing ensemble: claude-3-5-sonnet-20240620_report_False+ag_global_all_TemporalFusionTransformerModel_exp5_geopolitical_\n"
     ]
    },
    {
     "name": "stderr",
     "output_type": "stream",
     "text": [
      "\r",
      " 98%|█████████▊| 54/55 [00:24<00:00,  2.55it/s]"
     ]
    },
    {
     "name": "stdout",
     "output_type": "stream",
     "text": [
      "Processing ensemble: claude-3-5-sonnet-20240620_report_True+ag_local_AutoETSModel\n"
     ]
    },
    {
     "name": "stderr",
     "output_type": "stream",
     "text": [
      "100%|██████████| 55/55 [00:24<00:00,  2.21it/s]\n"
     ]
    },
    {
     "name": "stdout",
     "output_type": "stream",
     "text": [
      "Computing ensemble scores for: food_cpi: Other food products and non-alcoholic beverages\n"
     ]
    },
    {
     "name": "stderr",
     "output_type": "stream",
     "text": [
      "\r",
      "  0%|          | 0/55 [00:00<?, ?it/s]"
     ]
    },
    {
     "name": "stdout",
     "output_type": "stream",
     "text": [
      "Processing ensemble: ag_global_all_TemporalFusionTransformerModel_exp5_climate_+ag_global_all_TemporalFusionTransformerModel_exp1_llm_\n"
     ]
    },
    {
     "name": "stderr",
     "output_type": "stream",
     "text": [
      "\r",
      "  2%|▏         | 1/55 [00:00<00:33,  1.63it/s]"
     ]
    },
    {
     "name": "stdout",
     "output_type": "stream",
     "text": [
      "Processing ensemble: ag_local_ChronosModel\n"
     ]
    },
    {
     "name": "stderr",
     "output_type": "stream",
     "text": [
      "\r",
      "  4%|▎         | 2/55 [00:01<00:26,  1.97it/s]"
     ]
    },
    {
     "name": "stdout",
     "output_type": "stream",
     "text": [
      "Processing ensemble: ag_global_all_SimpleFeedForwardModel_exp5_climate_\n"
     ]
    },
    {
     "name": "stderr",
     "output_type": "stream",
     "text": [
      "\r",
      "  5%|▌         | 3/55 [00:01<00:24,  2.14it/s]"
     ]
    },
    {
     "name": "stdout",
     "output_type": "stream",
     "text": [
      "Processing ensemble: ag_local_ChronosModel+ag_global_all_TemporalFusionTransformerModel_exp1_llm_\n"
     ]
    },
    {
     "name": "stderr",
     "output_type": "stream",
     "text": [
      "\r",
      "  7%|▋         | 4/55 [00:02<00:26,  1.92it/s]"
     ]
    },
    {
     "name": "stdout",
     "output_type": "stream",
     "text": [
      "Processing ensemble: ag_global_all_TemporalFusionTransformerModel_exp5_climate_+ag_global_cpi_with_covariates_TemporalFusionTransformerModel_exp5_climate_\n"
     ]
    },
    {
     "name": "stderr",
     "output_type": "stream",
     "text": [
      "\r",
      "  9%|▉         | 5/55 [00:02<00:27,  1.81it/s]"
     ]
    },
    {
     "name": "stdout",
     "output_type": "stream",
     "text": [
      "Processing ensemble: ag_local_AutoETSModel+ag_global_cpi_with_covariates_TemporalFusionTransformerModel_exp5_geopolitical_\n"
     ]
    },
    {
     "name": "stderr",
     "output_type": "stream",
     "text": [
      "\r",
      " 11%|█         | 6/55 [00:03<00:28,  1.75it/s]"
     ]
    },
    {
     "name": "stdout",
     "output_type": "stream",
     "text": [
      "Processing ensemble: ag_global_all_SimpleFeedForwardModel_exp5_geopolitical_+ag_global_cpi_with_covariates_TemporalFusionTransformerModel_exp5_geopolitical_\n"
     ]
    },
    {
     "name": "stderr",
     "output_type": "stream",
     "text": [
      "\r",
      " 13%|█▎        | 7/55 [00:03<00:27,  1.72it/s]"
     ]
    },
    {
     "name": "stdout",
     "output_type": "stream",
     "text": [
      "Processing ensemble: ag_global_cpi_with_covariates_TemporalFusionTransformerModel_exp5_climate_+ag_global_cpi_with_covariates_TemporalFusionTransformerModel_exp5_geopolitical_\n"
     ]
    },
    {
     "name": "stderr",
     "output_type": "stream",
     "text": [
      "\r",
      " 15%|█▍        | 8/55 [00:04<00:27,  1.70it/s]"
     ]
    },
    {
     "name": "stdout",
     "output_type": "stream",
     "text": [
      "Processing ensemble: ag_local_ChronosModel+ag_global_cpi_with_covariates_TemporalFusionTransformerModel_exp5_climate_\n"
     ]
    },
    {
     "name": "stderr",
     "output_type": "stream",
     "text": [
      "\r",
      " 16%|█▋        | 9/55 [00:05<00:27,  1.68it/s]"
     ]
    },
    {
     "name": "stdout",
     "output_type": "stream",
     "text": [
      "Processing ensemble: ag_global_all_TemporalFusionTransformerModel_exp1_llm_+ag_global_cpi_with_covariates_TemporalFusionTransformerModel_exp5_geopolitical_\n"
     ]
    },
    {
     "name": "stderr",
     "output_type": "stream",
     "text": [
      "\r",
      " 18%|█▊        | 10/55 [00:05<00:26,  1.67it/s]"
     ]
    },
    {
     "name": "stdout",
     "output_type": "stream",
     "text": [
      "Processing ensemble: ag_global_all_ChronosModel+ag_global_all_TemporalFusionTransformerModel_exp5_climate_\n"
     ]
    },
    {
     "name": "stderr",
     "output_type": "stream",
     "text": [
      "\r",
      " 20%|██        | 11/55 [00:06<00:26,  1.68it/s]"
     ]
    },
    {
     "name": "stdout",
     "output_type": "stream",
     "text": [
      "Processing ensemble: ag_global_all_TemporalFusionTransformerModel_exp1_llm_\n"
     ]
    },
    {
     "name": "stderr",
     "output_type": "stream",
     "text": [
      "\r",
      " 22%|██▏       | 12/55 [00:06<00:23,  1.82it/s]"
     ]
    },
    {
     "name": "stdout",
     "output_type": "stream",
     "text": [
      "Processing ensemble: ag_local_AutoETSModel+ag_local_TemporalFusionTransformerModel\n"
     ]
    },
    {
     "name": "stderr",
     "output_type": "stream",
     "text": [
      "\r",
      " 24%|██▎       | 13/55 [00:07<00:23,  1.76it/s]"
     ]
    },
    {
     "name": "stdout",
     "output_type": "stream",
     "text": [
      "Processing ensemble: ag_global_cpi_with_covariates_TemporalFusionTransformerModel_exp5_climate_\n"
     ]
    },
    {
     "name": "stderr",
     "output_type": "stream",
     "text": [
      "\r",
      " 25%|██▌       | 14/55 [00:07<00:21,  1.90it/s]"
     ]
    },
    {
     "name": "stdout",
     "output_type": "stream",
     "text": [
      "Processing ensemble: ag_global_all_SimpleFeedForwardModel_exp5_geopolitical_+ag_local_TemporalFusionTransformerModel\n"
     ]
    },
    {
     "name": "stderr",
     "output_type": "stream",
     "text": [
      "\r",
      " 27%|██▋       | 15/55 [00:08<00:22,  1.80it/s]"
     ]
    },
    {
     "name": "stdout",
     "output_type": "stream",
     "text": [
      "Processing ensemble: ag_global_all_TemporalFusionTransformerModel_exp5_climate_+ag_global_cpi_with_covariates_TemporalFusionTransformerModel_exp5_geopolitical_\n"
     ]
    },
    {
     "name": "stderr",
     "output_type": "stream",
     "text": [
      "\r",
      " 29%|██▉       | 16/55 [00:09<00:22,  1.73it/s]"
     ]
    },
    {
     "name": "stdout",
     "output_type": "stream",
     "text": [
      "Processing ensemble: ag_local_AutoETSModel+ag_global_all_ChronosModel\n"
     ]
    },
    {
     "name": "stderr",
     "output_type": "stream",
     "text": [
      "\r",
      " 31%|███       | 17/55 [00:09<00:22,  1.70it/s]"
     ]
    },
    {
     "name": "stdout",
     "output_type": "stream",
     "text": [
      "Processing ensemble: ag_global_all_SimpleFeedForwardModel_exp5_geopolitical_+ag_global_all_ChronosModel\n"
     ]
    },
    {
     "name": "stderr",
     "output_type": "stream",
     "text": [
      "\r",
      " 33%|███▎      | 18/55 [00:10<00:22,  1.66it/s]"
     ]
    },
    {
     "name": "stdout",
     "output_type": "stream",
     "text": [
      "Processing ensemble: ag_local_ChronosModel+ag_global_cpi_with_covariates_TemporalFusionTransformerModel_exp5_geopolitical_\n"
     ]
    },
    {
     "name": "stderr",
     "output_type": "stream",
     "text": [
      "\r",
      " 35%|███▍      | 19/55 [00:10<00:21,  1.65it/s]"
     ]
    },
    {
     "name": "stdout",
     "output_type": "stream",
     "text": [
      "Processing ensemble: ag_local_ChronosModel+ag_local_TemporalFusionTransformerModel\n"
     ]
    },
    {
     "name": "stderr",
     "output_type": "stream",
     "text": [
      "\r",
      " 36%|███▋      | 20/55 [00:11<00:21,  1.63it/s]"
     ]
    },
    {
     "name": "stdout",
     "output_type": "stream",
     "text": [
      "Processing ensemble: ag_global_all_TemporalFusionTransformerModel_exp5_climate_+ag_local_TemporalFusionTransformerModel\n"
     ]
    },
    {
     "name": "stderr",
     "output_type": "stream",
     "text": [
      "\r",
      " 38%|███▊      | 21/55 [00:12<00:20,  1.63it/s]"
     ]
    },
    {
     "name": "stdout",
     "output_type": "stream",
     "text": [
      "Processing ensemble: ag_local_TemporalFusionTransformerModel+ag_global_all_SimpleFeedForwardModel_exp5_climate_\n"
     ]
    },
    {
     "name": "stderr",
     "output_type": "stream",
     "text": [
      "\r",
      " 40%|████      | 22/55 [00:12<00:20,  1.62it/s]"
     ]
    },
    {
     "name": "stdout",
     "output_type": "stream",
     "text": [
      "Processing ensemble: ag_global_cpi_with_covariates_TemporalFusionTransformerModel_exp5_geopolitical_\n"
     ]
    },
    {
     "name": "stderr",
     "output_type": "stream",
     "text": [
      "\r",
      " 42%|████▏     | 23/55 [00:13<00:17,  1.78it/s]"
     ]
    },
    {
     "name": "stdout",
     "output_type": "stream",
     "text": [
      "Processing ensemble: ag_local_AutoETSModel+ag_global_all_TemporalFusionTransformerModel_exp5_climate_\n"
     ]
    },
    {
     "name": "stderr",
     "output_type": "stream",
     "text": [
      "\r",
      " 44%|████▎     | 24/55 [00:13<00:18,  1.71it/s]"
     ]
    },
    {
     "name": "stdout",
     "output_type": "stream",
     "text": [
      "Processing ensemble: ag_global_all_SimpleFeedForwardModel_exp5_geopolitical_+ag_global_all_TemporalFusionTransformerModel_exp5_climate_\n"
     ]
    },
    {
     "name": "stderr",
     "output_type": "stream",
     "text": [
      "\r",
      " 45%|████▌     | 25/55 [00:14<00:17,  1.67it/s]"
     ]
    },
    {
     "name": "stdout",
     "output_type": "stream",
     "text": [
      "Processing ensemble: ag_global_all_ChronosModel+ag_local_ChronosModel\n"
     ]
    },
    {
     "name": "stderr",
     "output_type": "stream",
     "text": [
      "\r",
      " 47%|████▋     | 26/55 [00:15<00:17,  1.63it/s]"
     ]
    },
    {
     "name": "stdout",
     "output_type": "stream",
     "text": [
      "Processing ensemble: ag_local_TemporalFusionTransformerModel+ag_global_all_TemporalFusionTransformerModel_exp1_llm_\n"
     ]
    },
    {
     "name": "stderr",
     "output_type": "stream",
     "text": [
      "\r",
      " 49%|████▉     | 27/55 [00:15<00:17,  1.62it/s]"
     ]
    },
    {
     "name": "stdout",
     "output_type": "stream",
     "text": [
      "Processing ensemble: ag_global_all_ChronosModel+ag_global_all_SimpleFeedForwardModel_exp5_climate_\n"
     ]
    },
    {
     "name": "stderr",
     "output_type": "stream",
     "text": [
      "\r",
      " 51%|█████     | 28/55 [00:16<00:16,  1.62it/s]"
     ]
    },
    {
     "name": "stdout",
     "output_type": "stream",
     "text": [
      "Processing ensemble: ag_local_AutoETSModel\n"
     ]
    },
    {
     "name": "stderr",
     "output_type": "stream",
     "text": [
      "\r",
      " 53%|█████▎    | 29/55 [00:16<00:14,  1.79it/s]"
     ]
    },
    {
     "name": "stdout",
     "output_type": "stream",
     "text": [
      "Processing ensemble: ag_local_TemporalFusionTransformerModel+ag_global_cpi_with_covariates_TemporalFusionTransformerModel_exp5_climate_\n"
     ]
    },
    {
     "name": "stderr",
     "output_type": "stream",
     "text": [
      "\r",
      " 55%|█████▍    | 30/55 [00:17<00:14,  1.74it/s]"
     ]
    },
    {
     "name": "stdout",
     "output_type": "stream",
     "text": [
      "Processing ensemble: ag_local_AutoETSModel+ag_global_all_SimpleFeedForwardModel_exp5_geopolitical_\n"
     ]
    },
    {
     "name": "stderr",
     "output_type": "stream",
     "text": [
      "\r",
      " 56%|█████▋    | 31/55 [00:18<00:14,  1.70it/s]"
     ]
    },
    {
     "name": "stdout",
     "output_type": "stream",
     "text": [
      "Processing ensemble: ag_local_TemporalFusionTransformerModel\n"
     ]
    },
    {
     "name": "stderr",
     "output_type": "stream",
     "text": [
      "\r",
      " 58%|█████▊    | 32/55 [00:18<00:12,  1.84it/s]"
     ]
    },
    {
     "name": "stdout",
     "output_type": "stream",
     "text": [
      "Processing ensemble: ag_global_all_ChronosModel+ag_global_all_TemporalFusionTransformerModel_exp1_llm_\n"
     ]
    },
    {
     "name": "stderr",
     "output_type": "stream",
     "text": [
      "\r",
      " 60%|██████    | 33/55 [00:19<00:12,  1.77it/s]"
     ]
    },
    {
     "name": "stdout",
     "output_type": "stream",
     "text": [
      "Processing ensemble: ag_global_all_ChronosModel+ag_global_cpi_with_covariates_TemporalFusionTransformerModel_exp5_climate_\n"
     ]
    },
    {
     "name": "stderr",
     "output_type": "stream",
     "text": [
      "\r",
      " 62%|██████▏   | 34/55 [00:19<00:12,  1.72it/s]"
     ]
    },
    {
     "name": "stdout",
     "output_type": "stream",
     "text": [
      "Processing ensemble: ag_global_all_ChronosModel\n"
     ]
    },
    {
     "name": "stderr",
     "output_type": "stream",
     "text": [
      "\r",
      " 64%|██████▎   | 35/55 [00:20<00:10,  1.87it/s]"
     ]
    },
    {
     "name": "stdout",
     "output_type": "stream",
     "text": [
      "Processing ensemble: ag_local_ChronosModel+ag_global_all_TemporalFusionTransformerModel_exp5_climate_\n"
     ]
    },
    {
     "name": "stderr",
     "output_type": "stream",
     "text": [
      "\r",
      " 65%|██████▌   | 36/55 [00:20<00:10,  1.79it/s]"
     ]
    },
    {
     "name": "stdout",
     "output_type": "stream",
     "text": [
      "Processing ensemble: ag_local_TemporalFusionTransformerModel+ag_global_cpi_with_covariates_TemporalFusionTransformerModel_exp5_geopolitical_\n"
     ]
    },
    {
     "name": "stderr",
     "output_type": "stream",
     "text": [
      "\r",
      " 67%|██████▋   | 37/55 [00:21<00:10,  1.74it/s]"
     ]
    },
    {
     "name": "stdout",
     "output_type": "stream",
     "text": [
      "Processing ensemble: ag_local_AutoETSModel+ag_local_ChronosModel\n"
     ]
    },
    {
     "name": "stderr",
     "output_type": "stream",
     "text": [
      "\r",
      " 69%|██████▉   | 38/55 [00:21<00:10,  1.70it/s]"
     ]
    },
    {
     "name": "stdout",
     "output_type": "stream",
     "text": [
      "Processing ensemble: ag_global_all_SimpleFeedForwardModel_exp5_geopolitical_+ag_local_ChronosModel\n"
     ]
    },
    {
     "name": "stderr",
     "output_type": "stream",
     "text": [
      "\r",
      " 71%|███████   | 39/55 [00:22<00:09,  1.67it/s]"
     ]
    },
    {
     "name": "stdout",
     "output_type": "stream",
     "text": [
      "Processing ensemble: ag_global_all_SimpleFeedForwardModel_exp5_climate_+ag_global_cpi_with_covariates_TemporalFusionTransformerModel_exp5_geopolitical_\n"
     ]
    },
    {
     "name": "stderr",
     "output_type": "stream",
     "text": [
      "\r",
      " 73%|███████▎  | 40/55 [00:23<00:09,  1.66it/s]"
     ]
    },
    {
     "name": "stdout",
     "output_type": "stream",
     "text": [
      "Processing ensemble: ag_local_AutoETSModel+ag_global_all_SimpleFeedForwardModel_exp5_climate_\n"
     ]
    },
    {
     "name": "stderr",
     "output_type": "stream",
     "text": [
      "\r",
      " 75%|███████▍  | 41/55 [00:23<00:08,  1.64it/s]"
     ]
    },
    {
     "name": "stdout",
     "output_type": "stream",
     "text": [
      "Processing ensemble: ag_global_all_TemporalFusionTransformerModel_exp5_climate_\n"
     ]
    },
    {
     "name": "stderr",
     "output_type": "stream",
     "text": [
      "\r",
      " 76%|███████▋  | 42/55 [00:24<00:07,  1.81it/s]"
     ]
    },
    {
     "name": "stdout",
     "output_type": "stream",
     "text": [
      "Processing ensemble: ag_global_all_SimpleFeedForwardModel_exp5_geopolitical_+ag_global_all_SimpleFeedForwardModel_exp5_climate_\n"
     ]
    },
    {
     "name": "stderr",
     "output_type": "stream",
     "text": [
      "\r",
      " 78%|███████▊  | 43/55 [00:24<00:06,  1.74it/s]"
     ]
    },
    {
     "name": "stdout",
     "output_type": "stream",
     "text": [
      "Processing ensemble: ag_global_cpi_with_covariates_TemporalFusionTransformerModel_exp5_climate_+ag_global_all_SimpleFeedForwardModel_exp5_climate_\n"
     ]
    },
    {
     "name": "stderr",
     "output_type": "stream",
     "text": [
      "\r",
      " 80%|████████  | 44/55 [00:25<00:06,  1.71it/s]"
     ]
    },
    {
     "name": "stdout",
     "output_type": "stream",
     "text": [
      "Processing ensemble: ag_global_all_TemporalFusionTransformerModel_exp1_llm_+ag_global_all_SimpleFeedForwardModel_exp5_climate_\n"
     ]
    },
    {
     "name": "stderr",
     "output_type": "stream",
     "text": [
      "\r",
      " 82%|████████▏ | 45/55 [00:26<00:05,  1.69it/s]"
     ]
    },
    {
     "name": "stdout",
     "output_type": "stream",
     "text": [
      "Processing ensemble: ag_global_all_ChronosModel+ag_global_cpi_with_covariates_TemporalFusionTransformerModel_exp5_geopolitical_\n"
     ]
    },
    {
     "name": "stderr",
     "output_type": "stream",
     "text": [
      "\r",
      " 84%|████████▎ | 46/55 [00:26<00:05,  1.65it/s]"
     ]
    },
    {
     "name": "stdout",
     "output_type": "stream",
     "text": [
      "Processing ensemble: ag_global_all_SimpleFeedForwardModel_exp5_geopolitical_\n"
     ]
    },
    {
     "name": "stderr",
     "output_type": "stream",
     "text": [
      "\r",
      " 85%|████████▌ | 47/55 [00:27<00:04,  1.80it/s]"
     ]
    },
    {
     "name": "stdout",
     "output_type": "stream",
     "text": [
      "Processing ensemble: ag_local_AutoETSModel+ag_global_all_TemporalFusionTransformerModel_exp1_llm_\n"
     ]
    },
    {
     "name": "stderr",
     "output_type": "stream",
     "text": [
      "\r",
      " 87%|████████▋ | 48/55 [00:27<00:04,  1.73it/s]"
     ]
    },
    {
     "name": "stdout",
     "output_type": "stream",
     "text": [
      "Processing ensemble: ag_global_all_SimpleFeedForwardModel_exp5_geopolitical_+ag_global_all_TemporalFusionTransformerModel_exp1_llm_\n"
     ]
    },
    {
     "name": "stderr",
     "output_type": "stream",
     "text": [
      "\r",
      " 89%|████████▉ | 49/55 [00:28<00:03,  1.69it/s]"
     ]
    },
    {
     "name": "stdout",
     "output_type": "stream",
     "text": [
      "Processing ensemble: ag_global_cpi_with_covariates_TemporalFusionTransformerModel_exp5_climate_+ag_global_all_TemporalFusionTransformerModel_exp1_llm_\n"
     ]
    },
    {
     "name": "stderr",
     "output_type": "stream",
     "text": [
      "\r",
      " 91%|█████████ | 50/55 [00:29<00:03,  1.65it/s]"
     ]
    },
    {
     "name": "stdout",
     "output_type": "stream",
     "text": [
      "Processing ensemble: ag_local_AutoETSModel+ag_global_cpi_with_covariates_TemporalFusionTransformerModel_exp5_climate_\n"
     ]
    },
    {
     "name": "stderr",
     "output_type": "stream",
     "text": [
      "\r",
      " 93%|█████████▎| 51/55 [00:29<00:02,  1.64it/s]"
     ]
    },
    {
     "name": "stdout",
     "output_type": "stream",
     "text": [
      "Processing ensemble: ag_global_all_SimpleFeedForwardModel_exp5_geopolitical_+ag_global_cpi_with_covariates_TemporalFusionTransformerModel_exp5_climate_\n"
     ]
    },
    {
     "name": "stderr",
     "output_type": "stream",
     "text": [
      "\r",
      " 95%|█████████▍| 52/55 [00:30<00:01,  1.63it/s]"
     ]
    },
    {
     "name": "stdout",
     "output_type": "stream",
     "text": [
      "Processing ensemble: ag_global_all_ChronosModel+ag_local_TemporalFusionTransformerModel\n"
     ]
    },
    {
     "name": "stderr",
     "output_type": "stream",
     "text": [
      "\r",
      " 96%|█████████▋| 53/55 [00:30<00:01,  1.63it/s]"
     ]
    },
    {
     "name": "stdout",
     "output_type": "stream",
     "text": [
      "Processing ensemble: ag_global_all_TemporalFusionTransformerModel_exp5_climate_+ag_global_all_SimpleFeedForwardModel_exp5_climate_\n"
     ]
    },
    {
     "name": "stderr",
     "output_type": "stream",
     "text": [
      "\r",
      " 98%|█████████▊| 54/55 [00:31<00:00,  1.62it/s]"
     ]
    },
    {
     "name": "stdout",
     "output_type": "stream",
     "text": [
      "Processing ensemble: ag_local_ChronosModel+ag_global_all_SimpleFeedForwardModel_exp5_climate_\n"
     ]
    },
    {
     "name": "stderr",
     "output_type": "stream",
     "text": [
      "100%|██████████| 55/55 [00:32<00:00,  1.71it/s]\n"
     ]
    },
    {
     "name": "stdout",
     "output_type": "stream",
     "text": [
      "Computing ensemble scores for: food_cpi: Vegetables and vegetable preparations\n"
     ]
    },
    {
     "name": "stderr",
     "output_type": "stream",
     "text": [
      "\r",
      "  0%|          | 0/55 [00:00<?, ?it/s]"
     ]
    },
    {
     "name": "stdout",
     "output_type": "stream",
     "text": [
      "Processing ensemble: ag_global_cpi_with_covariates_TemporalFusionTransformerModel_exp1_llm_+ag_local_DLinearModel\n"
     ]
    },
    {
     "name": "stderr",
     "output_type": "stream",
     "text": [
      "\r",
      "  2%|▏         | 1/55 [00:00<00:33,  1.59it/s]"
     ]
    },
    {
     "name": "stdout",
     "output_type": "stream",
     "text": [
      "Processing ensemble: ag_global_cpi_with_covariates_TemporalFusionTransformerModel_exp1_llm_+ag_local_SimpleFeedForwardModel\n"
     ]
    },
    {
     "name": "stderr",
     "output_type": "stream",
     "text": [
      "\r",
      "  4%|▎         | 2/55 [00:01<00:32,  1.62it/s]"
     ]
    },
    {
     "name": "stdout",
     "output_type": "stream",
     "text": [
      "Processing ensemble: ag_global_cpi_with_covariates_TemporalFusionTransformerModel_exp5_climate_+ag_local_DLinearModel\n"
     ]
    },
    {
     "name": "stderr",
     "output_type": "stream",
     "text": [
      "\r",
      "  5%|▌         | 3/55 [00:01<00:31,  1.63it/s]"
     ]
    },
    {
     "name": "stdout",
     "output_type": "stream",
     "text": [
      "Processing ensemble: ag_global_cpi_with_covariates_TemporalFusionTransformerModel_exp5_climate_+ag_global_cpi_with_covariates_TemporalFusionTransformerModel_exp5_geopolitical_\n"
     ]
    },
    {
     "name": "stderr",
     "output_type": "stream",
     "text": [
      "\r",
      "  7%|▋         | 4/55 [00:02<00:31,  1.61it/s]"
     ]
    },
    {
     "name": "stdout",
     "output_type": "stream",
     "text": [
      "Processing ensemble: ag_global_all_DeepARModel+ag_global_all_TemporalFusionTransformerModel_exp1_llm_\n"
     ]
    },
    {
     "name": "stderr",
     "output_type": "stream",
     "text": [
      "\r",
      "  9%|▉         | 5/55 [00:03<00:31,  1.60it/s]"
     ]
    },
    {
     "name": "stdout",
     "output_type": "stream",
     "text": [
      "Processing ensemble: ag_global_cpi_with_covariates_TemporalFusionTransformerModel+ag_local_DLinearModel\n"
     ]
    },
    {
     "name": "stderr",
     "output_type": "stream",
     "text": [
      "\r",
      " 11%|█         | 6/55 [00:03<00:30,  1.60it/s]"
     ]
    },
    {
     "name": "stdout",
     "output_type": "stream",
     "text": [
      "Processing ensemble: ag_global_cpi_with_covariates_TemporalFusionTransformerModel_exp5_geopolitical_+ag_global_all_TemporalFusionTransformerModel_exp1_llm_\n"
     ]
    },
    {
     "name": "stderr",
     "output_type": "stream",
     "text": [
      "\r",
      " 13%|█▎        | 7/55 [00:04<00:29,  1.60it/s]"
     ]
    },
    {
     "name": "stdout",
     "output_type": "stream",
     "text": [
      "Processing ensemble: ag_global_cpi_with_covariates_TemporalFusionTransformerModel_exp1_llm_+ag_global_cpi_with_covariates_TemporalFusionTransformerModel_exp5_geopolitical_\n"
     ]
    },
    {
     "name": "stderr",
     "output_type": "stream",
     "text": [
      "\r",
      " 15%|█▍        | 8/55 [00:04<00:29,  1.61it/s]"
     ]
    },
    {
     "name": "stdout",
     "output_type": "stream",
     "text": [
      "Processing ensemble: ag_global_cpi_with_covariates_TemporalFusionTransformerModel_exp1_llm_\n"
     ]
    },
    {
     "name": "stderr",
     "output_type": "stream",
     "text": [
      "\r",
      " 16%|█▋        | 9/55 [00:05<00:26,  1.77it/s]"
     ]
    },
    {
     "name": "stdout",
     "output_type": "stream",
     "text": [
      "Processing ensemble: ag_global_all_TemporalFusionTransformerModel_exp1_llm_\n"
     ]
    },
    {
     "name": "stderr",
     "output_type": "stream",
     "text": [
      "\r",
      " 18%|█▊        | 10/55 [00:05<00:23,  1.91it/s]"
     ]
    },
    {
     "name": "stdout",
     "output_type": "stream",
     "text": [
      "Processing ensemble: ag_global_cpi_with_covariates_TemporalFusionTransformerModel_exp5_climate_+ag_local_DeepARModel\n"
     ]
    },
    {
     "name": "stderr",
     "output_type": "stream",
     "text": [
      "\r",
      " 20%|██        | 11/55 [00:06<00:24,  1.79it/s]"
     ]
    },
    {
     "name": "stdout",
     "output_type": "stream",
     "text": [
      "Processing ensemble: ag_global_cpi_with_covariates_TemporalFusionTransformerModel_exp1_llm_+ag_local_DeepARModel\n"
     ]
    },
    {
     "name": "stderr",
     "output_type": "stream",
     "text": [
      "\r",
      " 22%|██▏       | 12/55 [00:07<00:24,  1.74it/s]"
     ]
    },
    {
     "name": "stdout",
     "output_type": "stream",
     "text": [
      "Processing ensemble: ag_local_PatchTSTModel+ag_global_cpi_with_covariates_TemporalFusionTransformerModel\n"
     ]
    },
    {
     "name": "stderr",
     "output_type": "stream",
     "text": [
      "\r",
      " 24%|██▎       | 13/55 [00:07<00:24,  1.70it/s]"
     ]
    },
    {
     "name": "stdout",
     "output_type": "stream",
     "text": [
      "Processing ensemble: ag_local_SimpleFeedForwardModel+ag_global_cpi_with_covariates_TemporalFusionTransformerModel_exp5_geopolitical_\n"
     ]
    },
    {
     "name": "stderr",
     "output_type": "stream",
     "text": [
      "\r",
      " 25%|██▌       | 14/55 [00:08<00:24,  1.67it/s]"
     ]
    },
    {
     "name": "stdout",
     "output_type": "stream",
     "text": [
      "Processing ensemble: ag_global_all_DeepARModel+ag_local_DLinearModel\n"
     ]
    },
    {
     "name": "stderr",
     "output_type": "stream",
     "text": [
      "\r",
      " 27%|██▋       | 15/55 [00:08<00:24,  1.64it/s]"
     ]
    },
    {
     "name": "stdout",
     "output_type": "stream",
     "text": [
      "Processing ensemble: ag_global_cpi_with_covariates_TemporalFusionTransformerModel_exp5_climate_\n"
     ]
    },
    {
     "name": "stderr",
     "output_type": "stream",
     "text": [
      "\r",
      " 29%|██▉       | 16/55 [00:09<00:21,  1.81it/s]"
     ]
    },
    {
     "name": "stdout",
     "output_type": "stream",
     "text": [
      "Processing ensemble: ag_global_all_DeepARModel+ag_local_SimpleFeedForwardModel\n"
     ]
    },
    {
     "name": "stderr",
     "output_type": "stream",
     "text": [
      "\r",
      " 31%|███       | 17/55 [00:10<00:21,  1.75it/s]"
     ]
    },
    {
     "name": "stdout",
     "output_type": "stream",
     "text": [
      "Processing ensemble: ag_local_SimpleFeedForwardModel+ag_local_DeepARModel\n"
     ]
    },
    {
     "name": "stderr",
     "output_type": "stream",
     "text": [
      "\r",
      " 33%|███▎      | 18/55 [00:10<00:21,  1.70it/s]"
     ]
    },
    {
     "name": "stdout",
     "output_type": "stream",
     "text": [
      "Processing ensemble: ag_global_cpi_with_covariates_TemporalFusionTransformerModel_exp5_geopolitical_+ag_local_DLinearModel\n"
     ]
    },
    {
     "name": "stderr",
     "output_type": "stream",
     "text": [
      "\r",
      " 35%|███▍      | 19/55 [00:11<00:21,  1.67it/s]"
     ]
    },
    {
     "name": "stdout",
     "output_type": "stream",
     "text": [
      "Processing ensemble: ag_global_cpi_with_covariates_TemporalFusionTransformerModel+ag_local_DeepARModel\n"
     ]
    },
    {
     "name": "stderr",
     "output_type": "stream",
     "text": [
      "\r",
      " 36%|███▋      | 20/55 [00:11<00:21,  1.66it/s]"
     ]
    },
    {
     "name": "stdout",
     "output_type": "stream",
     "text": [
      "Processing ensemble: ag_local_DLinearModel\n"
     ]
    },
    {
     "name": "stderr",
     "output_type": "stream",
     "text": [
      "\r",
      " 38%|███▊      | 21/55 [00:12<00:18,  1.82it/s]"
     ]
    },
    {
     "name": "stdout",
     "output_type": "stream",
     "text": [
      "Processing ensemble: ag_local_SimpleFeedForwardModel\n"
     ]
    },
    {
     "name": "stderr",
     "output_type": "stream",
     "text": [
      "\r",
      " 40%|████      | 22/55 [00:12<00:16,  1.96it/s]"
     ]
    },
    {
     "name": "stdout",
     "output_type": "stream",
     "text": [
      "Processing ensemble: ag_global_all_DeepARModel+ag_global_cpi_with_covariates_TemporalFusionTransformerModel_exp5_geopolitical_\n"
     ]
    },
    {
     "name": "stderr",
     "output_type": "stream",
     "text": [
      "\r",
      " 42%|████▏     | 23/55 [00:13<00:17,  1.85it/s]"
     ]
    },
    {
     "name": "stdout",
     "output_type": "stream",
     "text": [
      "Processing ensemble: ag_local_DLinearModel+ag_global_all_TemporalFusionTransformerModel_exp1_llm_\n"
     ]
    },
    {
     "name": "stderr",
     "output_type": "stream",
     "text": [
      "\r",
      " 44%|████▎     | 24/55 [00:13<00:17,  1.77it/s]"
     ]
    },
    {
     "name": "stdout",
     "output_type": "stream",
     "text": [
      "Processing ensemble: ag_local_DeepARModel+ag_global_all_TemporalFusionTransformerModel_exp1_llm_\n"
     ]
    },
    {
     "name": "stderr",
     "output_type": "stream",
     "text": [
      "\r",
      " 45%|████▌     | 25/55 [00:14<00:17,  1.71it/s]"
     ]
    },
    {
     "name": "stdout",
     "output_type": "stream",
     "text": [
      "Processing ensemble: ag_local_PatchTSTModel+ag_global_cpi_with_covariates_TemporalFusionTransformerModel_exp1_llm_\n"
     ]
    },
    {
     "name": "stderr",
     "output_type": "stream",
     "text": [
      "\r",
      " 47%|████▋     | 26/55 [00:15<00:17,  1.67it/s]"
     ]
    },
    {
     "name": "stdout",
     "output_type": "stream",
     "text": [
      "Processing ensemble: ag_global_cpi_with_covariates_TemporalFusionTransformerModel_exp5_geopolitical_+ag_local_DeepARModel\n"
     ]
    },
    {
     "name": "stderr",
     "output_type": "stream",
     "text": [
      "\r",
      " 49%|████▉     | 27/55 [00:15<00:16,  1.65it/s]"
     ]
    },
    {
     "name": "stdout",
     "output_type": "stream",
     "text": [
      "Processing ensemble: ag_local_PatchTSTModel+ag_global_all_TemporalFusionTransformerModel_exp1_llm_\n"
     ]
    },
    {
     "name": "stderr",
     "output_type": "stream",
     "text": [
      "\r",
      " 51%|█████     | 28/55 [00:16<00:16,  1.63it/s]"
     ]
    },
    {
     "name": "stdout",
     "output_type": "stream",
     "text": [
      "Processing ensemble: ag_global_cpi_with_covariates_TemporalFusionTransformerModel_exp5_geopolitical_\n"
     ]
    },
    {
     "name": "stderr",
     "output_type": "stream",
     "text": [
      "\r",
      " 53%|█████▎    | 29/55 [00:16<00:14,  1.79it/s]"
     ]
    },
    {
     "name": "stdout",
     "output_type": "stream",
     "text": [
      "Processing ensemble: ag_global_cpi_with_covariates_TemporalFusionTransformerModel_exp5_climate_+ag_global_all_DeepARModel\n"
     ]
    },
    {
     "name": "stderr",
     "output_type": "stream",
     "text": [
      "\r",
      " 55%|█████▍    | 30/55 [00:17<00:14,  1.73it/s]"
     ]
    },
    {
     "name": "stdout",
     "output_type": "stream",
     "text": [
      "Processing ensemble: ag_global_all_DeepARModel+ag_local_DeepARModel\n"
     ]
    },
    {
     "name": "stderr",
     "output_type": "stream",
     "text": [
      "\r",
      " 56%|█████▋    | 31/55 [00:18<00:14,  1.71it/s]"
     ]
    },
    {
     "name": "stdout",
     "output_type": "stream",
     "text": [
      "Processing ensemble: ag_local_PatchTSTModel+ag_global_cpi_with_covariates_TemporalFusionTransformerModel_exp5_climate_\n"
     ]
    },
    {
     "name": "stderr",
     "output_type": "stream",
     "text": [
      "\r",
      " 58%|█████▊    | 32/55 [00:18<00:13,  1.69it/s]"
     ]
    },
    {
     "name": "stdout",
     "output_type": "stream",
     "text": [
      "Processing ensemble: ag_local_DeepARModel\n"
     ]
    },
    {
     "name": "stderr",
     "output_type": "stream",
     "text": [
      "\r",
      " 60%|██████    | 33/55 [00:19<00:11,  1.86it/s]"
     ]
    },
    {
     "name": "stdout",
     "output_type": "stream",
     "text": [
      "Processing ensemble: ag_global_cpi_with_covariates_TemporalFusionTransformerModel_exp1_llm_+ag_global_all_DeepARModel\n"
     ]
    },
    {
     "name": "stderr",
     "output_type": "stream",
     "text": [
      "\r",
      " 62%|██████▏   | 34/55 [00:19<00:11,  1.79it/s]"
     ]
    },
    {
     "name": "stdout",
     "output_type": "stream",
     "text": [
      "Processing ensemble: ag_local_DeepARModel+ag_local_DLinearModel\n"
     ]
    },
    {
     "name": "stderr",
     "output_type": "stream",
     "text": [
      "\r",
      " 64%|██████▎   | 35/55 [00:20<00:11,  1.73it/s]"
     ]
    },
    {
     "name": "stdout",
     "output_type": "stream",
     "text": [
      "Processing ensemble: ag_local_PatchTSTModel+ag_local_DLinearModel\n"
     ]
    },
    {
     "name": "stderr",
     "output_type": "stream",
     "text": [
      "\r",
      " 65%|██████▌   | 36/55 [00:20<00:11,  1.69it/s]"
     ]
    },
    {
     "name": "stdout",
     "output_type": "stream",
     "text": [
      "Processing ensemble: ag_local_PatchTSTModel+ag_local_SimpleFeedForwardModel\n"
     ]
    },
    {
     "name": "stderr",
     "output_type": "stream",
     "text": [
      "\r",
      " 67%|██████▋   | 37/55 [00:21<00:10,  1.68it/s]"
     ]
    },
    {
     "name": "stdout",
     "output_type": "stream",
     "text": [
      "Processing ensemble: ag_local_PatchTSTModel+ag_global_cpi_with_covariates_TemporalFusionTransformerModel_exp5_geopolitical_\n"
     ]
    },
    {
     "name": "stderr",
     "output_type": "stream",
     "text": [
      "\r",
      " 69%|██████▉   | 38/55 [00:22<00:10,  1.67it/s]"
     ]
    },
    {
     "name": "stdout",
     "output_type": "stream",
     "text": [
      "Processing ensemble: ag_global_cpi_with_covariates_TemporalFusionTransformerModel_exp5_climate_+ag_global_cpi_with_covariates_TemporalFusionTransformerModel\n"
     ]
    },
    {
     "name": "stderr",
     "output_type": "stream",
     "text": [
      "\r",
      " 71%|███████   | 39/55 [00:22<00:09,  1.65it/s]"
     ]
    },
    {
     "name": "stdout",
     "output_type": "stream",
     "text": [
      "Processing ensemble: ag_local_PatchTSTModel+ag_local_DeepARModel\n"
     ]
    },
    {
     "name": "stderr",
     "output_type": "stream",
     "text": [
      "\r",
      " 73%|███████▎  | 40/55 [00:23<00:09,  1.63it/s]"
     ]
    },
    {
     "name": "stdout",
     "output_type": "stream",
     "text": [
      "Processing ensemble: ag_global_all_DeepARModel\n"
     ]
    },
    {
     "name": "stderr",
     "output_type": "stream",
     "text": [
      "\r",
      " 75%|███████▍  | 41/55 [00:23<00:07,  1.78it/s]"
     ]
    },
    {
     "name": "stdout",
     "output_type": "stream",
     "text": [
      "Processing ensemble: ag_local_SimpleFeedForwardModel+ag_global_cpi_with_covariates_TemporalFusionTransformerModel\n"
     ]
    },
    {
     "name": "stderr",
     "output_type": "stream",
     "text": [
      "\r",
      " 76%|███████▋  | 42/55 [00:24<00:07,  1.73it/s]"
     ]
    },
    {
     "name": "stdout",
     "output_type": "stream",
     "text": [
      "Processing ensemble: ag_global_cpi_with_covariates_TemporalFusionTransformerModel_exp1_llm_+ag_global_cpi_with_covariates_TemporalFusionTransformerModel\n"
     ]
    },
    {
     "name": "stderr",
     "output_type": "stream",
     "text": [
      "\r",
      " 78%|███████▊  | 43/55 [00:25<00:07,  1.70it/s]"
     ]
    },
    {
     "name": "stdout",
     "output_type": "stream",
     "text": [
      "Processing ensemble: ag_local_PatchTSTModel\n"
     ]
    },
    {
     "name": "stderr",
     "output_type": "stream",
     "text": [
      "\r",
      " 80%|████████  | 44/55 [00:25<00:06,  1.83it/s]"
     ]
    },
    {
     "name": "stdout",
     "output_type": "stream",
     "text": [
      "Processing ensemble: ag_global_cpi_with_covariates_TemporalFusionTransformerModel_exp5_climate_+ag_global_cpi_with_covariates_TemporalFusionTransformerModel_exp1_llm_\n"
     ]
    },
    {
     "name": "stderr",
     "output_type": "stream",
     "text": [
      "\r",
      " 82%|████████▏ | 45/55 [00:26<00:05,  1.76it/s]"
     ]
    },
    {
     "name": "stdout",
     "output_type": "stream",
     "text": [
      "Processing ensemble: ag_global_cpi_with_covariates_TemporalFusionTransformerModel_exp5_climate_+ag_global_all_TemporalFusionTransformerModel_exp1_llm_\n"
     ]
    },
    {
     "name": "stderr",
     "output_type": "stream",
     "text": [
      "\r",
      " 84%|████████▎ | 46/55 [00:26<00:05,  1.70it/s]"
     ]
    },
    {
     "name": "stdout",
     "output_type": "stream",
     "text": [
      "Processing ensemble: ag_global_cpi_with_covariates_TemporalFusionTransformerModel_exp1_llm_+ag_global_all_TemporalFusionTransformerModel_exp1_llm_\n"
     ]
    },
    {
     "name": "stderr",
     "output_type": "stream",
     "text": [
      "\r",
      " 85%|████████▌ | 47/55 [00:27<00:04,  1.67it/s]"
     ]
    },
    {
     "name": "stdout",
     "output_type": "stream",
     "text": [
      "Processing ensemble: ag_global_cpi_with_covariates_TemporalFusionTransformerModel_exp5_geopolitical_+ag_global_cpi_with_covariates_TemporalFusionTransformerModel\n"
     ]
    },
    {
     "name": "stderr",
     "output_type": "stream",
     "text": [
      "\r",
      " 87%|████████▋ | 48/55 [00:28<00:04,  1.65it/s]"
     ]
    },
    {
     "name": "stdout",
     "output_type": "stream",
     "text": [
      "Processing ensemble: ag_global_all_DeepARModel+ag_global_cpi_with_covariates_TemporalFusionTransformerModel\n"
     ]
    },
    {
     "name": "stderr",
     "output_type": "stream",
     "text": [
      "\r",
      " 89%|████████▉ | 49/55 [00:28<00:03,  1.63it/s]"
     ]
    },
    {
     "name": "stdout",
     "output_type": "stream",
     "text": [
      "Processing ensemble: ag_local_SimpleFeedForwardModel+ag_global_all_TemporalFusionTransformerModel_exp1_llm_\n"
     ]
    },
    {
     "name": "stderr",
     "output_type": "stream",
     "text": [
      "\r",
      " 91%|█████████ | 50/55 [00:29<00:03,  1.60it/s]"
     ]
    },
    {
     "name": "stdout",
     "output_type": "stream",
     "text": [
      "Processing ensemble: ag_local_PatchTSTModel+ag_global_all_DeepARModel\n"
     ]
    },
    {
     "name": "stderr",
     "output_type": "stream",
     "text": [
      "\r",
      " 93%|█████████▎| 51/55 [00:29<00:02,  1.60it/s]"
     ]
    },
    {
     "name": "stdout",
     "output_type": "stream",
     "text": [
      "Processing ensemble: ag_global_cpi_with_covariates_TemporalFusionTransformerModel+ag_global_all_TemporalFusionTransformerModel_exp1_llm_\n"
     ]
    },
    {
     "name": "stderr",
     "output_type": "stream",
     "text": [
      "\r",
      " 95%|█████████▍| 52/55 [00:30<00:01,  1.59it/s]"
     ]
    },
    {
     "name": "stdout",
     "output_type": "stream",
     "text": [
      "Processing ensemble: ag_global_cpi_with_covariates_TemporalFusionTransformerModel\n"
     ]
    },
    {
     "name": "stderr",
     "output_type": "stream",
     "text": [
      "\r",
      " 96%|█████████▋| 53/55 [00:31<00:01,  1.76it/s]"
     ]
    },
    {
     "name": "stdout",
     "output_type": "stream",
     "text": [
      "Processing ensemble: ag_global_cpi_with_covariates_TemporalFusionTransformerModel_exp5_climate_+ag_local_SimpleFeedForwardModel\n"
     ]
    },
    {
     "name": "stderr",
     "output_type": "stream",
     "text": [
      "\r",
      " 98%|█████████▊| 54/55 [00:31<00:00,  1.73it/s]"
     ]
    },
    {
     "name": "stdout",
     "output_type": "stream",
     "text": [
      "Processing ensemble: ag_local_SimpleFeedForwardModel+ag_local_DLinearModel\n"
     ]
    },
    {
     "name": "stderr",
     "output_type": "stream",
     "text": [
      "100%|██████████| 55/55 [00:32<00:00,  1.70it/s]\n"
     ]
    }
   ],
   "source": [
    "from itertools import combinations\n",
    "from tqdm import tqdm\n",
    "\n",
    "all_exp_results = []\n",
    "\n",
    "for category in foodprice_df.columns:\n",
    "    print(f\"Computing ensemble scores for: {category}\")\n",
    "    all_combinations = []\n",
    "\n",
    "    # Iterate through combinations of experiments for the ensemble (from 1 to 5 experiments in ensemble)\n",
    "    for r in range(1, 3):\n",
    "        # Select top 10 experiments based on lowest mean_score for the specific category\n",
    "        top_experiments = mape_df.loc[mape_df.category == category].sort_values('mean_score').head(10)['experiment']\n",
    "\n",
    "        # Generate all combinations of the experiments for this category\n",
    "        exp_combinations = combinations(top_experiments, r)\n",
    "        all_combinations.extend(exp_combinations)\n",
    "\n",
    "    exp_results = []\n",
    "    \n",
    "    # Iterate over each unique experiment configuration (combination of experiments)\n",
    "    for exp_config in tqdm(set(all_combinations)):\n",
    "        # Call the compute_scores_single_ensemble function with each combination of experiments\n",
    "        exp_results.append(\n",
    "            compute_scores_single_ensemble(\n",
    "                report_sim_dates=report_sim_dates,  # Use your date range here\n",
    "                ensemble_experiments=list(exp_config),  # Pass current combination of experiments\n",
    "                study_metric=\"mape\"  # or another metric if needed\n",
    "            )\n",
    "        )\n",
    "    \n",
    "    # Extend the results across all categories\n",
    "    all_exp_results.extend(exp_results)"
   ]
  },
  {
   "cell_type": "code",
   "execution_count": 30,
   "id": "pointed-advertising",
   "metadata": {},
   "outputs": [
    {
     "data": {
      "text/plain": [
       "[               q_0.05     q_0.95      q_0.5\n",
       " timestamp                                  \n",
       " 2023-08-01  170.76857  200.37918  185.57387\n",
       " 2023-09-01  168.34060  202.55899  185.44980\n",
       " 2023-10-01  166.04013  202.36719  184.20366\n",
       " 2023-11-01  169.74280  207.59102  188.66692\n",
       " 2023-12-01  172.98819  210.78514  191.88667\n",
       " 2024-01-01  171.16333  210.93544  191.04940\n",
       " 2024-02-01  170.27199  210.69273  190.48236\n",
       " 2024-03-01  167.89520  209.91609  188.90565\n",
       " 2024-04-01  166.25398  208.31955  187.28677\n",
       " 2024-05-01  167.93817  209.59952  188.76884\n",
       " 2024-06-01  168.74518  210.23633  189.49075\n",
       " 2024-07-01  167.78201  209.50670  188.64435,\n",
       "                q_0.05     q_0.95      q_0.5\n",
       " timestamp                                  \n",
       " 2023-08-01  169.69768  186.32802  178.01285\n",
       " 2023-09-01  159.27820  179.69221  169.48520\n",
       " 2023-10-01  150.56099  179.28522  164.92310\n",
       " 2023-11-01  167.21521  190.40650  178.81085\n",
       " 2023-12-01  167.11030  196.60242  181.85637\n",
       " 2024-01-01  176.35014  205.93390  191.14203\n",
       " 2024-02-01  177.31929  207.26456  192.29193\n",
       " 2024-03-01  172.46138  202.74574  187.60356\n",
       " 2024-04-01  174.40977  199.16663  186.78820\n",
       " 2024-05-01  180.88133  201.67377  191.27754\n",
       " 2024-06-01  179.89867  204.06783  191.98325\n",
       " 2024-07-01  167.72511  195.66733  181.69623]"
      ]
     },
     "execution_count": 30,
     "metadata": {},
     "output_type": "execute_result"
    }
   ],
   "source": [
    "forecast_dfs"
   ]
  },
  {
   "cell_type": "code",
   "execution_count": 31,
   "id": "frequent-conjunction",
   "metadata": {},
   "outputs": [
    {
     "data": {
      "text/plain": [
       "[               q_0.05     q_0.95      q_0.5\n",
       " timestamp                                  \n",
       " 2023-08-01  170.76857  200.37918  185.57387\n",
       " 2023-09-01  168.34060  202.55899  185.44980\n",
       " 2023-10-01  166.04013  202.36719  184.20366\n",
       " 2023-11-01  169.74280  207.59102  188.66692\n",
       " 2023-12-01  172.98819  210.78514  191.88667\n",
       " 2024-01-01  171.16333  210.93544  191.04940\n",
       " 2024-02-01  170.27199  210.69273  190.48236\n",
       " 2024-03-01  167.89520  209.91609  188.90565\n",
       " 2024-04-01  166.25398  208.31955  187.28677\n",
       " 2024-05-01  167.93817  209.59952  188.76884\n",
       " 2024-06-01  168.74518  210.23633  189.49075\n",
       " 2024-07-01  167.78201  209.50670  188.64435,\n",
       "                q_0.05     q_0.95      q_0.5\n",
       " timestamp                                  \n",
       " 2023-08-01  169.69768  186.32802  178.01285\n",
       " 2023-09-01  159.27820  179.69221  169.48520\n",
       " 2023-10-01  150.56099  179.28522  164.92310\n",
       " 2023-11-01  167.21521  190.40650  178.81085\n",
       " 2023-12-01  167.11030  196.60242  181.85637\n",
       " 2024-01-01  176.35014  205.93390  191.14203\n",
       " 2024-02-01  177.31929  207.26456  192.29193\n",
       " 2024-03-01  172.46138  202.74574  187.60356\n",
       " 2024-04-01  174.40977  199.16663  186.78820\n",
       " 2024-05-01  180.88133  201.67377  191.27754\n",
       " 2024-06-01  179.89867  204.06783  191.98325\n",
       " 2024-07-01  167.72511  195.66733  181.69623]"
      ]
     },
     "execution_count": 31,
     "metadata": {},
     "output_type": "execute_result"
    }
   ],
   "source": [
    "forecast_dfs"
   ]
  },
  {
   "cell_type": "code",
   "execution_count": 32,
   "id": "conservative-summit",
   "metadata": {},
   "outputs": [],
   "source": [
    "# all_combinations\n",
    "mape_df = pd.concat(all_exp_results).reset_index(drop=True)\n",
    "\n",
    "overall_mape = mape_df\n",
    "overall_mape = overall_mape.drop(columns='scores')\n",
    "overall_mape = overall_mape.drop_duplicates()"
   ]
  },
  {
   "cell_type": "code",
   "execution_count": 33,
   "id": "supreme-kruger",
   "metadata": {},
   "outputs": [
    {
     "data": {
      "text/html": [
       "<div>\n",
       "<style scoped>\n",
       "    .dataframe tbody tr th:only-of-type {\n",
       "        vertical-align: middle;\n",
       "    }\n",
       "\n",
       "    .dataframe tbody tr th {\n",
       "        vertical-align: top;\n",
       "    }\n",
       "\n",
       "    .dataframe thead th {\n",
       "        text-align: right;\n",
       "    }\n",
       "</style>\n",
       "<table border=\"1\" class=\"dataframe\">\n",
       "  <thead>\n",
       "    <tr style=\"text-align: right;\">\n",
       "      <th></th>\n",
       "      <th>year</th>\n",
       "      <th>experiment</th>\n",
       "      <th>category</th>\n",
       "      <th>mean_score</th>\n",
       "      <th>std_score</th>\n",
       "    </tr>\n",
       "  </thead>\n",
       "  <tbody>\n",
       "    <tr>\n",
       "      <th>177</th>\n",
       "      <td>1986</td>\n",
       "      <td>claude-3-5-sonnet-20240620_report_False</td>\n",
       "      <td>food_cpi: Bakery and cereal products (excludin...</td>\n",
       "      <td>0.028999</td>\n",
       "      <td>0.016868</td>\n",
       "    </tr>\n",
       "    <tr>\n",
       "      <th>228</th>\n",
       "      <td>1986</td>\n",
       "      <td>claude-3-5-sonnet-20240620_report_False+ag_glo...</td>\n",
       "      <td>food_cpi: Bakery and cereal products (excludin...</td>\n",
       "      <td>0.029314</td>\n",
       "      <td>0.020991</td>\n",
       "    </tr>\n",
       "    <tr>\n",
       "      <th>192</th>\n",
       "      <td>1986</td>\n",
       "      <td>claude-3-5-sonnet-20240620_report_False+ag_loc...</td>\n",
       "      <td>food_cpi: Bakery and cereal products (excludin...</td>\n",
       "      <td>0.029778</td>\n",
       "      <td>0.021896</td>\n",
       "    </tr>\n",
       "    <tr>\n",
       "      <th>204</th>\n",
       "      <td>1986</td>\n",
       "      <td>claude-3-5-sonnet-20240620_report_False+claude...</td>\n",
       "      <td>food_cpi: Bakery and cereal products (excludin...</td>\n",
       "      <td>0.030017</td>\n",
       "      <td>0.016140</td>\n",
       "    </tr>\n",
       "    <tr>\n",
       "      <th>2292</th>\n",
       "      <td>1986</td>\n",
       "      <td>claude-3-5-sonnet-20240620_report_True+claude-...</td>\n",
       "      <td>food_cpi: Bakery and cereal products (excludin...</td>\n",
       "      <td>0.030017</td>\n",
       "      <td>0.016140</td>\n",
       "    </tr>\n",
       "    <tr>\n",
       "      <th>...</th>\n",
       "      <td>...</td>\n",
       "      <td>...</td>\n",
       "      <td>...</td>\n",
       "      <td>...</td>\n",
       "      <td>...</td>\n",
       "    </tr>\n",
       "    <tr>\n",
       "      <th>3426</th>\n",
       "      <td>1986</td>\n",
       "      <td>ag_local_PatchTSTModel+ag_local_DLinearModel</td>\n",
       "      <td>food_cpi: Bakery and cereal products (excludin...</td>\n",
       "      <td>0.050171</td>\n",
       "      <td>0.033130</td>\n",
       "    </tr>\n",
       "    <tr>\n",
       "      <th>2571</th>\n",
       "      <td>1986</td>\n",
       "      <td>ag_local_PatchTSTModel</td>\n",
       "      <td>food_cpi: Bakery and cereal products (excludin...</td>\n",
       "      <td>0.052984</td>\n",
       "      <td>0.032673</td>\n",
       "    </tr>\n",
       "    <tr>\n",
       "      <th>3597</th>\n",
       "      <td>1986</td>\n",
       "      <td>ag_local_SimpleFeedForwardModel+ag_local_DLine...</td>\n",
       "      <td>food_cpi: Bakery and cereal products (excludin...</td>\n",
       "      <td>0.053084</td>\n",
       "      <td>0.038383</td>\n",
       "    </tr>\n",
       "    <tr>\n",
       "      <th>3435</th>\n",
       "      <td>1986</td>\n",
       "      <td>ag_local_PatchTSTModel+ag_local_SimpleFeedForw...</td>\n",
       "      <td>food_cpi: Bakery and cereal products (excludin...</td>\n",
       "      <td>0.053998</td>\n",
       "      <td>0.039150</td>\n",
       "    </tr>\n",
       "    <tr>\n",
       "      <th>390</th>\n",
       "      <td>1986</td>\n",
       "      <td>ag_local_SimpleFeedForwardModel</td>\n",
       "      <td>food_cpi: Bakery and cereal products (excludin...</td>\n",
       "      <td>0.058612</td>\n",
       "      <td>0.043990</td>\n",
       "    </tr>\n",
       "  </tbody>\n",
       "</table>\n",
       "<p>287 rows × 5 columns</p>\n",
       "</div>"
      ],
      "text/plain": [
       "      year                                         experiment  \\\n",
       "177   1986            claude-3-5-sonnet-20240620_report_False   \n",
       "228   1986  claude-3-5-sonnet-20240620_report_False+ag_glo...   \n",
       "192   1986  claude-3-5-sonnet-20240620_report_False+ag_loc...   \n",
       "204   1986  claude-3-5-sonnet-20240620_report_False+claude...   \n",
       "2292  1986  claude-3-5-sonnet-20240620_report_True+claude-...   \n",
       "...    ...                                                ...   \n",
       "3426  1986       ag_local_PatchTSTModel+ag_local_DLinearModel   \n",
       "2571  1986                             ag_local_PatchTSTModel   \n",
       "3597  1986  ag_local_SimpleFeedForwardModel+ag_local_DLine...   \n",
       "3435  1986  ag_local_PatchTSTModel+ag_local_SimpleFeedForw...   \n",
       "390   1986                    ag_local_SimpleFeedForwardModel   \n",
       "\n",
       "                                               category  mean_score  std_score  \n",
       "177   food_cpi: Bakery and cereal products (excludin...    0.028999   0.016868  \n",
       "228   food_cpi: Bakery and cereal products (excludin...    0.029314   0.020991  \n",
       "192   food_cpi: Bakery and cereal products (excludin...    0.029778   0.021896  \n",
       "204   food_cpi: Bakery and cereal products (excludin...    0.030017   0.016140  \n",
       "2292  food_cpi: Bakery and cereal products (excludin...    0.030017   0.016140  \n",
       "...                                                 ...         ...        ...  \n",
       "3426  food_cpi: Bakery and cereal products (excludin...    0.050171   0.033130  \n",
       "2571  food_cpi: Bakery and cereal products (excludin...    0.052984   0.032673  \n",
       "3597  food_cpi: Bakery and cereal products (excludin...    0.053084   0.038383  \n",
       "3435  food_cpi: Bakery and cereal products (excludin...    0.053998   0.039150  \n",
       "390   food_cpi: Bakery and cereal products (excludin...    0.058612   0.043990  \n",
       "\n",
       "[287 rows x 5 columns]"
      ]
     },
     "execution_count": 33,
     "metadata": {},
     "output_type": "execute_result"
    }
   ],
   "source": [
    "overall_mape.loc[overall_mape.category == 'food_cpi: Bakery and cereal products (excluding baby food)'].sort_values('mean_score')"
   ]
  },
  {
   "cell_type": "code",
   "execution_count": 34,
   "id": "skilled-sponsorship",
   "metadata": {},
   "outputs": [
    {
     "data": {
      "text/html": [
       "<div>\n",
       "<style scoped>\n",
       "    .dataframe tbody tr th:only-of-type {\n",
       "        vertical-align: middle;\n",
       "    }\n",
       "\n",
       "    .dataframe tbody tr th {\n",
       "        vertical-align: top;\n",
       "    }\n",
       "\n",
       "    .dataframe thead th {\n",
       "        text-align: right;\n",
       "    }\n",
       "</style>\n",
       "<table border=\"1\" class=\"dataframe\">\n",
       "  <thead>\n",
       "    <tr style=\"text-align: right;\">\n",
       "      <th></th>\n",
       "      <th>category</th>\n",
       "      <th>top_experiment</th>\n",
       "      <th>mean_score</th>\n",
       "      <th>std_score</th>\n",
       "    </tr>\n",
       "  </thead>\n",
       "  <tbody>\n",
       "    <tr>\n",
       "      <th>0</th>\n",
       "      <td>food_cpi: Bakery and cereal products (excludin...</td>\n",
       "      <td>claude-3-5-sonnet-20240620_report_False</td>\n",
       "      <td>0.028999</td>\n",
       "      <td>0.016868</td>\n",
       "    </tr>\n",
       "    <tr>\n",
       "      <th>1</th>\n",
       "      <td>food_cpi: Bakery and cereal products (excludin...</td>\n",
       "      <td>claude-3-5-sonnet-20240620_report_False+ag_glo...</td>\n",
       "      <td>0.029314</td>\n",
       "      <td>0.020991</td>\n",
       "    </tr>\n",
       "    <tr>\n",
       "      <th>2</th>\n",
       "      <td>food_cpi: Bakery and cereal products (excludin...</td>\n",
       "      <td>claude-3-5-sonnet-20240620_report_False+ag_loc...</td>\n",
       "      <td>0.029778</td>\n",
       "      <td>0.021896</td>\n",
       "    </tr>\n",
       "    <tr>\n",
       "      <th>3</th>\n",
       "      <td>food_cpi: Bakery and cereal products (excludin...</td>\n",
       "      <td>claude-3-5-sonnet-20240620_report_False+claude...</td>\n",
       "      <td>0.030017</td>\n",
       "      <td>0.016140</td>\n",
       "    </tr>\n",
       "    <tr>\n",
       "      <th>4</th>\n",
       "      <td>food_cpi: Bakery and cereal products (excludin...</td>\n",
       "      <td>claude-3-5-sonnet-20240620_report_True+claude-...</td>\n",
       "      <td>0.030017</td>\n",
       "      <td>0.016140</td>\n",
       "    </tr>\n",
       "    <tr>\n",
       "      <th>...</th>\n",
       "      <td>...</td>\n",
       "      <td>...</td>\n",
       "      <td>...</td>\n",
       "      <td>...</td>\n",
       "    </tr>\n",
       "    <tr>\n",
       "      <th>85</th>\n",
       "      <td>food_cpi: Vegetables and vegetable preparations</td>\n",
       "      <td>ag_global_cpi_with_covariates_TemporalFusionTr...</td>\n",
       "      <td>0.037786</td>\n",
       "      <td>0.019492</td>\n",
       "    </tr>\n",
       "    <tr>\n",
       "      <th>86</th>\n",
       "      <td>food_cpi: Vegetables and vegetable preparations</td>\n",
       "      <td>ag_local_PatchTSTModel+ag_global_cpi_with_cova...</td>\n",
       "      <td>0.038642</td>\n",
       "      <td>0.019279</td>\n",
       "    </tr>\n",
       "    <tr>\n",
       "      <th>87</th>\n",
       "      <td>food_cpi: Vegetables and vegetable preparations</td>\n",
       "      <td>ag_local_SimpleFeedForwardModel+ag_global_cpi_...</td>\n",
       "      <td>0.038728</td>\n",
       "      <td>0.021783</td>\n",
       "    </tr>\n",
       "    <tr>\n",
       "      <th>88</th>\n",
       "      <td>food_cpi: Vegetables and vegetable preparations</td>\n",
       "      <td>ag_global_cpi_with_covariates_TemporalFusionTr...</td>\n",
       "      <td>0.038728</td>\n",
       "      <td>0.021783</td>\n",
       "    </tr>\n",
       "    <tr>\n",
       "      <th>89</th>\n",
       "      <td>food_cpi: Vegetables and vegetable preparations</td>\n",
       "      <td>ag_global_cpi_with_covariates_TemporalFusionTr...</td>\n",
       "      <td>0.038885</td>\n",
       "      <td>0.018744</td>\n",
       "    </tr>\n",
       "  </tbody>\n",
       "</table>\n",
       "<p>90 rows × 4 columns</p>\n",
       "</div>"
      ],
      "text/plain": [
       "                                             category  \\\n",
       "0   food_cpi: Bakery and cereal products (excludin...   \n",
       "1   food_cpi: Bakery and cereal products (excludin...   \n",
       "2   food_cpi: Bakery and cereal products (excludin...   \n",
       "3   food_cpi: Bakery and cereal products (excludin...   \n",
       "4   food_cpi: Bakery and cereal products (excludin...   \n",
       "..                                                ...   \n",
       "85    food_cpi: Vegetables and vegetable preparations   \n",
       "86    food_cpi: Vegetables and vegetable preparations   \n",
       "87    food_cpi: Vegetables and vegetable preparations   \n",
       "88    food_cpi: Vegetables and vegetable preparations   \n",
       "89    food_cpi: Vegetables and vegetable preparations   \n",
       "\n",
       "                                       top_experiment  mean_score  std_score  \n",
       "0             claude-3-5-sonnet-20240620_report_False    0.028999   0.016868  \n",
       "1   claude-3-5-sonnet-20240620_report_False+ag_glo...    0.029314   0.020991  \n",
       "2   claude-3-5-sonnet-20240620_report_False+ag_loc...    0.029778   0.021896  \n",
       "3   claude-3-5-sonnet-20240620_report_False+claude...    0.030017   0.016140  \n",
       "4   claude-3-5-sonnet-20240620_report_True+claude-...    0.030017   0.016140  \n",
       "..                                                ...         ...        ...  \n",
       "85  ag_global_cpi_with_covariates_TemporalFusionTr...    0.037786   0.019492  \n",
       "86  ag_local_PatchTSTModel+ag_global_cpi_with_cova...    0.038642   0.019279  \n",
       "87  ag_local_SimpleFeedForwardModel+ag_global_cpi_...    0.038728   0.021783  \n",
       "88  ag_global_cpi_with_covariates_TemporalFusionTr...    0.038728   0.021783  \n",
       "89  ag_global_cpi_with_covariates_TemporalFusionTr...    0.038885   0.018744  \n",
       "\n",
       "[90 rows x 4 columns]"
      ]
     },
     "execution_count": 34,
     "metadata": {},
     "output_type": "execute_result"
    }
   ],
   "source": [
    "best_results_year = []\n",
    "\n",
    "for category in target_categories:\n",
    "    # Filter rows for the current category\n",
    "    category_rows = overall_mape.loc[overall_mape.category == category]\n",
    "    \n",
    "    # Get the top 5 experiments with the lowest mean_score\n",
    "    top_rows = category_rows.nsmallest(10, \"mean_score\")\n",
    "    \n",
    "    # Append the results to the list\n",
    "    for _, row in top_rows.iterrows():\n",
    "        best_results_year.append(\n",
    "            {\n",
    "                \"category\": category,\n",
    "                \"top_experiment\": row[\"experiment\"],\n",
    "                \"mean_score\": row[\"mean_score\"],\n",
    "                \"std_score\": row[\"std_score\"],\n",
    "\n",
    "            }\n",
    "        )\n",
    "\n",
    "best_results_year_df = pd.DataFrame(best_results_year)\n",
    "best_results_year_df.to_csv(\n",
    "    f\"./output/{exp_test_description}/best_results_ensembles_llmp_final.csv\", index=False\n",
    ")\n",
    "best_results_year_df\n",
    "\n"
   ]
  },
  {
   "cell_type": "code",
   "execution_count": 35,
   "id": "passive-starter",
   "metadata": {},
   "outputs": [],
   "source": [
    "#Plot Multiple windows\"\n",
    "import matplotlib.pyplot as plt\n",
    "import matplotlib.dates as mdates\n",
    "import pandas as pd\n",
    "\n",
    "def plot_quantile_forecasts_multiple(category, context_df, forecast_dfs_sets, actual_df, cutoff_dates, save_path=None, show_plots=True, model_name=\"\", plot_mean=False):\n",
    "\n",
    "    # Define a list of visually pleasing colors to be used for the different methods\n",
    "    colors = ['#1f77b4', '#ff7f0e', '#2ca02c', '#d62728', '#9467bd', '#8c564b', '#e377c2', '#7f7f7f', '#bcbd22', '#17becf']  # Hex color codes from a color-blind-friendly palette\n",
    "\n",
    "    # Special color for \"Mean Forecast\"\n",
    "    mean_forecast_color = 'gold'  # Magenta for prominence\n",
    "\n",
    "    fig, ax = plt.subplots(figsize=(12,3))\n",
    "\n",
    "    # Context\n",
    "    context_df = pd.concat((context_df, actual_df))\n",
    "    ax.plot(context_df.index, context_df.values, color='black', label='Historical CPI')\n",
    "\n",
    "    # Store the unique legend elements\n",
    "    legend_elements = {}\n",
    "\n",
    "     # This flag ensures that if plot_mean is True, other methods are skipped\n",
    "    found_mean_forecast = False\n",
    "\n",
    "    for set_index, (method_name, forecast_dfs) in enumerate(forecast_dfs_sets):\n",
    "        \n",
    "        # If plot_mean is True, skip all methods that are not \"Mean Forecast\"\n",
    "        if plot_mean and method_name != 'Mean Forecast':\n",
    "            continue\n",
    "\n",
    "        # If plot_mean is False, skip the \"Mean Forecast\"\n",
    "        if not plot_mean and method_name == 'Mean Forecast':\n",
    "            continue\n",
    "\n",
    "        if method_name == 'Mean Forecast':\n",
    "            found_mean_forecast = True  # Set the flag to True since we've encountered the \"Mean Forecast\"\n",
    "            color = mean_forecast_color\n",
    "            alpha_fill = 0.5  # Less transparency for the mean forecast, making it more prominent\n",
    "            alpha_line = 1.0  # Solid line for the median of the mean forecast\n",
    "        else:\n",
    "            color = colors[set_index % len(colors)]  # Cycle through colors list\n",
    "            alpha_fill = 0.2  # More transparency for the filled area\n",
    "            alpha_line = 0.8  # Less transparency for the line\n",
    "\n",
    "        for forecast_df in forecast_dfs:\n",
    "            # Confidence range between 0.05 and 0.95 quantiles\n",
    "            ax.fill_between(\n",
    "                forecast_df.index,\n",
    "                forecast_df[\"q_0.05\"],\n",
    "                forecast_df[\"q_0.95\"],\n",
    "                facecolor=color,\n",
    "                alpha=alpha_fill,\n",
    "                label=f'{method_name} 90% Confidence'\n",
    "            )\n",
    "\n",
    "            # Add a line trace for the median\n",
    "            median_line = ax.plot(\n",
    "                forecast_df.index,\n",
    "                forecast_df[\"q_0.5\"],\n",
    "                color=color,\n",
    "                alpha=alpha_line,\n",
    "            )[0]  # ax.plot returns a list of line2D objects\n",
    "\n",
    "        # Create unique legend elements. It prevents duplication in the legend for the same method.\n",
    "        legend_elements[f'{method_name} 90% Confidence'] = plt.Rectangle((0,0),1,1,fc=color, edgecolor='none', alpha=alpha_fill)\n",
    "\n",
    "    # Update the layout as needed\n",
    "    ax.set_title(f'{category}\\nRetrospective Forecast\\n{model_name}')\n",
    "    ax.set_xlabel('Date')\n",
    "    ax.set_ylabel('CPI (% 2002 Prices)')\n",
    "    for cutoff_date in cutoff_dates:\n",
    "        ax.axvline(pd.to_datetime(cutoff_date), color='black', ls='--', ms=1, alpha=0.5)\n",
    "\n",
    "    # Adding legend elements for each method\n",
    "    ax.legend(legend_elements.values(), legend_elements.keys(), loc='upper left')\n",
    "\n",
    "    ax.xaxis.set_major_locator(mdates.YearLocator())\n",
    "    ax.xaxis.set_major_formatter(mdates.DateFormatter('%Y'))\n",
    "    plt.xticks(rotation=45)\n",
    "\n",
    "    # Show the figure\n",
    "    plt.grid(axis='y')\n",
    "\n",
    "    if show_plots:\n",
    "        plt.show()\n",
    "\n",
    "#     # Save the figure if the path is specified\n",
    "    if save_path:\n",
    "        fig.savefig(save_path, dpi=300 if save_path.endswith(\"png\") else None, transparent=True, bbox_inches='tight')  # High res for png\n",
    "\n",
    "# Usage example:\n",
    "# plot_quantile_forecasts_multiple(category, context_df, [(\"Method1\", forecast_dfs1), (\"Method2\", forecast_dfs2)], actual_df, cutoff_dates, save_path=save_path)\n"
   ]
  },
  {
   "cell_type": "code",
   "execution_count": 36,
   "id": "personal-ontario",
   "metadata": {},
   "outputs": [
    {
     "data": {
      "image/png": "[encoded data removed]",
      "text/plain": [
       "<Figure size 864x216 with 1 Axes>"
      ]
     },
     "metadata": {
      "needs_background": "light"
     },
     "output_type": "display_data"
    },
    {
     "ename": "FileNotFoundError",
     "evalue": "[Errno 2] No such file or directory: '/fs01/home/kupfersk/cfpr_2025/generate_forecasts/output/experiment_analysis/plots/food_cpi: Bakery and cereal products (excluding baby food)_best_ensemble_forecast.png'",
     "output_type": "error",
     "traceback": [
      "\u001b[0;31m---------------------------------------------------------------------------\u001b[0m",
      "\u001b[0;31mFileNotFoundError\u001b[0m                         Traceback (most recent call last)",
      "Input \u001b[0;32mIn [36]\u001b[0m, in \u001b[0;36m<module>\u001b[0;34m\u001b[0m\n\u001b[1;32m     25\u001b[0m save_path \u001b[38;5;241m=\u001b[39m \u001b[38;5;124mf\u001b[39m\u001b[38;5;124m\"\u001b[39m\u001b[38;5;124m./output/experiment_analysis/plots/\u001b[39m\u001b[38;5;132;01m{\u001b[39;00mcategory\u001b[38;5;132;01m}\u001b[39;00m\u001b[38;5;124m_best_ensemble_forecast.png\u001b[39m\u001b[38;5;124m\"\u001b[39m  \u001b[38;5;66;03m# Replace with the actual path if you're saving plots\u001b[39;00m\n\u001b[1;32m     27\u001b[0m \u001b[38;5;66;03m# plot for multiple ensemble methods, including the mean forecast if applicable\u001b[39;00m\n\u001b[0;32m---> 28\u001b[0m \u001b[43mplot_quantile_forecasts_multiple\u001b[49m\u001b[43m(\u001b[49m\u001b[43mcategory\u001b[49m\u001b[43m,\u001b[49m\u001b[43m \u001b[49m\u001b[43mcontext_df\u001b[49m\u001b[43m,\u001b[49m\u001b[43m \u001b[49m\u001b[43mensemble_forecast_data\u001b[49m\u001b[43m,\u001b[49m\u001b[43m \u001b[49m\u001b[43mactual_df\u001b[49m\u001b[43m,\u001b[49m\u001b[43m \u001b[49m\u001b[43mcutoff_dates\u001b[49m\u001b[43m,\u001b[49m\u001b[43m \u001b[49m\u001b[43mmodel_name\u001b[49m\u001b[38;5;241;43m=\u001b[39;49m\u001b[38;5;124;43mf\u001b[39;49m\u001b[38;5;124;43m\"\u001b[39;49m\u001b[38;5;124;43m6-year MAPE: \u001b[39;49m\u001b[38;5;132;43;01m{\u001b[39;49;00m\u001b[43mmean_score\u001b[49m\u001b[38;5;132;43;01m:\u001b[39;49;00m\u001b[38;5;124;43m.4f\u001b[39;49m\u001b[38;5;132;43;01m}\u001b[39;49;00m\u001b[38;5;124;43m\"\u001b[39;49m\u001b[43m,\u001b[49m\u001b[43m \u001b[49m\u001b[43msave_path\u001b[49m\u001b[38;5;241;43m=\u001b[39;49m\u001b[43msave_path\u001b[49m\u001b[43m,\u001b[49m\u001b[43m \u001b[49m\u001b[43mplot_mean\u001b[49m\u001b[38;5;241;43m=\u001b[39;49m\u001b[38;5;28;43;01mFalse\u001b[39;49;00m\u001b[43m)\u001b[49m\n",
      "Input \u001b[0;32mIn [35]\u001b[0m, in \u001b[0;36mplot_quantile_forecasts_multiple\u001b[0;34m(category, context_df, forecast_dfs_sets, actual_df, cutoff_dates, save_path, show_plots, model_name, plot_mean)\u001b[0m\n\u001b[1;32m     88\u001b[0m \u001b[38;5;66;03m#     # Save the figure if the path is specified\u001b[39;00m\n\u001b[1;32m     89\u001b[0m     \u001b[38;5;28;01mif\u001b[39;00m save_path:\n\u001b[0;32m---> 90\u001b[0m         \u001b[43mfig\u001b[49m\u001b[38;5;241;43m.\u001b[39;49m\u001b[43msavefig\u001b[49m\u001b[43m(\u001b[49m\u001b[43msave_path\u001b[49m\u001b[43m,\u001b[49m\u001b[43m \u001b[49m\u001b[43mdpi\u001b[49m\u001b[38;5;241;43m=\u001b[39;49m\u001b[38;5;241;43m300\u001b[39;49m\u001b[43m \u001b[49m\u001b[38;5;28;43;01mif\u001b[39;49;00m\u001b[43m \u001b[49m\u001b[43msave_path\u001b[49m\u001b[38;5;241;43m.\u001b[39;49m\u001b[43mendswith\u001b[49m\u001b[43m(\u001b[49m\u001b[38;5;124;43m\"\u001b[39;49m\u001b[38;5;124;43mpng\u001b[39;49m\u001b[38;5;124;43m\"\u001b[39;49m\u001b[43m)\u001b[49m\u001b[43m \u001b[49m\u001b[38;5;28;43;01melse\u001b[39;49;00m\u001b[43m \u001b[49m\u001b[38;5;28;43;01mNone\u001b[39;49;00m\u001b[43m,\u001b[49m\u001b[43m \u001b[49m\u001b[43mtransparent\u001b[49m\u001b[38;5;241;43m=\u001b[39;49m\u001b[38;5;28;43;01mTrue\u001b[39;49;00m\u001b[43m,\u001b[49m\u001b[43m \u001b[49m\u001b[43mbbox_inches\u001b[49m\u001b[38;5;241;43m=\u001b[39;49m\u001b[38;5;124;43m'\u001b[39;49m\u001b[38;5;124;43mtight\u001b[39;49m\u001b[38;5;124;43m'\u001b[39;49m\u001b[43m)\u001b[49m\n",
      "File \u001b[0;32m~/cfpr_2025/cfpr_2025/miniconda3/envs/cfpr_2025_py3.8/lib/python3.8/site-packages/matplotlib/figure.py:3015\u001b[0m, in \u001b[0;36mFigure.savefig\u001b[0;34m(self, fname, transparent, **kwargs)\u001b[0m\n\u001b[1;32m   3012\u001b[0m         patch\u001b[38;5;241m.\u001b[39mset_facecolor(\u001b[38;5;124m'\u001b[39m\u001b[38;5;124mnone\u001b[39m\u001b[38;5;124m'\u001b[39m)\n\u001b[1;32m   3013\u001b[0m         patch\u001b[38;5;241m.\u001b[39mset_edgecolor(\u001b[38;5;124m'\u001b[39m\u001b[38;5;124mnone\u001b[39m\u001b[38;5;124m'\u001b[39m)\n\u001b[0;32m-> 3015\u001b[0m \u001b[38;5;28;43mself\u001b[39;49m\u001b[38;5;241;43m.\u001b[39;49m\u001b[43mcanvas\u001b[49m\u001b[38;5;241;43m.\u001b[39;49m\u001b[43mprint_figure\u001b[49m\u001b[43m(\u001b[49m\u001b[43mfname\u001b[49m\u001b[43m,\u001b[49m\u001b[43m \u001b[49m\u001b[38;5;241;43m*\u001b[39;49m\u001b[38;5;241;43m*\u001b[39;49m\u001b[43mkwargs\u001b[49m\u001b[43m)\u001b[49m\n\u001b[1;32m   3017\u001b[0m \u001b[38;5;28;01mif\u001b[39;00m transparent:\n\u001b[1;32m   3018\u001b[0m     \u001b[38;5;28;01mfor\u001b[39;00m ax, cc \u001b[38;5;129;01min\u001b[39;00m \u001b[38;5;28mzip\u001b[39m(\u001b[38;5;28mself\u001b[39m\u001b[38;5;241m.\u001b[39maxes, original_axes_colors):\n",
      "File \u001b[0;32m~/cfpr_2025/cfpr_2025/miniconda3/envs/cfpr_2025_py3.8/lib/python3.8/site-packages/matplotlib/backend_bases.py:2255\u001b[0m, in \u001b[0;36mFigureCanvasBase.print_figure\u001b[0;34m(self, filename, dpi, facecolor, edgecolor, orientation, format, bbox_inches, pad_inches, bbox_extra_artists, backend, **kwargs)\u001b[0m\n\u001b[1;32m   2251\u001b[0m \u001b[38;5;28;01mtry\u001b[39;00m:\n\u001b[1;32m   2252\u001b[0m     \u001b[38;5;66;03m# _get_renderer may change the figure dpi (as vector formats\u001b[39;00m\n\u001b[1;32m   2253\u001b[0m     \u001b[38;5;66;03m# force the figure dpi to 72), so we need to set it again here.\u001b[39;00m\n\u001b[1;32m   2254\u001b[0m     \u001b[38;5;28;01mwith\u001b[39;00m cbook\u001b[38;5;241m.\u001b[39m_setattr_cm(\u001b[38;5;28mself\u001b[39m\u001b[38;5;241m.\u001b[39mfigure, dpi\u001b[38;5;241m=\u001b[39mdpi):\n\u001b[0;32m-> 2255\u001b[0m         result \u001b[38;5;241m=\u001b[39m \u001b[43mprint_method\u001b[49m\u001b[43m(\u001b[49m\n\u001b[1;32m   2256\u001b[0m \u001b[43m            \u001b[49m\u001b[43mfilename\u001b[49m\u001b[43m,\u001b[49m\n\u001b[1;32m   2257\u001b[0m \u001b[43m            \u001b[49m\u001b[43mfacecolor\u001b[49m\u001b[38;5;241;43m=\u001b[39;49m\u001b[43mfacecolor\u001b[49m\u001b[43m,\u001b[49m\n\u001b[1;32m   2258\u001b[0m \u001b[43m            \u001b[49m\u001b[43medgecolor\u001b[49m\u001b[38;5;241;43m=\u001b[39;49m\u001b[43medgecolor\u001b[49m\u001b[43m,\u001b[49m\n\u001b[1;32m   2259\u001b[0m \u001b[43m            \u001b[49m\u001b[43morientation\u001b[49m\u001b[38;5;241;43m=\u001b[39;49m\u001b[43morientation\u001b[49m\u001b[43m,\u001b[49m\n\u001b[1;32m   2260\u001b[0m \u001b[43m            \u001b[49m\u001b[43mbbox_inches_restore\u001b[49m\u001b[38;5;241;43m=\u001b[39;49m\u001b[43m_bbox_inches_restore\u001b[49m\u001b[43m,\u001b[49m\n\u001b[1;32m   2261\u001b[0m \u001b[43m            \u001b[49m\u001b[38;5;241;43m*\u001b[39;49m\u001b[38;5;241;43m*\u001b[39;49m\u001b[43mkwargs\u001b[49m\u001b[43m)\u001b[49m\n\u001b[1;32m   2262\u001b[0m \u001b[38;5;28;01mfinally\u001b[39;00m:\n\u001b[1;32m   2263\u001b[0m     \u001b[38;5;28;01mif\u001b[39;00m bbox_inches \u001b[38;5;129;01mand\u001b[39;00m restore_bbox:\n",
      "File \u001b[0;32m~/cfpr_2025/cfpr_2025/miniconda3/envs/cfpr_2025_py3.8/lib/python3.8/site-packages/matplotlib/backend_bases.py:1669\u001b[0m, in \u001b[0;36m_check_savefig_extra_args.<locals>.wrapper\u001b[0;34m(*args, **kwargs)\u001b[0m\n\u001b[1;32m   1661\u001b[0m     _api\u001b[38;5;241m.\u001b[39mwarn_deprecated(\n\u001b[1;32m   1662\u001b[0m         \u001b[38;5;124m'\u001b[39m\u001b[38;5;124m3.3\u001b[39m\u001b[38;5;124m'\u001b[39m, name\u001b[38;5;241m=\u001b[39mname,\n\u001b[1;32m   1663\u001b[0m         message\u001b[38;5;241m=\u001b[39m\u001b[38;5;124m'\u001b[39m\u001b[38;5;132;01m%(name)s\u001b[39;00m\u001b[38;5;124m() got unexpected keyword argument \u001b[39m\u001b[38;5;124m\"\u001b[39m\u001b[38;5;124m'\u001b[39m\n\u001b[1;32m   1664\u001b[0m                 \u001b[38;5;241m+\u001b[39m arg \u001b[38;5;241m+\u001b[39m \u001b[38;5;124m'\u001b[39m\u001b[38;5;124m\"\u001b[39m\u001b[38;5;124m which is no longer supported as of \u001b[39m\u001b[38;5;124m'\u001b[39m\n\u001b[1;32m   1665\u001b[0m                 \u001b[38;5;124m'\u001b[39m\u001b[38;5;132;01m%(since)s\u001b[39;00m\u001b[38;5;124m and will become an error \u001b[39m\u001b[38;5;124m'\u001b[39m\n\u001b[1;32m   1666\u001b[0m                 \u001b[38;5;124m'\u001b[39m\u001b[38;5;132;01m%(removal)s\u001b[39;00m\u001b[38;5;124m'\u001b[39m)\n\u001b[1;32m   1667\u001b[0m     kwargs\u001b[38;5;241m.\u001b[39mpop(arg)\n\u001b[0;32m-> 1669\u001b[0m \u001b[38;5;28;01mreturn\u001b[39;00m \u001b[43mfunc\u001b[49m\u001b[43m(\u001b[49m\u001b[38;5;241;43m*\u001b[39;49m\u001b[43margs\u001b[49m\u001b[43m,\u001b[49m\u001b[43m \u001b[49m\u001b[38;5;241;43m*\u001b[39;49m\u001b[38;5;241;43m*\u001b[39;49m\u001b[43mkwargs\u001b[49m\u001b[43m)\u001b[49m\n",
      "File \u001b[0;32m~/cfpr_2025/cfpr_2025/miniconda3/envs/cfpr_2025_py3.8/lib/python3.8/site-packages/matplotlib/backends/backend_agg.py:509\u001b[0m, in \u001b[0;36mFigureCanvasAgg.print_png\u001b[0;34m(self, filename_or_obj, metadata, pil_kwargs, *args)\u001b[0m\n\u001b[1;32m    462\u001b[0m \u001b[38;5;250m\u001b[39m\u001b[38;5;124;03m\"\"\"\u001b[39;00m\n\u001b[1;32m    463\u001b[0m \u001b[38;5;124;03mWrite the figure to a PNG file.\u001b[39;00m\n\u001b[1;32m    464\u001b[0m \n\u001b[0;32m   (...)\u001b[0m\n\u001b[1;32m    506\u001b[0m \u001b[38;5;124;03m    *metadata*, including the default 'Software' key.\u001b[39;00m\n\u001b[1;32m    507\u001b[0m \u001b[38;5;124;03m\"\"\"\u001b[39;00m\n\u001b[1;32m    508\u001b[0m FigureCanvasAgg\u001b[38;5;241m.\u001b[39mdraw(\u001b[38;5;28mself\u001b[39m)\n\u001b[0;32m--> 509\u001b[0m \u001b[43mmpl\u001b[49m\u001b[38;5;241;43m.\u001b[39;49m\u001b[43mimage\u001b[49m\u001b[38;5;241;43m.\u001b[39;49m\u001b[43mimsave\u001b[49m\u001b[43m(\u001b[49m\n\u001b[1;32m    510\u001b[0m \u001b[43m    \u001b[49m\u001b[43mfilename_or_obj\u001b[49m\u001b[43m,\u001b[49m\u001b[43m \u001b[49m\u001b[38;5;28;43mself\u001b[39;49m\u001b[38;5;241;43m.\u001b[39;49m\u001b[43mbuffer_rgba\u001b[49m\u001b[43m(\u001b[49m\u001b[43m)\u001b[49m\u001b[43m,\u001b[49m\u001b[43m \u001b[49m\u001b[38;5;28;43mformat\u001b[39;49m\u001b[38;5;241;43m=\u001b[39;49m\u001b[38;5;124;43m\"\u001b[39;49m\u001b[38;5;124;43mpng\u001b[39;49m\u001b[38;5;124;43m\"\u001b[39;49m\u001b[43m,\u001b[49m\u001b[43m \u001b[49m\u001b[43morigin\u001b[49m\u001b[38;5;241;43m=\u001b[39;49m\u001b[38;5;124;43m\"\u001b[39;49m\u001b[38;5;124;43mupper\u001b[39;49m\u001b[38;5;124;43m\"\u001b[39;49m\u001b[43m,\u001b[49m\n\u001b[1;32m    511\u001b[0m \u001b[43m    \u001b[49m\u001b[43mdpi\u001b[49m\u001b[38;5;241;43m=\u001b[39;49m\u001b[38;5;28;43mself\u001b[39;49m\u001b[38;5;241;43m.\u001b[39;49m\u001b[43mfigure\u001b[49m\u001b[38;5;241;43m.\u001b[39;49m\u001b[43mdpi\u001b[49m\u001b[43m,\u001b[49m\u001b[43m \u001b[49m\u001b[43mmetadata\u001b[49m\u001b[38;5;241;43m=\u001b[39;49m\u001b[43mmetadata\u001b[49m\u001b[43m,\u001b[49m\u001b[43m \u001b[49m\u001b[43mpil_kwargs\u001b[49m\u001b[38;5;241;43m=\u001b[39;49m\u001b[43mpil_kwargs\u001b[49m\u001b[43m)\u001b[49m\n",
      "File \u001b[0;32m~/cfpr_2025/cfpr_2025/miniconda3/envs/cfpr_2025_py3.8/lib/python3.8/site-packages/matplotlib/image.py:1616\u001b[0m, in \u001b[0;36mimsave\u001b[0;34m(fname, arr, vmin, vmax, cmap, format, origin, dpi, metadata, pil_kwargs)\u001b[0m\n\u001b[1;32m   1614\u001b[0m pil_kwargs\u001b[38;5;241m.\u001b[39msetdefault(\u001b[38;5;124m\"\u001b[39m\u001b[38;5;124mformat\u001b[39m\u001b[38;5;124m\"\u001b[39m, \u001b[38;5;28mformat\u001b[39m)\n\u001b[1;32m   1615\u001b[0m pil_kwargs\u001b[38;5;241m.\u001b[39msetdefault(\u001b[38;5;124m\"\u001b[39m\u001b[38;5;124mdpi\u001b[39m\u001b[38;5;124m\"\u001b[39m, (dpi, dpi))\n\u001b[0;32m-> 1616\u001b[0m \u001b[43mimage\u001b[49m\u001b[38;5;241;43m.\u001b[39;49m\u001b[43msave\u001b[49m\u001b[43m(\u001b[49m\u001b[43mfname\u001b[49m\u001b[43m,\u001b[49m\u001b[43m \u001b[49m\u001b[38;5;241;43m*\u001b[39;49m\u001b[38;5;241;43m*\u001b[39;49m\u001b[43mpil_kwargs\u001b[49m\u001b[43m)\u001b[49m\n",
      "File \u001b[0;32m~/cfpr_2025/cfpr_2025/miniconda3/envs/cfpr_2025_py3.8/lib/python3.8/site-packages/PIL/Image.py:2563\u001b[0m, in \u001b[0;36mImage.save\u001b[0;34m(self, fp, format, **params)\u001b[0m\n\u001b[1;32m   2561\u001b[0m         fp \u001b[38;5;241m=\u001b[39m builtins\u001b[38;5;241m.\u001b[39mopen(filename, \u001b[38;5;124m\"\u001b[39m\u001b[38;5;124mr+b\u001b[39m\u001b[38;5;124m\"\u001b[39m)\n\u001b[1;32m   2562\u001b[0m     \u001b[38;5;28;01melse\u001b[39;00m:\n\u001b[0;32m-> 2563\u001b[0m         fp \u001b[38;5;241m=\u001b[39m \u001b[43mbuiltins\u001b[49m\u001b[38;5;241;43m.\u001b[39;49m\u001b[43mopen\u001b[49m\u001b[43m(\u001b[49m\u001b[43mfilename\u001b[49m\u001b[43m,\u001b[49m\u001b[43m \u001b[49m\u001b[38;5;124;43m\"\u001b[39;49m\u001b[38;5;124;43mw+b\u001b[39;49m\u001b[38;5;124;43m\"\u001b[39;49m\u001b[43m)\u001b[49m\n\u001b[1;32m   2564\u001b[0m \u001b[38;5;28;01melse\u001b[39;00m:\n\u001b[1;32m   2565\u001b[0m     fp \u001b[38;5;241m=\u001b[39m cast(IO[\u001b[38;5;28mbytes\u001b[39m], fp)\n",
      "\u001b[0;31mFileNotFoundError\u001b[0m: [Errno 2] No such file or directory: '/fs01/home/kupfersk/cfpr_2025/generate_forecasts/output/experiment_analysis/plots/food_cpi: Bakery and cereal products (excluding baby food)_best_ensemble_forecast.png'"
     ]
    }
   ],
   "source": [
    "import pandas as pd\n",
    "import numpy as np\n",
    "import matplotlib.pyplot as plt\n",
    "\n",
    "cutoff_dates = report_sim_dates\n",
    "\n",
    "for index, (category, top_experiment, mean_score, std_score) in best_results_year_df.iterrows():\n",
    "    ensemble_experiments = top_experiment.split('+')\n",
    "\n",
    "    ensemble_forecast_data = []\n",
    "\n",
    "    for ensemble_experiment in ensemble_experiments:\n",
    "        forecast_dfs = []\n",
    "        for date in cutoff_dates:\n",
    "            forecast_csv_path = f\"./output/Full_Report/{ensemble_experiment}/random_seed_{random_seed}/{date}/forecasts/{category}.csv\"\n",
    "            forecast_df = pd.read_csv(forecast_csv_path, index_col=0).iloc[-18:]\n",
    "            forecast_df.index = pd.to_datetime(forecast_df.index)\n",
    "            forecast_dfs.append(forecast_df)\n",
    "\n",
    "        ensemble_forecast_data.append((ensemble_experiment, forecast_dfs))\n",
    "\n",
    "    context_df = foodprice_df.loc[(foodprice_df.index > \"2010-01-01\") & (foodprice_df.index <= cutoff_dates[0])][category]\n",
    "    actual_df = foodprice_df.loc[foodprice_df.index >= cutoff_dates[0]][category]\n",
    "\n",
    "    save_path = f\"./output/experiment_analysis/plots/{category}_best_ensemble_forecast.png\"  # Replace with the actual path if you're saving plots\n",
    "\n",
    "    # plot for multiple ensemble methods, including the mean forecast if applicable\n",
    "    plot_quantile_forecasts_multiple(category, context_df, ensemble_forecast_data, actual_df, cutoff_dates, model_name=f\"6-year MAPE: {mean_score:.4f}\", save_path=save_path, plot_mean=False)"
   ]
  },
  {
   "cell_type": "code",
   "execution_count": null,
   "id": "photographic-desktop",
   "metadata": {},
   "outputs": [],
   "source": [
    "results = []\n",
    "# Iterate through each row in best_results_year_df (Table 1)\n",
    "for _, best_row in best_results_year_df.iterrows():\n",
    "    category = best_row['category']\n",
    "    top_experiment = best_row['top_experiment']\n",
    "    mean_score_best = best_row['mean_score']\n",
    "    \n",
    "    # Find matching rows in mape_df (Table 2) based on category\n",
    "    matching_rows = mape_df[mape_df['category'] == category]\n",
    "    \n",
    "    # Iterate through matching rows and check if the experiment matches the top_experiment\n",
    "    for _, mape_row in matching_rows.iterrows():\n",
    "        if top_experiment in mape_row['experiment']:\n",
    "            if mean_score_best == mape_row['mean_score']:\n",
    "                if category == mape_row['category']:\n",
    "\n",
    "                    # Store the result (category, top_experiment, mean_score, etc.)\n",
    "                    results.append({\n",
    "                        'category': category,\n",
    "                        'top_experiment': top_experiment,\n",
    "                        'mean_score_best': best_row['mean_score'],\n",
    "                        'mean_score_mape': mape_row['mean_score'],\n",
    "                        'std_score': mape_row['std_score'],\n",
    "                        'scores': mape_row['scores']\n",
    "                    })\n",
    "                    break\n",
    "\n",
    "# Convert results to DataFrame\n",
    "results_df = pd.DataFrame(results)\n",
    "results_df"
   ]
  },
  {
   "cell_type": "code",
   "execution_count": null,
   "id": "colored-fraud",
   "metadata": {},
   "outputs": [],
   "source": [
    "results_df"
   ]
  },
  {
   "cell_type": "markdown",
   "id": "honest-enterprise",
   "metadata": {},
   "source": [
    "# Plot quantile forecasts for each category"
   ]
  },
  {
   "cell_type": "code",
   "execution_count": null,
   "id": "ethical-jefferson",
   "metadata": {},
   "outputs": [],
   "source": [
    "# Assuming your DataFrame is named 'df' and the column with MAPE lists is 'scores'\n",
    "# Create a new DataFrame to store the expanded columns for each evaluation window\n",
    "expanded_df = pd.DataFrame()\n",
    "\n",
    "# Loop through each row in the original DataFrame\n",
    "for index, row in results_df.iterrows():\n",
    "    mape_list = row['scores']  # Assuming the column with MAPE lists is named 'scores'\n",
    "    \n",
    "    # Create a dictionary for the new row\n",
    "    new_row = {\n",
    "        'experiment': row['top_experiment'],    # Retain experiment name\n",
    "        'category': row['category'],        # Retain category\n",
    "        'scores': row['scores']                 # Retain path\n",
    "    }\n",
    "    \n",
    "    # Add each evaluation window's score as a new column\n",
    "    for i, score in enumerate(mape_list):\n",
    "        new_row['eval_window_'+report_sim_dates[i]] = score\n",
    "    \n",
    "    # Append the new row to the expanded DataFrame\n",
    "    expanded_df = expanded_df.append(new_row, ignore_index=True)\n",
    "expanded_df\n"
   ]
  },
  {
   "cell_type": "code",
   "execution_count": null,
   "id": "deadly-canvas",
   "metadata": {},
   "outputs": [],
   "source": [
    "import seaborn as sns\n",
    "import matplotlib.pyplot as plt\n",
    "\n",
    "def plot_category(df, category):\n",
    "\n",
    "    # Assuming `expanded_df` is the DataFrame from the previous step with columns for each evaluation window\n",
    "    #Set the index to 'experiment' for better visualization\n",
    "    df.set_index('experiment', inplace=True)\n",
    "    \n",
    "    # Select only the columns related to evaluation windows (eval_window_0, eval_window_1, ...)\n",
    "    eval_columns = [col for col in df.columns if 'eval_window_' in col]\n",
    "\n",
    "    # Create the heatmap using seaborn\n",
    "    plt.figure(figsize=(15, 12))  # Adjust the size of the heatmap as needed\n",
    "    sns.heatmap(df[eval_columns], annot=True, cmap='coolwarm', linewidths=0.5)\n",
    "\n",
    "    # Set the title and labels\n",
    "    plt.title(f'Heatmap of Evaluation Window Scores For {category} Across Experiments', fontsize=16)\n",
    "    plt.xlabel('Evaluation Windows')\n",
    "    plt.ylabel('Experiment')\n",
    "\n",
    "    # Show the heatmap\n",
    "    plt.show()"
   ]
  },
  {
   "cell_type": "code",
   "execution_count": null,
   "id": "limited-grill",
   "metadata": {},
   "outputs": [],
   "source": [
    "for category in target_categories:\n",
    "    df_filt = expanded_df.sort_values('experiment').loc[expanded_df['category']==category]\n",
    "    plot_category(df_filt, category)"
   ]
  },
  {
   "cell_type": "code",
   "execution_count": null,
   "id": "guided-conservative",
   "metadata": {},
   "outputs": [],
   "source": [
    "expanded_df.sort_values('experiment')"
   ]
  },
  {
   "cell_type": "code",
   "execution_count": null,
   "id": "hispanic-holder",
   "metadata": {},
   "outputs": [],
   "source": []
  }
 ],
 "metadata": {
  "kernelspec": {
   "display_name": "cfpr_2025_py3.8",
   "language": "python",
   "name": "cfpr_2025_py3.8"
  },
  "language_info": {
   "codemirror_mode": {
    "name": "ipython",
    "version": 3
   },
   "file_extension": ".py",
   "mimetype": "text/x-python",
   "name": "python",
   "nbconvert_exporter": "python",
   "pygments_lexer": "ipython3",
   "version": "3.8.20"
  }
 },
 "nbformat": 4,
 "nbformat_minor": 5
}
