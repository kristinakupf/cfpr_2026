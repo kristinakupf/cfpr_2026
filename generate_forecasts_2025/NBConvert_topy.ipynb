{
 "cells": [
  {
   "cell_type": "code",
   "execution_count": 34,
   "id": "noticed-valuable",
   "metadata": {},
   "outputs": [
    {
     "name": "stdout",
     "output_type": "stream",
     "text": [
      "[NbConvertApp] Converting notebook /h/kupfersk/cfpr_2025/generate_forecasts/autogluon_generate_FullReport.ipynb to script\n",
      "[NbConvertApp] Writing 7540 bytes to /h/kupfersk/cfpr_2025/generate_forecasts/autogluon_generate_FullReport.py\n"
     ]
    }
   ],
   "source": [
    "!jupyter nbconvert --to script /h/kupfersk/cfpr_2025/generate_forecasts/autogluon_generate_FullReport.ipynb"
   ]
  },
  {
   "cell_type": "code",
   "execution_count": 35,
   "id": "proof-stuff",
   "metadata": {},
   "outputs": [
    {
     "name": "stdout",
     "output_type": "stream",
     "text": [
      "[NbConvertApp] Converting notebook /h/kupfersk/cfpr_2025/generate_forecasts/autogluon_generate_baseline_LLMP.ipynb to script\n",
      "[NbConvertApp] Writing 7227 bytes to /h/kupfersk/cfpr_2025/generate_forecasts/autogluon_generate_baseline_LLMP.py\n"
     ]
    }
   ],
   "source": [
    "!jupyter nbconvert --to script /h/kupfersk/cfpr_2025/generate_forecasts/autogluon_generate_baseline_LLMP.ipynb"
   ]
  },
  {
   "cell_type": "code",
   "execution_count": 36,
   "id": "endless-luxembourg",
   "metadata": {},
   "outputs": [
    {
     "name": "stdout",
     "output_type": "stream",
     "text": [
      "[NbConvertApp] Converting notebook /h/kupfersk/cfpr_2025/generate_forecasts/autogluon_generate_FullReport_VarSelect.ipynb to script\n",
      "[NbConvertApp] Writing 7395 bytes to /h/kupfersk/cfpr_2025/generate_forecasts/autogluon_generate_FullReport_VarSelect.py\n"
     ]
    }
   ],
   "source": [
    "!jupyter nbconvert --to script /h/kupfersk/cfpr_2025/generate_forecasts/autogluon_generate_FullReport_VarSelect.ipynb"
   ]
  },
  {
   "cell_type": "code",
   "execution_count": 37,
   "id": "immediate-facing",
   "metadata": {},
   "outputs": [
    {
     "name": "stdout",
     "output_type": "stream",
     "text": [
      "[NbConvertApp] Converting notebook /h/kupfersk/cfpr_2025/generate_forecasts/autogluon_generate_FullReport_VarSelect_Filt_20192020.ipynb to script\n",
      "[NbConvertApp] Writing 7240 bytes to /h/kupfersk/cfpr_2025/generate_forecasts/autogluon_generate_FullReport_VarSelect_Filt_20192020.py\n"
     ]
    }
   ],
   "source": [
    "!jupyter nbconvert --to script /h/kupfersk/cfpr_2025/generate_forecasts/autogluon_generate_FullReport_VarSelect_Filt_20192020.ipynb"
   ]
  },
  {
   "cell_type": "code",
   "execution_count": 38,
   "id": "official-street",
   "metadata": {},
   "outputs": [
    {
     "name": "stdout",
     "output_type": "stream",
     "text": [
      "[NbConvertApp] Converting notebook /h/kupfersk/cfpr_2025/generate_forecasts/autogluon_generate_FullReport_VarSelect_Filt_20212022.ipynb to script\n",
      "[NbConvertApp] Writing 7333 bytes to /h/kupfersk/cfpr_2025/generate_forecasts/autogluon_generate_FullReport_VarSelect_Filt_20212022.py\n"
     ]
    }
   ],
   "source": [
    "!jupyter nbconvert --to script /h/kupfersk/cfpr_2025/generate_forecasts/autogluon_generate_FullReport_VarSelect_Filt_20212022.ipynb"
   ]
  },
  {
   "cell_type": "code",
   "execution_count": 39,
   "id": "purple-contest",
   "metadata": {},
   "outputs": [
    {
     "name": "stdout",
     "output_type": "stream",
     "text": [
      "[NbConvertApp] Converting notebook /h/kupfersk/cfpr_2025/generate_forecasts/autogluon_generate_FullReport_VarSelect_Filt_2018.ipynb to script\n",
      "[NbConvertApp] Writing 7238 bytes to /h/kupfersk/cfpr_2025/generate_forecasts/autogluon_generate_FullReport_VarSelect_Filt_2018.py\n"
     ]
    }
   ],
   "source": [
    "!jupyter nbconvert --to script /h/kupfersk/cfpr_2025/generate_forecasts/autogluon_generate_FullReport_VarSelect_Filt_2018.ipynb"
   ]
  },
  {
   "cell_type": "code",
   "execution_count": 40,
   "id": "nonprofit-tension",
   "metadata": {},
   "outputs": [
    {
     "name": "stdout",
     "output_type": "stream",
     "text": [
      "[NbConvertApp] Converting notebook /h/kupfersk/cfpr_2025/generate_forecasts/autogluon_generate_FullReport_Forecasts.ipynb to script\n",
      "[NbConvertApp] Writing 9851 bytes to /h/kupfersk/cfpr_2025/generate_forecasts/autogluon_generate_FullReport_Forecasts.py\n"
     ]
    }
   ],
   "source": [
    "!jupyter nbconvert --to script /h/kupfersk/cfpr_2025/generate_forecasts/autogluon_generate_FullReport_Forecasts.ipynb"
   ]
  },
  {
   "cell_type": "code",
   "execution_count": 41,
   "id": "subjective-sociology",
   "metadata": {},
   "outputs": [
    {
     "name": "stdout",
     "output_type": "stream",
     "text": [
      "[NbConvertApp] Converting notebook /h/kupfersk/cfpr_2025/generate_forecasts/autogluon_generate_exp2_Individual-Simple.ipynb to script\n",
      "[NbConvertApp] Writing 7483 bytes to /h/kupfersk/cfpr_2025/generate_forecasts/autogluon_generate_exp2_Individual-Simple.py\n"
     ]
    }
   ],
   "source": [
    "!jupyter nbconvert --to script /h/kupfersk/cfpr_2025/generate_forecasts/autogluon_generate_exp2_Individual-Simple.ipynb"
   ]
  },
  {
   "cell_type": "code",
   "execution_count": 42,
   "id": "complete-plenty",
   "metadata": {},
   "outputs": [
    {
     "name": "stdout",
     "output_type": "stream",
     "text": [
      "[NbConvertApp] Converting notebook /h/kupfersk/cfpr_2025/generate_forecasts/autogluon_generate_exp2_Individual_TFT.ipynb to script\n",
      "[NbConvertApp] Writing 7481 bytes to /h/kupfersk/cfpr_2025/generate_forecasts/autogluon_generate_exp2_Individual_TFT.py\n"
     ]
    }
   ],
   "source": [
    "!jupyter nbconvert --to script /h/kupfersk/cfpr_2025/generate_forecasts/autogluon_generate_exp2_Individual_TFT.ipynb"
   ]
  },
  {
   "cell_type": "code",
   "execution_count": 43,
   "id": "dental-posting",
   "metadata": {},
   "outputs": [
    {
     "name": "stdout",
     "output_type": "stream",
     "text": [
      "[NbConvertApp] Converting notebook /h/kupfersk/cfpr_2025/generate_forecasts/autogluon_generate_FullReport_VarSelect_ind_cat.ipynb to script\n",
      "[NbConvertApp] Writing 7411 bytes to /h/kupfersk/cfpr_2025/generate_forecasts/autogluon_generate_FullReport_VarSelect_ind_cat.py\n"
     ]
    }
   ],
   "source": [
    "!jupyter nbconvert --to script /h/kupfersk/cfpr_2025/generate_forecasts/autogluon_generate_FullReport_VarSelect_ind_cat.ipynb"
   ]
  },
  {
   "cell_type": "code",
   "execution_count": null,
   "id": "moral-trouble",
   "metadata": {},
   "outputs": [],
   "source": []
  }
 ],
 "metadata": {
  "kernelspec": {
   "display_name": "mh_env",
   "language": "python",
   "name": "mh_env"
  },
  "language_info": {
   "codemirror_mode": {
    "name": "ipython",
    "version": 3
   },
   "file_extension": ".py",
   "mimetype": "text/x-python",
   "name": "python",
   "nbconvert_exporter": "python",
   "pygments_lexer": "ipython3",
   "version": "3.7.10"
  }
 },
 "nbformat": 4,
 "nbformat_minor": 5
}
